{
 "cells": [
  {
   "cell_type": "markdown",
   "metadata": {},
   "source": [
    "# RAG with Ollama\n",
    "\n",
    "\n",
    "> Note: Before proceeding further you need to download and run Ollama: https://ollama.com/.\n",
    "\n",
    "This notebook demonstrates how to use the `rag` model with Ollama. \n",
    "Source: https://dev.to/mohsin_rashid_13537f11a91/rag-with-ollama-1049"
   ]
  },
  {
   "cell_type": "markdown",
   "metadata": {},
   "source": [
    "* Import Libraries"
   ]
  },
  {
   "cell_type": "code",
   "execution_count": 1,
   "metadata": {},
   "outputs": [],
   "source": [
    "from langchain_ollama import OllamaLLM\n",
    "from langchain_ollama.embeddings import OllamaEmbeddings\n",
    "\n",
    "from langchain_core.documents import Document\n",
    "from langchain.text_splitter import RecursiveCharacterTextSplitter\n",
    "from langchain_chroma import Chroma\n",
    "from langchain.chains import create_retrieval_chain\n",
    "from langchain import hub\n",
    "from langchain.chains.combine_documents import create_stuff_documents_chain\n",
    "from uuid import uuid4\n",
    "\n",
    "from datasets import load_dataset\n",
    "import pandas as pd"
   ]
  },
  {
   "cell_type": "markdown",
   "metadata": {},
   "source": [
    "From the command line:\n",
    "\n",
    "* Llama model :\n",
    "\n",
    "```bash\n",
    "ollama run llama3.2\n",
    "```\n",
    "\n",
    "* Mistral7B model :\n",
    "\n",
    "```bash\n",
    "ollama run mistral\n",
    "```\n",
    "\n",
    "* Mistral NeMo (12B)\n",
    "\n",
    "```bash\n",
    "ollama run mistral-nemo\n",
    "```\n",
    "\n"
   ]
  },
  {
   "cell_type": "markdown",
   "metadata": {},
   "source": [
    "* Loading The LLM (Language Model)"
   ]
  },
  {
   "cell_type": "code",
   "execution_count": 2,
   "metadata": {},
   "outputs": [],
   "source": [
    "#model_name = \"mistral\"\n",
    "model_name = \"llama3.2\"\n",
    "\n",
    "llm = OllamaLLM(model=model_name, base_url=\"http://127.0.0.1:11434\")"
   ]
  },
  {
   "cell_type": "markdown",
   "metadata": {},
   "source": [
    "* Setting Ollama Embeddings"
   ]
  },
  {
   "cell_type": "code",
   "execution_count": 3,
   "metadata": {},
   "outputs": [],
   "source": [
    "embed_model = OllamaEmbeddings(\n",
    "    model=model_name,\n",
    "    base_url='http://127.0.0.1:11434'\n",
    ")"
   ]
  },
  {
   "cell_type": "markdown",
   "metadata": {},
   "source": [
    "* Loading Text"
   ]
  },
  {
   "cell_type": "code",
   "execution_count": 4,
   "metadata": {},
   "outputs": [],
   "source": [
    "ds = load_dataset(\"GEODE/GeoEDdA\")"
   ]
  },
  {
   "cell_type": "code",
   "execution_count": 5,
   "metadata": {},
   "outputs": [],
   "source": [
    "#dfs = []\n",
    "#for key in ds.keys():\n",
    "#    dfs.append(pd.DataFrame({'dataset':key, 'text':ds[key]['text'], 'meta':ds[key]['meta']}))\n",
    "#df = pd.concat(dfs, ignore_index=True)\n",
    "\n",
    "#text = \" \".join(df.text.to_list())"
   ]
  },
  {
   "cell_type": "code",
   "execution_count": 18,
   "metadata": {},
   "outputs": [],
   "source": [
    "nb_docs = 100\n",
    "head = False\n",
    "chunk_size = 300 # can be None\n",
    "chunk_overlap = 50"
   ]
  },
  {
   "cell_type": "code",
   "execution_count": 19,
   "metadata": {},
   "outputs": [
    {
     "data": {
      "text/plain": [
       "['COMPIEGNE, (Géog. mod.) ville de France, dans l\\'île de France. Long. 20d. 29\\'. 41\". lat. 49d. 24\\'. 59\".',\n",
       " \"HILPERHAUSEN, (Géog.) ville d'Allemagne en Franconie, sur la Werra, au comté de Henneberg, entre Cobourg & Smalcalde ; elle appartient à une branche de la maison de Saxe-Gotha. Long. 28. 15. lat. 50. 35. (D. J.)\",\n",
       " \"Patane ou Patany, (Géog. mod.) royaume des Indes dans la presqu'île de Malaca, sur la côte orientale, entre le royaume de Siam & de Paha. Les habitans sont en partie mahométans & en partie payens. Les Chinois font avec eux un grand commerce ; on n'y distingue que deux saisons, l'hiver & l'été; l'hiver dure pendant les mois de Novembre, Décembre & Janvier, pendant lesquels il pleut sans cesse. Les bois sont remplis d'éléphans, de sangliers & de guenons. Le royaume, dit Gervaise, releve du roi de Siam, & est gouverné par une reine qui ne peut se marier, mais qui peut avoir des amans tant qu'elle veut. La lubricité des femmes y est si grande, que les hommes sont contraints de se faire de certaines garnitures pour se mettre à l'abri de leurs entreprises. C'est là, c'est aux Maldives, c'est à Bantan, que la nature a une force & la pudeur une foiblesse qu'on ne peut comprendre ; c'est-là, dit M. de Montesquieu, qu'on voit jusqu'à quel point les vices du climat laissés dans la liberté, peuvent porter le désordre. Long. 119. lat. 7. (D. J.)\",\n",
       " \"* ABYDE ou ABYDOS, sub. Ville maritime de Phrygie vis-à-vis de Sestos. Xercès joignit ces deux endroits éloignés l'un de l'autre de sept stades, par le pont qu'il jetta sur l'Hellespont.\",\n",
       " 'DUSSELDORP, (Géog. mod.) ville du cercle de Westphalie, capitale du duché de Berg en Allemagne ; elle est sur un ruisseau près du Rhin. Long. 24. 28. lat. 51. 12.',\n",
       " 'ENTREVAUX, (Géog.) ville de Provence, en France ; elle est située sur le Var. Long. 24. 46. lat. 44. 1.',\n",
       " \"Canée, (la) Géog. ville forte de l'île de Candie, avec un port. Long. 41. 43. lat. 35. 28.\",\n",
       " \"MARSYAS, (Géog. anc.) fleuve de l'Asie mineure, aux environs de la Phrygie ou de la Troade. Il sortoit de la même source que le Méandre, & après avoir traversé la ville Célaene, ils se partageoient, & prenoient chacun leur nom. (D.J.)\",\n",
       " 'OOSTERGO, (Géog.) partie orientale de la Frise. Elle contient onze préfectures & deux villes, savoir Leuwarden & Dockum.',\n",
       " \"FUNG, (Géog.) ville de la Chine, dans la province de Nankin. Le P. Martini lui donne 35d 20' de lat. & le fait de 35d plus orientale que Peking. (D. J.)\",\n",
       " 'Gènes, (Géog.) Genua ; & dans les siecles ignorans du moyen âge, Janua, comme si Janus en étoit le fondateur ; ancienne, forte, riche ville, & l\\'une des principales d\\'Italie, capitale de la république de Gènes, avec un archevêché & un bon port. Les églises, les édifices publics & les palais y sont magnifiques : les palais se suivent sans être joints avec des maisons ordinaires ; ce qui fait le plus bel effet qu\\'on puisse desirer. Cette ville commerçante est presque au milieu de l\\'état de Gènes, en partie dans la plaine, & en partie sur une colline près de la Méditerranée, dans une heureuse & riante situation, à 28 lieues sud-oüest de Milan, 25 sud-est de Turin, 26 sud-oüest de Parme, 45 nord-oüest de Florence, 90 nord-oüest de Rome. Long. suivant Salvego, Cassini & le pere Grimaldi, 26d. 7\\'. 15\". latit. 44d. 25\\'. 0\". (D. J.)',\n",
       " '* ABBEVILLE, ville considérable de France, sur la riviere de Somme qui la partage, dans la Basse-Picardie, capitale du Comté de Ponthieu. Long. 19 d. 19\\'. 40\". lat. trouvée de 50 d. 6\\'. 55\". par M. Cassini en 1688. Voyez Hist. Acad. page 56.',\n",
       " \"TASCHKANT, (Géog. mod.) petite ville de la Tartarie, sur la droite de la Sirri ; c'est la résidence d'hiver du chan des Tartares de la Casatschia-Orda. Long. 92. 40. latit. 45. (D. J.)\",\n",
       " \"* BIELLA ou BIELA, petite ville d'Italie dans le Piémont, capitale du Bellese, près de la riviere de Cerva. Long. 25. 33. lat. 45. 22.\",\n",
       " \"NICASTRO, (Géog.) en latin Neocastrum ; petite ville d'Italie au royaume de Naples dans la Calabre ultérieure, à 2 lieues du golfe de sainte Euphémie, avec un évêché suffragant de Reggio. Elle fut presque ruinée en 1638 par un tremblement de terre. Long. 33. 30. lat. 38. 10.\",\n",
       " \"La Hongrie en Europe est un grand pays d'Europe sur le Danube : soit que les Hongrois soient descendans des Huns, soit qu'ils n'ayent rien de commun avec eux que de leur avoir succédé, non contens des terres qu'ils possédoient à l'orient du Danube, ils le passerent & s'établirent dans les deux Pannonies.\",\n",
       " \"* AREZZO, (Géog.) ancienne ville d'Italie, dans la Toscane, & le territoire de Florence. Long. 29. 32. lat. 43. 27.\",\n",
       " \"* BEFORT, (Géog.) ville de France capitale du Sundgaw, au haut d'une montagne. Lon. 24. 32. 30. lat. 47. 38. 18.\",\n",
       " 'SOLIGNAC, (Géogr. mod.) petite ville ou plûtôt bourg de France dans le Velay, sur la gauche de la Loire, & à deux lieues au midi de Puy, capitale du Velay. Long. 21. 23. latit. 45. 26. (D. J.)',\n",
       " 'WILKOMIR, (Géog. mod.) ville du grand duché de Lithuanie, dans le palatinat de Wilna, sur la Swieta, à 14 lieues de la ville de Wilna. (D. J.)',\n",
       " \"SARCA la, (Géog. mod.) riviere d'Allemagne, dans le Trentin ; elle a sa source aux montagnes qui séparent le Bressan du Trentin, & après un assez long cours serpentin, elle se jette dans la partie septentrionale du lac de Garde, entre Riva & Torbole ; là elle perd son nom, car en sortant de ce lac elle s'appelle le Mincio. (D. J.)\",\n",
       " \"CARHAIX, (Géog.) petite ville de France, en basse Bretagne, fameuse par la bonté des perdrix qui s'y trouvent.\",\n",
       " \"La haute Guinée est bornée au sud par l'Océan, & comprend divers pays que l'on trouve de suite & qu'on subdivise chacun en divers royaumes, dont les nom, changent à mesure qu'on avance d'occident en orient : ces pays sont la côte de Malaguette, la côte des Dents, la côte d'Or, les royaumes de Juda, du grand Ardre, & de Bénin. Tout le négoce des Européens se fait sur les côtes des lieux que nous venons de nommer.\",\n",
       " \"MACARON-NÉSOS, (Géog. anc.) en grec Μακάρων νῆσος ; c'étoit le nom de la citadelle de Thebes, en Béotie, & Thèbes même porta ce nom. (D. J.)\",\n",
       " \"* BALLON (Géog.) ville de France, au diocese du Mans, sur la rive droite de l'Orne. Long. 17. 50. lat. 48. 10.\",\n",
       " 'DOMFRONT, (Géog. mod.) ville de Normandie en France. Long. 16. 58. lat. 48. 34.',\n",
       " \"KILMALOCK, (Géog.) ville d'Irlande, dans la province de Muonster, au comté de Limerick, dont elle est à 16 milles au S. Long. 8. 46. lat. 52. 58. (D. J.)\",\n",
       " \"EUSUGAGUEN, (Géog. mod.) ville de la province d'Héa, au royaume de Maroc, en Afrique.\",\n",
       " \"GOLCONDE, (Géogr.) royaume d'Asie dans la presqu'ile de l'Inde, en-deçà du Gange ; il est borné au nord par la province de Bérar, au nord-est par la riviere de Narsepille qui le sépare du royaume d'Orixa, au sud-est par le golfe de Bengale, & au sud par la riviere de Coulour. La plus grande partie des terres y est si fertile, qu'on y fait deux récoltes de riz par an, & quelquefois trois. Il est arrosé de plusieurs rivieres, & a deux ports très-avantageux, savoir Narsapour & Mazulipatan ; son commerce consiste en toiles de coton peintes, en botilles fines, en riz & en indigo ; mais ses fameuses mines de diamant sont sa plus grande richesse, & celle-là même qui porta Aureng-zeb à conquérir le pays qui possédoit dans son sein des trésors si précieux. Depuis ce tems-là le royaume de Golconde fait partie des états du grand-mogol ; la ville de Golconde autrefois nommee Bagnagar, en est la capitale. La longit. de cette ville est par les 124d 40'. lat. 19d. 40'. & selon le pere Noël, seulement 17d. (D. J.)\",\n",
       " \"CALIFORNIE, (Géog.) grande presqu'île de l'Amérique septentrionale, au nord de la mer du sud, habitée par des sauvages qui adorent la lune ; chaque famille y vit à son gré, sans être soumise à aucune forme de gouvernement. Les Espagnols y ont bâti un fort nommé Notre-Dame de Lorette.\",\n",
       " \"MANAPIA, (Géog. anc.) ville d'Hibernie dont parle Ptolomée. Ses interpretes croient que c'est présentement Waterford en Irlande.\",\n",
       " \"PULO-NIAS, (Géog. mod.) île peuplée de la mer des Indes, au couchant & près de Sumatra, entre l'île Baniao au nord, & celle de Pulo-Minton au midi. Latit. 1. 5.\",\n",
       " \"Plus au nord se trouve le gouvernement de Rével & de l'Estonie, & cette province est encore une des conquêtes de Pierre.\",\n",
       " \"LYMAX, (Géog. anc.) riviere du Péloponnèse, dans l'Arcadie ; elle baignoit la ville de Phigalé, & se dégorgeoit dans le Néda. Les Poëtes ont feint que les Nymphes qui assisterent aux couches de Rhée, lorsqu'elle eut mis au monde Jupiter, laverent la déesse dans cette riviere pour la purifier. Le mot grec λῦμα signifie purification. (D. J.)\",\n",
       " \"TIMANA, (Géog. mod.) ville de l'Amérique méridionale, au Popayan, dans la contrée à laquelle elle donne son nom, à l'orient des hautes montagnes des Andes, dans une région fort chaude, sur le bord d'une petite riviere. Latit. 1. 28. (D. J.)\",\n",
       " \"GANXUNG, (Géog.) cité de la Chine dans la province de Quiecheu ; elle est de 12d. 6'. plus occidentale que Pékin, & compte 25d. 35'. de lat. (D. J.)\",\n",
       " 'TROPÈS, saint-, (Géog. mod.) ville de France, en Provence, au diocèse de Fréjus, sur la Méditerranée, où elle a un port, à 24 lieues au levant de Marseille, & à 6 au sud-ouest de Fréjus. Long. 24. 20. latit. 43. 17. (D. J.)',\n",
       " \"MERDIN, (Géog.) les voyageurs écrivent aussi MARDIN, MÉRÉDIN, MIRIDEN, ville d'Asie dans le Diarbeck, avec un château, qui passe pour imprenable ; le terroir produit du coton en abondance. Elle appartient aux Turcs qui y ont un pacha avec garnison. Merdin est située à 6 lieues du Tigre, entre Mosoul & Bagdat, près d'Amed. Long. selon M. Petit de la Croix, 62. 30. lat. 35. 13. (D.J.)\",\n",
       " \"CARTA SOURA, ville d'Asie, capitale de l'île de Java, & résidence de l'empereur.\",\n",
       " \"A l'occident d'Arcangel, & dans son gouvernement, est la Laponie russe, troisieme partie de cette contrée ; les deux autres appartiennent à la Suede & au Danemarck ; c'est un très-grand pays, qui occupe environ huit degrés de longitude, & qui s'étend en latitude du cercle polaire au cap nord.\",\n",
       " \"ZENTA, (Géog. mod.) contrée de la Dalmatie, aux confins de l'Albanie, dans laquelle quelques géographes la comprennent. La principale ville de cette contrée est Scutari. (D. J.)\",\n",
       " \"HARDERWIK, Harderwicum, (Géog.) ville des Provinces-Unies dans la Gueldres, au quartier d'Arnheim, avec une université. Elle est sur le Zuiderzée, à 8 lieues N. O. d'Arnheim, 7 N. E. d'Amersfort, 12 N. O. de Nimegue, 13 E. d'Amsterdam. Les annales de Gueldres en mettent la fondation à l'an 1230, & c'est tout au plus tard. L'université a été érigée le 12 Avril 1648. Long. 23. 12. lat. 52. 24. (D. J.)\",\n",
       " \"OXU, (Géog.) grande province du Japon dans l'île de Niphon, dont elle fait la pointe septentrionale du côté de l'orient. (D. J.)\",\n",
       " 'OBY, (Géog.) grande riviere d\\'Asie. Elle prend sa source dans la grande Tartarie du lac Osero Teleskoi vers les 52. deg. de lat. L\\'Irtis se jette dans l\\'Oby, à 60 d. 40 m. de lat. ensuite elle tourne au nord, & va se décharger vers les 65 d. de lat. dans la Guba-Tassaukoya, par laquelle ses eaux sont portées dans la mer glaciale vers les 70 deg. de lat. après une course d\\'environ 400 lieues. Cette vaste riviere est extrèmement abondante en toutes sortes d\\'excellens poissons ; ses eaux sont blanches & légeres, & ses bords fort élevés sont par-tout couverts de forêts. On trouve sur ses rives des pierres fines, transparentes, rouges & blanches, dont les Russes font beaucoup de cas. Il n\\'y a point de villes sur les bords de cette riviere, mais seulement des bourgs, que les Russes y ont bâtis, depuis qu\\'ils possedent la Siberie. La source de l\\'Oby est à 160d. 12\\'. 45\". de long. & à 49d. 50\\'. de lat. (D. J.)',\n",
       " \"JAFANAPATAN, (Géog.) ville forte des Indes orientales, capitale d'un royaume ou d'une presqu'île de même nom, dans l'île de Ceylan. Les Hollandois la prirent sur les Portugais le 21 Juin 1658, & depuis ce tems-là elle leur est demeurée. Long. 98. lat. 9. 30. (D. J.)\",\n",
       " \"* BALAGANSKOI, (Géog.) ville des Moscovites dans la Sibérie, partie de la grande Tartarie: elle est sur la riviere d'Angara, au 114. degré de longit. & au 59. de lat.\",\n",
       " \"HILLÉ, (Géog.) ville d'Asie dans l'Irac-Arabique ; elle est entre Bagdat & Coufa, à 79. 45. de long. & à 31. 50. de lat. Quelques voyageurs nomment une seconde Hillé dans le même pays sur le Tigre, entre Vaset & Bassora. On parle d'une troisieme Hillé en Perse, dans le Conrestan, & d'une quatrieme dans la Turquie Asiatique, auprès du Mosul, ou Moussel. (D. J.)\",\n",
       " 'GUINGAMP, (Géog.) petite ville de France en Bretagne, capitale du duché de Penthievre, à 103 lieues sud-oüest de Paris. Long. 14. 39. 15. latit. 48. 33. 42. (D. J.)',\n",
       " '* Aix, (Géog.) ville de Savoye sur le lac de Bourget. Long. 23. 34. lat. 45. 40.',\n",
       " \"MATARO, (Géog.) petite ville d'Espagne, dans la Catalogne, remarquable par ses verreries ; elle est sur la Méditerranée, à 14 lieues S. O. de Gironne, 6 lieues N. E. de Barcelonne. Long. 20. 10. lat. 41. 31. (D.J.)\",\n",
       " \"LARYSIUS, (Géog. anc.) Λαρύσιος, montagne du Péloponnese dans la Laconie, au-dessus de Migonium, contrée qui est vis-à-vis de Cranaé. Il y avoit sur cette montagne un temple dédié à Bacchus, à l'honneur de qui on y célébroit une fête tous les printems. (D. J.)\",\n",
       " \"ILSTADT, Ilstadium, (Géog.) ville d'Allemagne en Baviere, au confluent du Danube & de l'Ills, vis-à-vis de Passaw. Long. 31. 15. lat. 48. 28. (D. J.)\",\n",
       " \"VELDENTZ, (Géog. mod.) château d'Allemagne au cercle du bas Rhin, près de la Mozelle, chef-lieu d'un comté enclavé dans l'archevêché de Treves, trois milles au-dessus de Traerbach. Longit. 24. 35. latit. 49. 51. (D. J.)\",\n",
       " \"TRACHENBERG, (Géogr. mod.) petite ville d'Allemagne, dans la Silésie, sur la riviere de Bartsch, & vers les confins de la Pologne ; elle appartient au baron de Trachenberg. (D. J.)\",\n",
       " \"* ACCHO, ville de Phénicie, qui fut donnée à la tribu d'Azer ; il y en a qui prétendent que c'est la même ville que Acé ou Ptolémaïs ; d'autres que c'est Accon.\",\n",
       " \"MARQUEFAVE, (Géog.) petite ville de France dans le haut-Languedoc, au diocèse de Rieux. Il y a un couvent d'Augustins, & un prieuré de l'ordre de Fontevraud. Long. 18. 50. lat. 36. 10.\",\n",
       " \"* AXARAFE, (l') Géog. petit pays d'Espagne dans l'Andalousie : c'est un des quatre quartiers du territoire de Séville ; il a six lieues de long, & dix de large.\",\n",
       " \"CHAOURE, (Géog.) petite ville de France en Champagne, à la source de la riviere d'Armance. Long. 21. 40. lac. 48. 6.\",\n",
       " \"Salé, (Géog. mod.) ville d'Afrique en Barbarie, sur la côte occidentale du royaume de Fez, & sous l'autorité du roi de Maroc. Cette ville est remarquable par son antiquité; mais elle est encore plus connue par ses corsaires nommés Saletins, & par son commerce, quoique son havre ne soit propre que pour de petits bâtimens. Elle a de bonnes forteresses pour sa défense, & est divisée comme Fez, en ville vieille & en ville nouvelle, qui sont seulement séparées par la riviere de Garrou. Le roi de France a un consul à Salé ; mais ce caractere est assez infructueux, parce que celui qui en est revêtu n'est guere moins exposé qu'un simple marchand aux caprices des habitans. On compte qu'ils sont environ vingt mille. Ils se qualifient Andalous, comme ceux de Tetouan. Salé est situé à environ 45 lieues au couchant de Fez. Long. 11. 6. lat. 34. 2. (D. J.)\",\n",
       " 'Beaumont-le-Roger, (Géog.) ville de haute Normandie. Long. 18. 26. lat. 49. 2.',\n",
       " \"ISERNLOHN, (Géog.) petite ville d'Allemagne en Westphalie, au comté de la Marck, sur la riviere de Baren. Long. 25. 30. lat. 51. 48. (D. J.)\",\n",
       " \"GUANUCO, (Géog.) ville de l'Amérique méridionale, capitale d'une contrée de même nom, dans l'audience de Lima ; elle abonde en ce qui est nécessaire à la vie, & elle a quelques mille Indiens tributaires ; elle est à 45 lieues N. E. de Lima. Long. 34. 40. lat. mérid. 9. 55. (D. J.)\",\n",
       " '* AGUATULCO ou AQUATULCO ou GUATULCO, ville & port de la nouvelle Espagne, en Amérique, sur la mer du Sud. Longit. 279. latit. 25. 10.',\n",
       " \"DENDERMONDE, ou DERMONDE, ou TENERMONDE, ville des Pays-bas autrichiens: elle est située au confluent de la Dendre & de l'Escaut. Long. 21. 38. lat. 51. 3.\",\n",
       " \"MONSTERBERG ou MUNSTERBERG, (Géog.) ville de la basse Silésie dans la province de même nom. Elle a été fondée par l'Empereur Henri Il. qui fit bâtir en ce lieu un monastere, d'où elle fut appellée Monsterberg. El'c est à 5 milles N.E.O. de Glatz, 8 S. de Breslau. Long. 34. 56. lat. 50. 38.\",\n",
       " \"TIANO, (Géog. mod.) en latin Teanum, ancienne petite ville d'Italie, au royaume de Naples, dans la terre de Labour, à quatre lieues au couchant de Capoue. Elle a des eaux minérales dans son voisinage. Long. 31. 45. latit. 41. 36. (D. J.)\",\n",
       " '* BELTZ ou BELTZKO, (Géog.) ville de Pologne, dans le palatinat de même nom. Long. 42. 44. lat. 50. 30.',\n",
       " \"NORDHAUSEN, (Géog.) ancienne ville impériale d'Allemagne, dans le cercle de basse-Saxe, sur le Hartz. Elle est sous la protection de l'électeur de Saxe, & suit la confession d'Ausbourg : elle a un conseil souverain, & est dans un pays fertile, à 10 lieues S. O. de Dresde. Long. 30. 42. lat. 51. 24. (D. J.)\",\n",
       " '* ABARANER, s. petite Ville dans la grande Arménie. Long. 64. lat. 39. 50.',\n",
       " \"Salomon, les îles de, (Géog. mod.) îles de la mer du sud, ainsi nommées par Alvaro de Mendoça, qui les découvrit en 1567. Les principales sont, dit-on, au nombre de dix-huit. La plus grande se nomme l'île Isabelle, à laquelle on donne plus de cent lieues de tour. Ce qu'il y a de sûr, c'est que la plûpart des îles de Salomon ne sont point découvertes, & que celles qui le sont, ne sont pas connues. Tout ce qu'on en sait, c'est qu'en général l'air y est assez tempéré; mais on ne connoît ni le terroir, ni les habitans de ces îles. Long. selon Dudley, 162. 204. latit. 7. 23. (D. J.)\",\n",
       " \"PENISCOLA, (Géog. mod.) ou Penoscola, ville d'Espagne au royaume de Valence, vers le bord de la mer, au nord d'Oropesa, & sur une pointe de terre fort élevée. Long. 13. 6. lat. 39. 15. (D. J.)\",\n",
       " \"Wangen, (Géog. mod.) ville impériale d'Allemagne, dans la Suabe, sur la riviere du haut Arg (Ober-Arg) à 12 milles au nord de Lindaw, & à 30 au nord-est de Constance ; il s'y fait quelque commerce de toiles : cette ville est l'ancienne Vemania, ou Viana de la Rhétie. Long. 27. 35. latit. 47. 36. (D. J.)\",\n",
       " \"Logrogno est la patrie de Rodriguez d'Arriega, fameux jésuite espagnol, mort à Prague en 1667, âgé de 75 ans. Il a répandu beaucoup de subtilités scholastiques dans sa vaste théologie, qui contient huit volume in-fol. & plus encore dans son cours latin de philosophie, imprimé à Anvers en 1632, & à Lyon en 1669 in-fol. Semblable à ces guerriers qui dévastent le pays ennemi, sans pouvoir mettre leurs frontieres en état de résistance, il se montre bien plus habile à ruiner ce qu'il nie, qu'à prouver ce qu'il prétend établir. C'est dommage que cet homme subtil & pénétrant n'ait eu aucune connoissance des bons principes de la Théologie & de la Philosophie ; mais on est encore bien éloigné de s'en douter en Espagne ; hé, comment le jésuite d'Ariéga les auroit-il connus il y a cent ans? (D. J.)\",\n",
       " \"ICONIUM, (Géog. anc.) Voyez-en l'article sous le nom françois Icone.\",\n",
       " \"CARPI, (Géog.) ville d'Italie en Lombardie dans le Modénois. Long. 28. 25. lat. 44. 45.\",\n",
       " 'CHAUL, (Geog.) ville forte des Indes, sur la côte de Malabar, dans le royaume de Visapour, avec un port. Long. 90. 20. lat. 18. 30.',\n",
       " 'Traina, (Géog. mod.) riviere de Sicile dans le val-Démona. Elle tire son origine de deux sources, & se perd dans la Dittaino. (D. J.)',\n",
       " \"* ANAFE ou AFFA, (Géog. mod.) ville de la province de Temesne, au Royaume de Fez en Afrique, sur la côte de l'Océan atlantique. Alfonse Roi de Portugal, la ruina, pour mettre fin aux courses que ses habitans faisoient sur les Chrétiens.\",\n",
       " \"LANDSTUL, (Géogr.) bourg d'Allemagne avec un fort château sur un rocher dans le Wasgow, entre Deux-Ponts & Keysers-Lautern. Long. 26. 20. lat. 49. 25.\",\n",
       " 'INDIGIRKA, (Géog.) fleuve de la partie septentrionale de la Sibérie, qui a son embouchure dans la mer glaciale.',\n",
       " \"LADAC ou LADNEA, (Géog.) royaume d'Asie dans le grand Thibet, dont il fait partie : il est par les 35d de latitude septentrionale, & a au nord des deserts traversés par le chemin de Cachemire au Tangut. (D. J.\",\n",
       " \"Ville-Franche, (Géog. mod.) petite ville de France, dans le Roussillon, capitale du Conflant, au pié des Pyrénées, sur la Tet, à 9 lieues au sudouest de Perpignan, à 10 au nord-est de Puycerda, & à 180 de Paris. Elle fut fondée en 1092 par Guillaume Raymond, comte de Cerdaigne. Sa position est entre deux montagnes très-hautes, & si voisines l'une de l'autre, qu'il n'y a entre-deux qu'un chemin pour le passage d'une charrette. La Tet y coule comme un torrent. Cette place a été cédée à la France avec tout le Roussillon en 1659, par la paix des Pyrénées. Louis XIV. y a fait élever un château où l'on tient un commandant & un état major. Long. 20. latit. 42. 23. (D. J.)\",\n",
       " 'XAOCHEU, (Géog. mod.) ville de la Chine, dans la province de Quantong, dont elle a la seconde métropole. Long. suivant le p. Noël, 150. 43. 30. lat. 24. 42. 10.',\n",
       " \"* ABELLINAS, s. vallée de Syrie entre le Liban & l'Antiliban, dans laquelle Damas est située.\",\n",
       " \"SELINUNTE en Cilicie, (Géog. anc.) Selinus, ville de la Cilicie-Trachée. Pline en fait mention. Strabon la met à l'embouchure du fleuve de son nom, entre un lieu fortifié nommé Laërtès, & un rocher nommé Cragus. Ptolomée, l. V. c. xxvij. qui écrit Selenus, en fait une ville maritime qu'il place entre Jotapoe & Antiochoe super Crago.\",\n",
       " \"* ABISSINIE, s. f. grand Pays & Royaume d'Afrique. Long. 48-65. lat. 6-20.\",\n",
       " \"RESOVIE ou RESZOW, (Géog. mod.) petite ville de la Pologne, au palatinat de Russie, sur la riviere de Wisoch, avec un château pour sa défense. long. 40. 10'. latit. 40. 51'. (D. J.)\",\n",
       " \"* AGMAT ou AGMET, (Géog.) ville d'Afrique, au Royaume de Maroc, dans la province & sur la riviere de même nom. Long. 11. 20. lat. 30. 35.\",\n",
       " \"THUSEI, (Géog. anc.) nom de la belle terre que Pline le jeune avoit en Toscane : il en fait la description dans une de ses lettres à Apollinaire, liv. VI. let. 9. & je vais la transcrire ici, parce que c'est la plus charmante description que je connoisse, parce qu'elle est un modele unique en ce genre, & parce qu'enfin il faut quelquefois amuser le lecteur par des peintures riantes, & le dédommager de la sécheresse indispensable de plusieurs autres articles.\",\n",
       " \"L'anti-Liban, ainsi nommé à cause de sa situation opposée à celle du Liban, est une autre suite de montagnes qui s'élevent auprès des ruines de Sidon, & vont se terminer à d'autres montagnes du pays des Arabes, vers la Trachonitide, sous le 34 degré.\",\n",
       " \"La Guienne, province, est bornée au nord par le Poitou, l'Angoumois, & la Marche ; à l'est par l'Auvergne & par le Languedoc ; au sud par les Pyrénées, & à l'oüest par l'Océan. Elle forme le plus grand gouvernement de France, qui a quatre-vingt lieues de large sur quatre-vingt-dix de long : les rivieres qui l'arrosent sont l'Adour, le Tarn, l'Avéiron, & le Lot.\",\n",
       " \"Maure Sainte, (Géog.) petite ville de France en Touraine, au diocese de Tours, à sept lieues de cette ville, 59 S. O. de Paris. Long. 18d. 16'. 45''. lat. 47d. 6'. 39''.\",\n",
       " \"LERME, (Géog.) petite ville d'Espagne, dans la vieille Castille, erigée en duché par Philippes III. en 1599, en saveur de son favori & premier ministre le due de Lerme, qui devint cardinal après la mort de sa femme, & qui y bâtit le château de Lerme. La ville est sur la petite riviere d'Arlanzon, à 6 lieues de Burgos, & à 12 de Valladolid. Long. 14. 10. let. 61. 30.\",\n",
       " \"CHAMBÉRY, (Géog. mod.) ville considérable & capitale du duché de Savoie, sur les ruisseaux de Laisse & d'Albans. Long. 23. 30. lat. 45. 35.\",\n",
       " \"* ABYLA, s. nom de montagne & de ville dans le détroit de Gibraltar sur la côte de Mauritanie. C'étoit une des Colonnes d'Hercule, & Calpé sur la côte d'Espagne etoit l'autre. On croit que la ville d'Abyla des anciens est le Septa des modernes ; & la montagne, celle que nous appellons montagne des Singes.\",\n",
       " '* Batha, Bath, Bachia, (Géog.) ville de Hongrie, capitale du comté du même nom, sur la rive occidentale du Danube, à cinq lieues du confluent de la Drave. Long. 37. lat. 46. 40.',\n",
       " \"* DARDANIE, s. f. (Géog. anc.) petite province dépendante des Troyens, & située au nord de la Troade. La capitale portoit le même nom ; elle étoit voisine de la source du Simoïs ; elle avoit été bâtie par Dardanus. La Samothrace s'appella aussi Dardanie. Ce fut encore le nom de la Dacie méditerranée. Voyez Daces.\",\n",
       " \"MONMORILLON, (Géog.) en latin moderne mons Morillio, ville de France, aux confins de la Marche & du Berri, au bord de la Gartampe, qu'on y passe sur un pont le pierre, à neuf lieues de Poitiers. Long. 18. 30. lat. 46. 28.\",\n",
       " \"BISAGOS, (Géog.) îles d'Afrique proche de la côte de Guinée, dont la principale est celle de Formosa. Long. 2. lat. 11.\",\n",
       " \"WESTPHALIE, (Géog. mod.) cercle d'Allemagne, qu'on divise en province & en duché. Les états du cercle de Westphalie sont les évêques de Paterborn, de Liege, de Munster, d'Osnabrug, les abbés de Munster, de Stablo & de Corvey : les abbesses d'Herforden & d'Effen : les ducs de Juliers, de Cleves & de Berg : les principautés de Ferden, de Minden, d'Ostfrise, de Nassau-Dillenbourg & plusieurs comtes. Les villes de Cologne, d'Aix-la-Chapelle, de Dormund & de Hesford, entrent dans ce cercle. L'évêque de Munster & les ducs de Juliers & de Cleves sont directeurs du cercle de Westphalie, dont le contingent est de 304 cavaliers & 1282 fantassins, ou de 8164 florins par mois.\"]"
      ]
     },
     "execution_count": 19,
     "metadata": {},
     "output_type": "execute_result"
    }
   ],
   "source": [
    "ds['test']['text'][:nb_docs]"
   ]
  },
  {
   "cell_type": "markdown",
   "metadata": {},
   "source": [
    "* Option1: Splitting Text into Chunks"
   ]
  },
  {
   "cell_type": "code",
   "execution_count": 8,
   "metadata": {},
   "outputs": [],
   "source": [
    "#chunks = [\"ILLESCAS, (Géog.) petite ville d'Espagne, dans la nouvelle Castille, à six lieues au sud de Madrid.\", \n",
    "#          \"MULHAUSEN, (Géog.) ville impériale d'Allemagne, dans la Thuringe, sous la protection de l'électeur de Saxe, ce qui fait qu'elle est rangée parmi les villes de basse-Saxe ; elle a essuyé bien des calamités en divers tems. Henri le Lion la prit d'assaut en 1181, & la brûla. En 1366 un tremblement de terre en renversa la plus grande partie ; en 1442 un incendie ne lui fut guère moins funeste ; en 1525 elle fut assiegée par l'électeur de Saxe & le landgrave de Hesse, à cause des paysans révoltés qui s'en étoient emparés ; enfin après la paix de Westphalie, les divers partis l'ont ravagée tour-à-tour. Elle est située dans un pays fertile, sur la riviere d'Unstruth, à 5 milles de Nordhausen, 6 N. E. d'Eysenach, 10 N. O. d'Erford, 14 S. O. de Cassel. Long. 28. 14. lat. 51. 13. (D. J.)\"\n",
    "#            ]"
   ]
  },
  {
   "cell_type": "code",
   "execution_count": 9,
   "metadata": {},
   "outputs": [],
   "source": [
    "chunks = []\n",
    "#for doc in df.text.to_list():\n",
    "for doc in ds['test']['text'][:nb_docs]:\n",
    "    if len(doc) > 512:\n",
    "        chunks.extend(RecursiveCharacterTextSplitter(chunk_size=512, chunk_overlap=128).split_text(doc))\n",
    "    else:\n",
    "        chunks.append(doc)"
   ]
  },
  {
   "cell_type": "code",
   "execution_count": 10,
   "metadata": {},
   "outputs": [
    {
     "data": {
      "text/plain": [
       "112"
      ]
     },
     "execution_count": 10,
     "metadata": {},
     "output_type": "execute_result"
    }
   ],
   "source": [
    "len(chunks)"
   ]
  },
  {
   "cell_type": "markdown",
   "metadata": {},
   "source": [
    "* Creating a Vector Store (Chroma) from Text"
   ]
  },
  {
   "cell_type": "code",
   "execution_count": 11,
   "metadata": {},
   "outputs": [],
   "source": [
    "#vector_store = Chroma.from_texts(chunks, embed_model)"
   ]
  },
  {
   "cell_type": "markdown",
   "metadata": {},
   "source": [
    "* Option2: Splitting Text into Documents"
   ]
  },
  {
   "cell_type": "code",
   "execution_count": 20,
   "metadata": {},
   "outputs": [
    {
     "data": {
      "text/plain": [
       "[Document(id='0', metadata={'head': 'COMPIEGNE'}, page_content='COMPIEGNE, (Géog. mod.) ville de France, dans l\\'île de France. Long. 20d. 29\\'. 41\". lat. 49d. 24\\'. 59\".'),\n",
       " Document(id='1', metadata={'head': 'HILPERHAUSEN'}, page_content=\"HILPERHAUSEN, (Géog.) ville d'Allemagne en Franconie, sur la Werra, au comté de Henneberg, entre Cobourg & Smalcalde ; elle appartient à une branche de la maison de Saxe-Gotha. Long. 28. 15. lat. 50. 35. (D. J.)\"),\n",
       " Document(id='2', metadata={'head': 'Patane ou Patany'}, page_content=\"Patane ou Patany, (Géog. mod.) royaume des Indes dans la presqu'île de Malaca, sur la côte orientale, entre le royaume de Siam & de Paha. Les habitans sont en partie mahométans & en partie payens. Les Chinois font avec eux un grand commerce ; on n'y distingue que deux saisons, l'hiver & l'été;\"),\n",
       " Document(id='3', metadata={'head': 'Patane ou Patany'}, page_content=\"n'y distingue que deux saisons, l'hiver & l'été; l'hiver dure pendant les mois de Novembre, Décembre & Janvier, pendant lesquels il pleut sans cesse. Les bois sont remplis d'éléphans, de sangliers & de guenons. Le royaume, dit Gervaise, releve du roi de Siam, & est gouverné par une reine qui ne\"),\n",
       " Document(id='4', metadata={'head': 'Patane ou Patany'}, page_content=\"roi de Siam, & est gouverné par une reine qui ne peut se marier, mais qui peut avoir des amans tant qu'elle veut. La lubricité des femmes y est si grande, que les hommes sont contraints de se faire de certaines garnitures pour se mettre à l'abri de leurs entreprises. C'est là, c'est aux Maldives,\"),\n",
       " Document(id='5', metadata={'head': 'Patane ou Patany'}, page_content=\"leurs entreprises. C'est là, c'est aux Maldives, c'est à Bantan, que la nature a une force & la pudeur une foiblesse qu'on ne peut comprendre ; c'est-là, dit M. de Montesquieu, qu'on voit jusqu'à quel point les vices du climat laissés dans la liberté, peuvent porter le désordre. Long. 119. lat. 7.\"),\n",
       " Document(id='6', metadata={'head': 'Patane ou Patany'}, page_content='peuvent porter le désordre. Long. 119. lat. 7. (D. J.)'),\n",
       " Document(id='7', metadata={'head': 'ABYDE ou ABYDOS'}, page_content=\"* ABYDE ou ABYDOS, sub. Ville maritime de Phrygie vis-à-vis de Sestos. Xercès joignit ces deux endroits éloignés l'un de l'autre de sept stades, par le pont qu'il jetta sur l'Hellespont.\"),\n",
       " Document(id='8', metadata={'head': 'DUSSELDORP'}, page_content='DUSSELDORP, (Géog. mod.) ville du cercle de Westphalie, capitale du duché de Berg en Allemagne ; elle est sur un ruisseau près du Rhin. Long. 24. 28. lat. 51. 12.'),\n",
       " Document(id='9', metadata={'head': 'ENTREVAUX'}, page_content='ENTREVAUX, (Géog.) ville de Provence, en France ; elle est située sur le Var. Long. 24. 46. lat. 44. 1.'),\n",
       " Document(id='10', metadata={'head': 'Canée (la)'}, page_content=\"Canée, (la) Géog. ville forte de l'île de Candie, avec un port. Long. 41. 43. lat. 35. 28.\"),\n",
       " Document(id='11', metadata={'head': 'MARSYAS'}, page_content=\"MARSYAS, (Géog. anc.) fleuve de l'Asie mineure, aux environs de la Phrygie ou de la Troade. Il sortoit de la même source que le Méandre, & après avoir traversé la ville Célaene, ils se partageoient, & prenoient chacun leur nom. (D.J.)\"),\n",
       " Document(id='12', metadata={'head': 'OOSTERGO'}, page_content='OOSTERGO, (Géog.) partie orientale de la Frise. Elle contient onze préfectures & deux villes, savoir Leuwarden & Dockum.'),\n",
       " Document(id='13', metadata={'head': 'FUNG'}, page_content=\"FUNG, (Géog.) ville de la Chine, dans la province de Nankin. Le P. Martini lui donne 35d 20' de lat. & le fait de 35d plus orientale que Peking. (D. J.)\"),\n",
       " Document(id='14', metadata={'head': 'Gènes'}, page_content=\"Gènes, (Géog.) Genua ; & dans les siecles ignorans du moyen âge, Janua, comme si Janus en étoit le fondateur ; ancienne, forte, riche ville, & l'une des principales d'Italie, capitale de la république de Gènes, avec un archevêché & un bon port. Les églises, les édifices publics & les palais y sont\"),\n",
       " Document(id='15', metadata={'head': 'Gènes'}, page_content=\"églises, les édifices publics & les palais y sont magnifiques : les palais se suivent sans être joints avec des maisons ordinaires ; ce qui fait le plus bel effet qu'on puisse desirer. Cette ville commerçante est presque au milieu de l'état de Gènes, en partie dans la plaine, & en partie sur une\"),\n",
       " Document(id='16', metadata={'head': 'Gènes'}, page_content='en partie dans la plaine, & en partie sur une colline près de la Méditerranée, dans une heureuse & riante situation, à 28 lieues sud-oüest de Milan, 25 sud-est de Turin, 26 sud-oüest de Parme, 45 nord-oüest de Florence, 90 nord-oüest de Rome. Long. suivant Salvego, Cassini & le pere Grimaldi, 26d.'),\n",
       " Document(id='17', metadata={'head': 'Gènes'}, page_content='suivant Salvego, Cassini & le pere Grimaldi, 26d. 7\\'. 15\". latit. 44d. 25\\'. 0\". (D. J.)'),\n",
       " Document(id='18', metadata={'head': 'ABBEVILLE'}, page_content='* ABBEVILLE, ville considérable de France, sur la riviere de Somme qui la partage, dans la Basse-Picardie, capitale du Comté de Ponthieu. Long. 19 d. 19\\'. 40\". lat. trouvée de 50 d. 6\\'. 55\". par M. Cassini en 1688. Voyez Hist. Acad. page 56.'),\n",
       " Document(id='19', metadata={'head': 'TASCHKANT'}, page_content=\"TASCHKANT, (Géog. mod.) petite ville de la Tartarie, sur la droite de la Sirri ; c'est la résidence d'hiver du chan des Tartares de la Casatschia-Orda. Long. 92. 40. latit. 45. (D. J.)\"),\n",
       " Document(id='20', metadata={'head': 'BIELLA ou BIELA'}, page_content=\"* BIELLA ou BIELA, petite ville d'Italie dans le Piémont, capitale du Bellese, près de la riviere de Cerva. Long. 25. 33. lat. 45. 22.\"),\n",
       " Document(id='21', metadata={'head': 'NICASTRO'}, page_content=\"NICASTRO, (Géog.) en latin Neocastrum ; petite ville d'Italie au royaume de Naples dans la Calabre ultérieure, à 2 lieues du golfe de sainte Euphémie, avec un évêché suffragant de Reggio. Elle fut presque ruinée en 1638 par un tremblement de terre. Long. 33. 30. lat. 38. 10.\"),\n",
       " Document(id='22', metadata={'head': 'HONGRIE'}, page_content=\"La Hongrie en Europe est un grand pays d'Europe sur le Danube : soit que les Hongrois soient descendans des Huns, soit qu'ils n'ayent rien de commun avec eux que de leur avoir succédé, non contens des terres qu'ils possédoient à l'orient du Danube, ils le passerent & s'établirent dans les deux\"),\n",
       " Document(id='23', metadata={'head': 'HONGRIE'}, page_content=\"ils le passerent & s'établirent dans les deux Pannonies.\"),\n",
       " Document(id='24', metadata={'head': 'AREZZO'}, page_content=\"* AREZZO, (Géog.) ancienne ville d'Italie, dans la Toscane, & le territoire de Florence. Long. 29. 32. lat. 43. 27.\"),\n",
       " Document(id='25', metadata={'head': 'BEFORT'}, page_content=\"* BEFORT, (Géog.) ville de France capitale du Sundgaw, au haut d'une montagne. Lon. 24. 32. 30. lat. 47. 38. 18.\"),\n",
       " Document(id='26', metadata={'head': 'SOLIGNAC'}, page_content='SOLIGNAC, (Géogr. mod.) petite ville ou plûtôt bourg de France dans le Velay, sur la gauche de la Loire, & à deux lieues au midi de Puy, capitale du Velay. Long. 21. 23. latit. 45. 26. (D. J.)'),\n",
       " Document(id='27', metadata={'head': 'WILKOMIR'}, page_content='WILKOMIR, (Géog. mod.) ville du grand duché de Lithuanie, dans le palatinat de Wilna, sur la Swieta, à 14 lieues de la ville de Wilna. (D. J.)'),\n",
       " Document(id='28', metadata={'head': 'SARCA la'}, page_content=\"SARCA la, (Géog. mod.) riviere d'Allemagne, dans le Trentin ; elle a sa source aux montagnes qui séparent le Bressan du Trentin, & après un assez long cours serpentin, elle se jette dans la partie septentrionale du lac de Garde, entre Riva & Torbole ; là elle perd son nom, car en sortant de ce lac\"),\n",
       " Document(id='29', metadata={'head': 'SARCA la'}, page_content=\"; là elle perd son nom, car en sortant de ce lac elle s'appelle le Mincio. (D. J.)\"),\n",
       " Document(id='30', metadata={'head': 'CARHAIX'}, page_content=\"CARHAIX, (Géog.) petite ville de France, en basse Bretagne, fameuse par la bonté des perdrix qui s'y trouvent.\"),\n",
       " Document(id='31', metadata={'head': 'Guinée, (la)'}, page_content=\"La haute Guinée est bornée au sud par l'Océan, & comprend divers pays que l'on trouve de suite & qu'on subdivise chacun en divers royaumes, dont les nom, changent à mesure qu'on avance d'occident en orient : ces pays sont la côte de Malaguette, la côte des Dents, la côte d'Or, les royaumes de Juda,\"),\n",
       " Document(id='32', metadata={'head': 'Guinée, (la)'}, page_content=\"des Dents, la côte d'Or, les royaumes de Juda, du grand Ardre, & de Bénin. Tout le négoce des Européens se fait sur les côtes des lieux que nous venons de nommer.\"),\n",
       " Document(id='33', metadata={'head': 'MACARON-NÉSOS'}, page_content=\"MACARON-NÉSOS, (Géog. anc.) en grec Μακάρων νῆσος ; c'étoit le nom de la citadelle de Thebes, en Béotie, & Thèbes même porta ce nom. (D. J.)\"),\n",
       " Document(id='34', metadata={'head': 'BALLON'}, page_content=\"* BALLON (Géog.) ville de France, au diocese du Mans, sur la rive droite de l'Orne. Long. 17. 50. lat. 48. 10.\"),\n",
       " Document(id='35', metadata={'head': 'DOMFRONT'}, page_content='DOMFRONT, (Géog. mod.) ville de Normandie en France. Long. 16. 58. lat. 48. 34.'),\n",
       " Document(id='36', metadata={'head': 'KILMALOCK'}, page_content=\"KILMALOCK, (Géog.) ville d'Irlande, dans la province de Muonster, au comté de Limerick, dont elle est à 16 milles au S. Long. 8. 46. lat. 52. 58. (D. J.)\"),\n",
       " Document(id='37', metadata={'head': 'EUSUGAGUEN'}, page_content=\"EUSUGAGUEN, (Géog. mod.) ville de la province d'Héa, au royaume de Maroc, en Afrique.\"),\n",
       " Document(id='38', metadata={'head': 'GOLCONDE'}, page_content=\"GOLCONDE, (Géogr.) royaume d'Asie dans la presqu'ile de l'Inde, en-deçà du Gange ; il est borné au nord par la province de Bérar, au nord-est par la riviere de Narsepille qui le sépare du royaume d'Orixa, au sud-est par le golfe de Bengale, & au sud par la riviere de Coulour. La plus grande partie\"),\n",
       " Document(id='39', metadata={'head': 'GOLCONDE'}, page_content=\"par la riviere de Coulour. La plus grande partie des terres y est si fertile, qu'on y fait deux récoltes de riz par an, & quelquefois trois. Il est arrosé de plusieurs rivieres, & a deux ports très-avantageux, savoir Narsapour & Mazulipatan ; son commerce consiste en toiles de coton peintes, en\"),\n",
       " Document(id='40', metadata={'head': 'GOLCONDE'}, page_content='commerce consiste en toiles de coton peintes, en botilles fines, en riz & en indigo ; mais ses fameuses mines de diamant sont sa plus grande richesse, & celle-là même qui porta Aureng-zeb à conquérir le pays qui possédoit dans son sein des trésors si précieux. Depuis ce tems-là le royaume de'),\n",
       " Document(id='41', metadata={'head': 'GOLCONDE'}, page_content=\"si précieux. Depuis ce tems-là le royaume de Golconde fait partie des états du grand-mogol ; la ville de Golconde autrefois nommee Bagnagar, en est la capitale. La longit. de cette ville est par les 124d 40'. lat. 19d. 40'. & selon le pere Noël, seulement 17d. (D. J.)\"),\n",
       " Document(id='42', metadata={'head': 'CALIFORNIE'}, page_content=\"CALIFORNIE, (Géog.) grande presqu'île de l'Amérique septentrionale, au nord de la mer du sud, habitée par des sauvages qui adorent la lune ; chaque famille y vit à son gré, sans être soumise à aucune forme de gouvernement. Les Espagnols y ont bâti un fort nommé Notre-Dame de Lorette.\"),\n",
       " Document(id='43', metadata={'head': 'MANAPIA'}, page_content=\"MANAPIA, (Géog. anc.) ville d'Hibernie dont parle Ptolomée. Ses interpretes croient que c'est présentement Waterford en Irlande.\"),\n",
       " Document(id='44', metadata={'head': 'PULO-NIAS'}, page_content=\"PULO-NIAS, (Géog. mod.) île peuplée de la mer des Indes, au couchant & près de Sumatra, entre l'île Baniao au nord, & celle de Pulo-Minton au midi. Latit. 1. 5.\"),\n",
       " Document(id='45', metadata={'head': 'RUSSIE'}, page_content=\"Plus au nord se trouve le gouvernement de Rével & de l'Estonie, & cette province est encore une des conquêtes de Pierre.\"),\n",
       " Document(id='46', metadata={'head': 'LYMAX'}, page_content=\"LYMAX, (Géog. anc.) riviere du Péloponnèse, dans l'Arcadie ; elle baignoit la ville de Phigalé, & se dégorgeoit dans le Néda. Les Poëtes ont feint que les Nymphes qui assisterent aux couches de Rhée, lorsqu'elle eut mis au monde Jupiter, laverent la déesse dans cette riviere pour la purifier. Le mot\"),\n",
       " Document(id='47', metadata={'head': 'LYMAX'}, page_content='dans cette riviere pour la purifier. Le mot grec λῦμα signifie purification. (D. J.)'),\n",
       " Document(id='48', metadata={'head': 'TIMANA'}, page_content=\"TIMANA, (Géog. mod.) ville de l'Amérique méridionale, au Popayan, dans la contrée à laquelle elle donne son nom, à l'orient des hautes montagnes des Andes, dans une région fort chaude, sur le bord d'une petite riviere. Latit. 1. 28. (D. J.)\"),\n",
       " Document(id='49', metadata={'head': 'GANXUNG'}, page_content=\"GANXUNG, (Géog.) cité de la Chine dans la province de Quiecheu ; elle est de 12d. 6'. plus occidentale que Pékin, & compte 25d. 35'. de lat. (D. J.)\"),\n",
       " Document(id='50', metadata={'head': 'TROPÈS, saint'}, page_content='TROPÈS, saint-, (Géog. mod.) ville de France, en Provence, au diocèse de Fréjus, sur la Méditerranée, où elle a un port, à 24 lieues au levant de Marseille, & à 6 au sud-ouest de Fréjus. Long. 24. 20. latit. 43. 17. (D. J.)'),\n",
       " Document(id='51', metadata={'head': 'MERDIN, MARDIN, MÉRÉDIN, MIRIDEN'}, page_content=\"MERDIN, (Géog.) les voyageurs écrivent aussi MARDIN, MÉRÉDIN, MIRIDEN, ville d'Asie dans le Diarbeck, avec un château, qui passe pour imprenable ; le terroir produit du coton en abondance. Elle appartient aux Turcs qui y ont un pacha avec garnison. Merdin est située à 6 lieues du Tigre, entre Mosoul\"),\n",
       " Document(id='52', metadata={'head': 'MERDIN, MARDIN, MÉRÉDIN, MIRIDEN'}, page_content=\"est située à 6 lieues du Tigre, entre Mosoul & Bagdat, près d'Amed. Long. selon M. Petit de la Croix, 62. 30. lat. 35. 13. (D.J.)\"),\n",
       " Document(id='53', metadata={'head': 'CARTA SOURA'}, page_content=\"CARTA SOURA, ville d'Asie, capitale de l'île de Java, & résidence de l'empereur.\"),\n",
       " Document(id='54', metadata={'head': 'RUSSIE'}, page_content=\"A l'occident d'Arcangel, & dans son gouvernement, est la Laponie russe, troisieme partie de cette contrée ; les deux autres appartiennent à la Suede & au Danemarck ; c'est un très-grand pays, qui occupe environ huit degrés de longitude, & qui s'étend en latitude du cercle polaire au cap nord.\"),\n",
       " Document(id='55', metadata={'head': 'ZENTA'}, page_content=\"ZENTA, (Géog. mod.) contrée de la Dalmatie, aux confins de l'Albanie, dans laquelle quelques géographes la comprennent. La principale ville de cette contrée est Scutari. (D. J.)\"),\n",
       " Document(id='56', metadata={'head': 'HARDERWIK'}, page_content=\"HARDERWIK, Harderwicum, (Géog.) ville des Provinces-Unies dans la Gueldres, au quartier d'Arnheim, avec une université. Elle est sur le Zuiderzée, à 8 lieues N. O. d'Arnheim, 7 N. E. d'Amersfort, 12 N. O. de Nimegue, 13 E. d'Amsterdam. Les annales de Gueldres en mettent la fondation à l'an 1230, &\"),\n",
       " Document(id='57', metadata={'head': 'HARDERWIK'}, page_content=\"Gueldres en mettent la fondation à l'an 1230, & c'est tout au plus tard. L'université a été érigée le 12 Avril 1648. Long. 23. 12. lat. 52. 24. (D. J.)\"),\n",
       " Document(id='58', metadata={'head': 'OXU'}, page_content=\"OXU, (Géog.) grande province du Japon dans l'île de Niphon, dont elle fait la pointe septentrionale du côté de l'orient. (D. J.)\"),\n",
       " Document(id='59', metadata={'head': 'OBY'}, page_content=\"OBY, (Géog.) grande riviere d'Asie. Elle prend sa source dans la grande Tartarie du lac Osero Teleskoi vers les 52. deg. de lat. L'Irtis se jette dans l'Oby, à 60 d. 40 m. de lat. ensuite elle tourne au nord, & va se décharger vers les 65 d. de lat. dans la Guba-Tassaukoya, par laquelle ses eaux\"),\n",
       " Document(id='60', metadata={'head': 'OBY'}, page_content=\"dans la Guba-Tassaukoya, par laquelle ses eaux sont portées dans la mer glaciale vers les 70 deg. de lat. après une course d'environ 400 lieues. Cette vaste riviere est extrèmement abondante en toutes sortes d'excellens poissons ; ses eaux sont blanches & légeres, & ses bords fort élevés sont\"),\n",
       " Document(id='61', metadata={'head': 'OBY'}, page_content=\"blanches & légeres, & ses bords fort élevés sont par-tout couverts de forêts. On trouve sur ses rives des pierres fines, transparentes, rouges & blanches, dont les Russes font beaucoup de cas. Il n'y a point de villes sur les bords de cette riviere, mais seulement des bourgs, que les Russes y ont\"),\n",
       " Document(id='62', metadata={'head': 'OBY'}, page_content='mais seulement des bourgs, que les Russes y ont bâtis, depuis qu\\'ils possedent la Siberie. La source de l\\'Oby est à 160d. 12\\'. 45\". de long. & à 49d. 50\\'. de lat. (D. J.)'),\n",
       " Document(id='63', metadata={'head': 'JAFANAPATAN'}, page_content=\"JAFANAPATAN, (Géog.) ville forte des Indes orientales, capitale d'un royaume ou d'une presqu'île de même nom, dans l'île de Ceylan. Les Hollandois la prirent sur les Portugais le 21 Juin 1658, & depuis ce tems-là elle leur est demeurée. Long. 98. lat. 9. 30. (D. J.)\"),\n",
       " Document(id='64', metadata={'head': 'BALAGANSKOI'}, page_content=\"* BALAGANSKOI, (Géog.) ville des Moscovites dans la Sibérie, partie de la grande Tartarie: elle est sur la riviere d'Angara, au 114. degré de longit. & au 59. de lat.\"),\n",
       " Document(id='65', metadata={'head': 'HILLÉ'}, page_content=\"HILLÉ, (Géog.) ville d'Asie dans l'Irac-Arabique ; elle est entre Bagdat & Coufa, à 79. 45. de long. & à 31. 50. de lat. Quelques voyageurs nomment une seconde Hillé dans le même pays sur le Tigre, entre Vaset & Bassora. On parle d'une troisieme Hillé en Perse, dans le Conrestan, & d'une quatrieme\"),\n",
       " Document(id='66', metadata={'head': 'HILLÉ'}, page_content=\"en Perse, dans le Conrestan, & d'une quatrieme dans la Turquie Asiatique, auprès du Mosul, ou Moussel. (D. J.)\"),\n",
       " Document(id='67', metadata={'head': 'GUINGAMP'}, page_content='GUINGAMP, (Géog.) petite ville de France en Bretagne, capitale du duché de Penthievre, à 103 lieues sud-oüest de Paris. Long. 14. 39. 15. latit. 48. 33. 42. (D. J.)'),\n",
       " Document(id='68', metadata={'head': 'Aix'}, page_content='* Aix, (Géog.) ville de Savoye sur le lac de Bourget. Long. 23. 34. lat. 45. 40.'),\n",
       " Document(id='69', metadata={'head': 'MATARO'}, page_content=\"MATARO, (Géog.) petite ville d'Espagne, dans la Catalogne, remarquable par ses verreries ; elle est sur la Méditerranée, à 14 lieues S. O. de Gironne, 6 lieues N. E. de Barcelonne. Long. 20. 10. lat. 41. 31. (D.J.)\"),\n",
       " Document(id='70', metadata={'head': 'LARYSIUS'}, page_content=\"LARYSIUS, (Géog. anc.) Λαρύσιος, montagne du Péloponnese dans la Laconie, au-dessus de Migonium, contrée qui est vis-à-vis de Cranaé. Il y avoit sur cette montagne un temple dédié à Bacchus, à l'honneur de qui on y célébroit une fête tous les printems. (D. J.)\"),\n",
       " Document(id='71', metadata={'head': 'ILSTADT'}, page_content=\"ILSTADT, Ilstadium, (Géog.) ville d'Allemagne en Baviere, au confluent du Danube & de l'Ills, vis-à-vis de Passaw. Long. 31. 15. lat. 48. 28. (D. J.)\"),\n",
       " Document(id='72', metadata={'head': 'VELDENTZ'}, page_content=\"VELDENTZ, (Géog. mod.) château d'Allemagne au cercle du bas Rhin, près de la Mozelle, chef-lieu d'un comté enclavé dans l'archevêché de Treves, trois milles au-dessus de Traerbach. Longit. 24. 35. latit. 49. 51. (D. J.)\"),\n",
       " Document(id='73', metadata={'head': 'TRACHENBERG'}, page_content=\"TRACHENBERG, (Géogr. mod.) petite ville d'Allemagne, dans la Silésie, sur la riviere de Bartsch, & vers les confins de la Pologne ; elle appartient au baron de Trachenberg. (D. J.)\"),\n",
       " Document(id='74', metadata={'head': 'ACCHO'}, page_content=\"* ACCHO, ville de Phénicie, qui fut donnée à la tribu d'Azer ; il y en a qui prétendent que c'est la même ville que Acé ou Ptolémaïs ; d'autres que c'est Accon.\"),\n",
       " Document(id='75', metadata={'head': 'MARQUEFAVE'}, page_content=\"MARQUEFAVE, (Géog.) petite ville de France dans le haut-Languedoc, au diocèse de Rieux. Il y a un couvent d'Augustins, & un prieuré de l'ordre de Fontevraud. Long. 18. 50. lat. 36. 10.\"),\n",
       " Document(id='76', metadata={'head': \"AXARAFE, (l')\"}, page_content=\"* AXARAFE, (l') Géog. petit pays d'Espagne dans l'Andalousie : c'est un des quatre quartiers du territoire de Séville ; il a six lieues de long, & dix de large.\"),\n",
       " Document(id='77', metadata={'head': 'CHAOURE'}, page_content=\"CHAOURE, (Géog.) petite ville de France en Champagne, à la source de la riviere d'Armance. Long. 21. 40. lac. 48. 6.\"),\n",
       " Document(id='78', metadata={'head': 'Salé'}, page_content=\"Salé, (Géog. mod.) ville d'Afrique en Barbarie, sur la côte occidentale du royaume de Fez, & sous l'autorité du roi de Maroc. Cette ville est remarquable par son antiquité; mais elle est encore plus connue par ses corsaires nommés Saletins, & par son commerce, quoique son havre ne soit propre que\"),\n",
       " Document(id='79', metadata={'head': 'Salé'}, page_content='commerce, quoique son havre ne soit propre que pour de petits bâtimens. Elle a de bonnes forteresses pour sa défense, & est divisée comme Fez, en ville vieille & en ville nouvelle, qui sont seulement séparées par la riviere de Garrou. Le roi de France a un consul à Salé ; mais ce caractere est'),\n",
       " Document(id='80', metadata={'head': 'Salé'}, page_content=\"France a un consul à Salé ; mais ce caractere est assez infructueux, parce que celui qui en est revêtu n'est guere moins exposé qu'un simple marchand aux caprices des habitans. On compte qu'ils sont environ vingt mille. Ils se qualifient Andalous, comme ceux de Tetouan. Salé est situé à environ 45\"),\n",
       " Document(id='81', metadata={'head': 'Salé'}, page_content='ceux de Tetouan. Salé est situé à environ 45 lieues au couchant de Fez. Long. 11. 6. lat. 34. 2. (D. J.)'),\n",
       " Document(id='82', metadata={'head': 'Beaumont-le-Roger'}, page_content='Beaumont-le-Roger, (Géog.) ville de haute Normandie. Long. 18. 26. lat. 49. 2.'),\n",
       " Document(id='83', metadata={'head': 'ISERNLOHN'}, page_content=\"ISERNLOHN, (Géog.) petite ville d'Allemagne en Westphalie, au comté de la Marck, sur la riviere de Baren. Long. 25. 30. lat. 51. 48. (D. J.)\"),\n",
       " Document(id='84', metadata={'head': 'GUANUCO'}, page_content=\"GUANUCO, (Géog.) ville de l'Amérique méridionale, capitale d'une contrée de même nom, dans l'audience de Lima ; elle abonde en ce qui est nécessaire à la vie, & elle a quelques mille Indiens tributaires ; elle est à 45 lieues N. E. de Lima. Long. 34. 40. lat. mérid. 9. 55. (D. J.)\"),\n",
       " Document(id='85', metadata={'head': 'AGUATULCO ou AQUATULCO ou GUATULCO'}, page_content='* AGUATULCO ou AQUATULCO ou GUATULCO, ville & port de la nouvelle Espagne, en Amérique, sur la mer du Sud. Longit. 279. latit. 25. 10.'),\n",
       " Document(id='86', metadata={'head': 'DENDERMONDE, ou DERMONDE, ou TENERMONDE'}, page_content=\"DENDERMONDE, ou DERMONDE, ou TENERMONDE, ville des Pays-bas autrichiens: elle est située au confluent de la Dendre & de l'Escaut. Long. 21. 38. lat. 51. 3.\"),\n",
       " Document(id='87', metadata={'head': 'MONSTERBERG ou MUNSTERBERG'}, page_content=\"MONSTERBERG ou MUNSTERBERG, (Géog.) ville de la basse Silésie dans la province de même nom. Elle a été fondée par l'Empereur Henri Il. qui fit bâtir en ce lieu un monastere, d'où elle fut appellée Monsterberg. El'c est à 5 milles N.E.O. de Glatz, 8 S. de Breslau. Long. 34. 56. lat. 50. 38.\"),\n",
       " Document(id='88', metadata={'head': 'TIANO'}, page_content=\"TIANO, (Géog. mod.) en latin Teanum, ancienne petite ville d'Italie, au royaume de Naples, dans la terre de Labour, à quatre lieues au couchant de Capoue. Elle a des eaux minérales dans son voisinage. Long. 31. 45. latit. 41. 36. (D. J.)\"),\n",
       " Document(id='89', metadata={'head': 'BELTZ ou BELTZKO'}, page_content='* BELTZ ou BELTZKO, (Géog.) ville de Pologne, dans le palatinat de même nom. Long. 42. 44. lat. 50. 30.'),\n",
       " Document(id='90', metadata={'head': 'NORDHAUSEN'}, page_content=\"NORDHAUSEN, (Géog.) ancienne ville impériale d'Allemagne, dans le cercle de basse-Saxe, sur le Hartz. Elle est sous la protection de l'électeur de Saxe, & suit la confession d'Ausbourg : elle a un conseil souverain, & est dans un pays fertile, à 10 lieues S. O. de Dresde. Long. 30. 42. lat. 51. 24.\"),\n",
       " Document(id='91', metadata={'head': 'NORDHAUSEN'}, page_content='S. O. de Dresde. Long. 30. 42. lat. 51. 24. (D. J.)'),\n",
       " Document(id='92', metadata={'head': 'ABARANER'}, page_content='* ABARANER, s. petite Ville dans la grande Arménie. Long. 64. lat. 39. 50.'),\n",
       " Document(id='93', metadata={'head': 'Salomon, les îles de'}, page_content=\"Salomon, les îles de, (Géog. mod.) îles de la mer du sud, ainsi nommées par Alvaro de Mendoça, qui les découvrit en 1567. Les principales sont, dit-on, au nombre de dix-huit. La plus grande se nomme l'île Isabelle, à laquelle on donne plus de cent lieues de tour. Ce qu'il y a de sûr, c'est que la\"),\n",
       " Document(id='94', metadata={'head': 'Salomon, les îles de'}, page_content=\"lieues de tour. Ce qu'il y a de sûr, c'est que la plûpart des îles de Salomon ne sont point découvertes, & que celles qui le sont, ne sont pas connues. Tout ce qu'on en sait, c'est qu'en général l'air y est assez tempéré; mais on ne connoît ni le terroir, ni les habitans de ces îles. Long. selon\"),\n",
       " Document(id='95', metadata={'head': 'Salomon, les îles de'}, page_content='terroir, ni les habitans de ces îles. Long. selon Dudley, 162. 204. latit. 7. 23. (D. J.)'),\n",
       " Document(id='96', metadata={'head': 'PENISCOLA'}, page_content=\"PENISCOLA, (Géog. mod.) ou Penoscola, ville d'Espagne au royaume de Valence, vers le bord de la mer, au nord d'Oropesa, & sur une pointe de terre fort élevée. Long. 13. 6. lat. 39. 15. (D. J.)\"),\n",
       " Document(id='97', metadata={'head': 'Wangen'}, page_content=\"Wangen, (Géog. mod.) ville impériale d'Allemagne, dans la Suabe, sur la riviere du haut Arg (Ober-Arg) à 12 milles au nord de Lindaw, & à 30 au nord-est de Constance ; il s'y fait quelque commerce de toiles : cette ville est l'ancienne Vemania, ou Viana de la Rhétie. Long. 27. 35. latit. 47. 36. (D.\"),\n",
       " Document(id='98', metadata={'head': 'Wangen'}, page_content='de la Rhétie. Long. 27. 35. latit. 47. 36. (D. J.)'),\n",
       " Document(id='99', metadata={'head': 'LOGROGNO, ou LOGRONO'}, page_content=\"Logrogno est la patrie de Rodriguez d'Arriega, fameux jésuite espagnol, mort à Prague en 1667, âgé de 75 ans. Il a répandu beaucoup de subtilités scholastiques dans sa vaste théologie, qui contient huit volume in-fol. & plus encore dans son cours latin de philosophie, imprimé à Anvers en 1632, & à\"),\n",
       " Document(id='100', metadata={'head': 'LOGROGNO, ou LOGRONO'}, page_content=\"de philosophie, imprimé à Anvers en 1632, & à Lyon en 1669 in-fol. Semblable à ces guerriers qui dévastent le pays ennemi, sans pouvoir mettre leurs frontieres en état de résistance, il se montre bien plus habile à ruiner ce qu'il nie, qu'à prouver ce qu'il prétend établir. C'est dommage que cet\"),\n",
       " Document(id='101', metadata={'head': 'LOGROGNO, ou LOGRONO'}, page_content=\"ce qu'il prétend établir. C'est dommage que cet homme subtil & pénétrant n'ait eu aucune connoissance des bons principes de la Théologie & de la Philosophie ; mais on est encore bien éloigné de s'en douter en Espagne ; hé, comment le jésuite d'Ariéga les auroit-il connus il y a cent ans? (D. J.)\"),\n",
       " Document(id='102', metadata={'head': 'ICONIUM'}, page_content=\"ICONIUM, (Géog. anc.) Voyez-en l'article sous le nom françois Icone.\"),\n",
       " Document(id='103', metadata={'head': 'CARPI'}, page_content=\"CARPI, (Géog.) ville d'Italie en Lombardie dans le Modénois. Long. 28. 25. lat. 44. 45.\"),\n",
       " Document(id='104', metadata={'head': 'CHAUL'}, page_content='CHAUL, (Geog.) ville forte des Indes, sur la côte de Malabar, dans le royaume de Visapour, avec un port. Long. 90. 20. lat. 18. 30.'),\n",
       " Document(id='105', metadata={'head': 'Traina'}, page_content='Traina, (Géog. mod.) riviere de Sicile dans le val-Démona. Elle tire son origine de deux sources, & se perd dans la Dittaino. (D. J.)'),\n",
       " Document(id='106', metadata={'head': 'ANAFE ou AFFA'}, page_content=\"* ANAFE ou AFFA, (Géog. mod.) ville de la province de Temesne, au Royaume de Fez en Afrique, sur la côte de l'Océan atlantique. Alfonse Roi de Portugal, la ruina, pour mettre fin aux courses que ses habitans faisoient sur les Chrétiens.\"),\n",
       " Document(id='107', metadata={'head': 'LANDSTUL'}, page_content=\"LANDSTUL, (Géogr.) bourg d'Allemagne avec un fort château sur un rocher dans le Wasgow, entre Deux-Ponts & Keysers-Lautern. Long. 26. 20. lat. 49. 25.\"),\n",
       " Document(id='108', metadata={'head': 'INDIGIRKA'}, page_content='INDIGIRKA, (Géog.) fleuve de la partie septentrionale de la Sibérie, qui a son embouchure dans la mer glaciale.'),\n",
       " Document(id='109', metadata={'head': 'LADAC ou LADNEA'}, page_content=\"LADAC ou LADNEA, (Géog.) royaume d'Asie dans le grand Thibet, dont il fait partie : il est par les 35d de latitude septentrionale, & a au nord des deserts traversés par le chemin de Cachemire au Tangut. (D. J.\"),\n",
       " Document(id='110', metadata={'head': 'Ville-Franche'}, page_content='Ville-Franche, (Géog. mod.) petite ville de France, dans le Roussillon, capitale du Conflant, au pié des Pyrénées, sur la Tet, à 9 lieues au sudouest de Perpignan, à 10 au nord-est de Puycerda, & à 180 de Paris. Elle fut fondée en 1092 par Guillaume Raymond, comte de Cerdaigne. Sa position est entre'),\n",
       " Document(id='111', metadata={'head': 'Ville-Franche'}, page_content=\"comte de Cerdaigne. Sa position est entre deux montagnes très-hautes, & si voisines l'une de l'autre, qu'il n'y a entre-deux qu'un chemin pour le passage d'une charrette. La Tet y coule comme un torrent. Cette place a été cédée à la France avec tout le Roussillon en 1659, par la paix des Pyrénées.\"),\n",
       " Document(id='112', metadata={'head': 'Ville-Franche'}, page_content=\"le Roussillon en 1659, par la paix des Pyrénées. Louis XIV. y a fait élever un château où l'on tient un commandant & un état major. Long. 20. latit. 42. 23. (D. J.)\"),\n",
       " Document(id='113', metadata={'head': 'XAOCHEU'}, page_content='XAOCHEU, (Géog. mod.) ville de la Chine, dans la province de Quantong, dont elle a la seconde métropole. Long. suivant le p. Noël, 150. 43. 30. lat. 24. 42. 10.'),\n",
       " Document(id='114', metadata={'head': 'ABELLINAS'}, page_content=\"* ABELLINAS, s. vallée de Syrie entre le Liban & l'Antiliban, dans laquelle Damas est située.\"),\n",
       " Document(id='115', metadata={'head': 'SELINUNTE en Cilicie'}, page_content=\"SELINUNTE en Cilicie, (Géog. anc.) Selinus, ville de la Cilicie-Trachée. Pline en fait mention. Strabon la met à l'embouchure du fleuve de son nom, entre un lieu fortifié nommé Laërtès, & un rocher nommé Cragus. Ptolomée, l. V. c. xxvij. qui écrit Selenus, en fait une ville maritime qu'il place\"),\n",
       " Document(id='116', metadata={'head': 'SELINUNTE en Cilicie'}, page_content=\"Selenus, en fait une ville maritime qu'il place entre Jotapoe & Antiochoe super Crago.\"),\n",
       " Document(id='117', metadata={'head': 'ABISSINIE'}, page_content=\"* ABISSINIE, s. f. grand Pays & Royaume d'Afrique. Long. 48-65. lat. 6-20.\"),\n",
       " Document(id='118', metadata={'head': 'RESOVIE ou RESZOW'}, page_content=\"RESOVIE ou RESZOW, (Géog. mod.) petite ville de la Pologne, au palatinat de Russie, sur la riviere de Wisoch, avec un château pour sa défense. long. 40. 10'. latit. 40. 51'. (D. J.)\"),\n",
       " Document(id='119', metadata={'head': 'AGMAT ou AGMET'}, page_content=\"* AGMAT ou AGMET, (Géog.) ville d'Afrique, au Royaume de Maroc, dans la province & sur la riviere de même nom. Long. 11. 20. lat. 30. 35.\"),\n",
       " Document(id='120', metadata={'head': 'THUSEI'}, page_content=\"THUSEI, (Géog. anc.) nom de la belle terre que Pline le jeune avoit en Toscane : il en fait la description dans une de ses lettres à Apollinaire, liv. VI. let. 9. & je vais la transcrire ici, parce que c'est la plus charmante description que je connoisse, parce qu'elle est un modele unique en ce\"),\n",
       " Document(id='121', metadata={'head': 'THUSEI'}, page_content=\"parce qu'elle est un modele unique en ce genre, & parce qu'enfin il faut quelquefois amuser le lecteur par des peintures riantes, & le dédommager de la sécheresse indispensable de plusieurs autres articles.\"),\n",
       " Document(id='122', metadata={'head': 'LIBAN, le, Libanus'}, page_content=\"L'anti-Liban, ainsi nommé à cause de sa situation opposée à celle du Liban, est une autre suite de montagnes qui s'élevent auprès des ruines de Sidon, & vont se terminer à d'autres montagnes du pays des Arabes, vers la Trachonitide, sous le 34 degré.\"),\n",
       " Document(id='123', metadata={'head': 'GUIENNE, (la)'}, page_content=\"La Guienne, province, est bornée au nord par le Poitou, l'Angoumois, & la Marche ; à l'est par l'Auvergne & par le Languedoc ; au sud par les Pyrénées, & à l'oüest par l'Océan. Elle forme le plus grand gouvernement de France, qui a quatre-vingt lieues de large sur quatre-vingt-dix de long : les\"),\n",
       " Document(id='124', metadata={'head': 'GUIENNE, (la)'}, page_content=\"de large sur quatre-vingt-dix de long : les rivieres qui l'arrosent sont l'Adour, le Tarn, l'Avéiron, & le Lot.\"),\n",
       " Document(id='125', metadata={'head': 'Maure Sainte'}, page_content=\"Maure Sainte, (Géog.) petite ville de France en Touraine, au diocese de Tours, à sept lieues de cette ville, 59 S. O. de Paris. Long. 18d. 16'. 45''. lat. 47d. 6'. 39''.\"),\n",
       " Document(id='126', metadata={'head': 'LERME'}, page_content=\"LERME, (Géog.) petite ville d'Espagne, dans la vieille Castille, erigée en duché par Philippes III. en 1599, en saveur de son favori & premier ministre le due de Lerme, qui devint cardinal après la mort de sa femme, & qui y bâtit le château de Lerme. La ville est sur la petite riviere d'Arlanzon, à\"),\n",
       " Document(id='127', metadata={'head': 'LERME'}, page_content=\"La ville est sur la petite riviere d'Arlanzon, à 6 lieues de Burgos, & à 12 de Valladolid. Long. 14. 10. let. 61. 30.\"),\n",
       " Document(id='128', metadata={'head': 'CHAMBÉRY'}, page_content=\"CHAMBÉRY, (Géog. mod.) ville considérable & capitale du duché de Savoie, sur les ruisseaux de Laisse & d'Albans. Long. 23. 30. lat. 45. 35.\"),\n",
       " Document(id='129', metadata={'head': 'ABYLA'}, page_content=\"* ABYLA, s. nom de montagne & de ville dans le détroit de Gibraltar sur la côte de Mauritanie. C'étoit une des Colonnes d'Hercule, & Calpé sur la côte d'Espagne etoit l'autre. On croit que la ville d'Abyla des anciens est le Septa des modernes ; & la montagne, celle que nous appellons montagne des\"),\n",
       " Document(id='130', metadata={'head': 'ABYLA'}, page_content='montagne, celle que nous appellons montagne des Singes.'),\n",
       " Document(id='131', metadata={'head': 'Batha, Bath, Bachia'}, page_content='* Batha, Bath, Bachia, (Géog.) ville de Hongrie, capitale du comté du même nom, sur la rive occidentale du Danube, à cinq lieues du confluent de la Drave. Long. 37. lat. 46. 40.'),\n",
       " Document(id='132', metadata={'head': 'DARDANIE'}, page_content=\"* DARDANIE, s. f. (Géog. anc.) petite province dépendante des Troyens, & située au nord de la Troade. La capitale portoit le même nom ; elle étoit voisine de la source du Simoïs ; elle avoit été bâtie par Dardanus. La Samothrace s'appella aussi Dardanie. Ce fut encore le nom de la Dacie\"),\n",
       " Document(id='133', metadata={'head': 'DARDANIE'}, page_content='aussi Dardanie. Ce fut encore le nom de la Dacie méditerranée. Voyez Daces.'),\n",
       " Document(id='134', metadata={'head': 'MONMORILLON'}, page_content=\"MONMORILLON, (Géog.) en latin moderne mons Morillio, ville de France, aux confins de la Marche & du Berri, au bord de la Gartampe, qu'on y passe sur un pont le pierre, à neuf lieues de Poitiers. Long. 18. 30. lat. 46. 28.\"),\n",
       " Document(id='135', metadata={'head': 'BISAGOS'}, page_content=\"BISAGOS, (Géog.) îles d'Afrique proche de la côte de Guinée, dont la principale est celle de Formosa. Long. 2. lat. 11.\"),\n",
       " Document(id='136', metadata={'head': 'WESTPHALIE'}, page_content=\"WESTPHALIE, (Géog. mod.) cercle d'Allemagne, qu'on divise en province & en duché. Les états du cercle de Westphalie sont les évêques de Paterborn, de Liege, de Munster, d'Osnabrug, les abbés de Munster, de Stablo & de Corvey : les abbesses d'Herforden & d'Effen : les ducs de Juliers, de Cleves & de\"),\n",
       " Document(id='137', metadata={'head': 'WESTPHALIE'}, page_content=\"& d'Effen : les ducs de Juliers, de Cleves & de Berg : les principautés de Ferden, de Minden, d'Ostfrise, de Nassau-Dillenbourg & plusieurs comtes. Les villes de Cologne, d'Aix-la-Chapelle, de Dormund & de Hesford, entrent dans ce cercle. L'évêque de Munster & les ducs de Juliers & de Cleves sont\"),\n",
       " Document(id='138', metadata={'head': 'WESTPHALIE'}, page_content='de Munster & les ducs de Juliers & de Cleves sont directeurs du cercle de Westphalie, dont le contingent est de 304 cavaliers & 1282 fantassins, ou de 8164 florins par mois.')]"
      ]
     },
     "execution_count": 20,
     "metadata": {},
     "output_type": "execute_result"
    }
   ],
   "source": [
    "docs = []\n",
    "if chunk_size is not None:\n",
    "    j = 0\n",
    "    for index, chunk in enumerate(ds['test']['text'][:nb_docs]):\n",
    "        if len(chunk) > chunk_size:\n",
    "            chunks = RecursiveCharacterTextSplitter(chunk_size=chunk_size, chunk_overlap=chunk_overlap).split_text(chunk)\n",
    "            for i, c in enumerate(chunks):\n",
    "                if head:\n",
    "                    ch = ds['test']['meta'][index][\"head\"] + \", \" + c if i > 0 else c\n",
    "                else:\n",
    "                    ch = c\n",
    "                docs.append(Document(page_content=ch, metadata={\"head\": ds['test']['meta'][index][\"head\"]}, id=j))\n",
    "                j += 1\n",
    "        else:\n",
    "            docs.append(Document(page_content=chunk, metadata={\"head\": ds['test']['meta'][index][\"head\"]}, id=j))\n",
    "            j += 1\n",
    "else:\n",
    "    docs = [Document(page_content=chunk, metadata={\"head\": ds['test']['meta'][index][\"head\"]}, id=index) for index, chunk in enumerate(ds['test']['text'][:nb_docs])]\n",
    "docs"
   ]
  },
  {
   "cell_type": "markdown",
   "metadata": {},
   "source": [
    "* Creating a Vector Store (Chroma) from Documents and persist the vector store to disk"
   ]
  },
  {
   "cell_type": "code",
   "execution_count": null,
   "metadata": {},
   "outputs": [],
   "source": [
    "#vector_store.reset_collection()\n",
    "\n",
    "# list of existing collections\n",
    "# \"nb_docs_100_chunk-size_300_head_True\"\n",
    "# \"nb_docs_100_chunk-size_300_head_False\"\n",
    "# \"nb_docs_100_chunk-size_None_head_False\"\n"
   ]
  },
  {
   "cell_type": "code",
   "execution_count": 33,
   "metadata": {},
   "outputs": [],
   "source": [
    "#collection_name = \"nb_docs_\"+str(nb_docs)+\"_chunk-size_\"+str(chunk_size)+\"_head_\"+str(head)\n",
    "\n",
    "#collection_name = \"nb_docs_100_chunk-size_300_head_True\"\n",
    "collection_name = \"nb_docs_100_chunk-size_300_head_False\"\n",
    "#collection_name = \"nb_docs_100_chunk-size_None_head_False\"\n",
    "\n",
    "vector_store = Chroma(\n",
    "    collection_name=collection_name,\n",
    "    embedding_function=embed_model,\n",
    "    persist_directory=\"./chroma_langchain_db\", \n",
    ")"
   ]
  },
  {
   "cell_type": "markdown",
   "metadata": {},
   "source": [
    "* Add documents to the collection:"
   ]
  },
  {
   "cell_type": "code",
   "execution_count": null,
   "metadata": {},
   "outputs": [],
   "source": [
    "#uuids = [str(uuid4()) for _ in range(len(docs))]\n",
    "\n",
    "#vector_store.add_documents(documents=docs, ids=uuids)"
   ]
  },
  {
   "cell_type": "markdown",
   "metadata": {},
   "source": [
    "* Test a similarity search with the vector store"
   ]
  },
  {
   "cell_type": "code",
   "execution_count": 34,
   "metadata": {},
   "outputs": [
    {
     "name": "stdout",
     "output_type": "stream",
     "text": [
      "* [SIM=1.322724] de la Rhétie. Long. 27. 35. latit. 47. 36. (D. J.) [{'head': 'Wangen'}]\n"
     ]
    }
   ],
   "source": [
    "results = vector_store.similarity_search_with_score(query=\"DUSSELDORP\",k=1)\n",
    "for doc, score in results:\n",
    "    print(f\"* [SIM={score:3f}] {doc.page_content} [{doc.metadata}]\")"
   ]
  },
  {
   "cell_type": "code",
   "execution_count": null,
   "metadata": {},
   "outputs": [],
   "source": [
    "results = vector_store.similarity_search_with_score(query=\"Dans quel pays se situe DUSSELDORP ?\",k=1)\n",
    "for doc, score in results:\n",
    "    print(f\"* [SIM={score:3f}] {doc.page_content} [{doc.metadata}]\")"
   ]
  },
  {
   "cell_type": "markdown",
   "metadata": {},
   "source": [
    "* Creating a Retriever"
   ]
  },
  {
   "cell_type": "code",
   "execution_count": null,
   "metadata": {},
   "outputs": [],
   "source": [
    "retriever = vector_store.as_retriever()"
   ]
  },
  {
   "cell_type": "markdown",
   "metadata": {},
   "source": [
    "* Creating a Retrieval Chain"
   ]
  },
  {
   "cell_type": "code",
   "execution_count": null,
   "metadata": {},
   "outputs": [],
   "source": [
    "chain = create_retrieval_chain(combine_docs_chain=llm,retriever=retriever)"
   ]
  },
  {
   "cell_type": "markdown",
   "metadata": {},
   "source": [
    "* Retrieval-QA Chat Prompt"
   ]
  },
  {
   "cell_type": "code",
   "execution_count": null,
   "metadata": {},
   "outputs": [],
   "source": [
    "retrieval_qa_chat_prompt = hub.pull(\"langchain-ai/retrieval-qa-chat\")"
   ]
  },
  {
   "cell_type": "markdown",
   "metadata": {},
   "source": [
    "* Combining Documents"
   ]
  },
  {
   "cell_type": "code",
   "execution_count": null,
   "metadata": {},
   "outputs": [],
   "source": [
    "combine_docs_chain = create_stuff_documents_chain(\n",
    "    llm, retrieval_qa_chat_prompt\n",
    ")"
   ]
  },
  {
   "cell_type": "markdown",
   "metadata": {},
   "source": [
    "* Final Retrieval Chain"
   ]
  },
  {
   "cell_type": "code",
   "execution_count": null,
   "metadata": {},
   "outputs": [],
   "source": [
    "retrieval_chain = create_retrieval_chain(retriever, combine_docs_chain)    "
   ]
  },
  {
   "cell_type": "markdown",
   "metadata": {},
   "source": [
    "* Invoking the Retrieval Chain"
   ]
  },
  {
   "cell_type": "code",
   "execution_count": null,
   "metadata": {},
   "outputs": [],
   "source": [
    "response = retrieval_chain.invoke({\"input\": \"Dans quel pays se situe DUSSELDORP ?\"})\n",
    "print(response['answer'])"
   ]
  },
  {
   "cell_type": "code",
   "execution_count": null,
   "metadata": {},
   "outputs": [],
   "source": [
    "response = retrieval_chain.invoke({\"input\": \"Quel est la localisation de Patany (latitude / longitude) ?\"})\n",
    "print(response['answer'])"
   ]
  },
  {
   "cell_type": "markdown",
   "metadata": {},
   "source": [
    "## TODO: \n",
    "\n",
    "* faire un test des mêmes requêtes mais avec les chunks sans la concaténation du titre d'article\n",
    "* faire un test des mêmes requêtes mais avec les chunks sans limite de taille\n",
    "* ...\n"
   ]
  },
  {
   "cell_type": "code",
   "execution_count": null,
   "metadata": {},
   "outputs": [],
   "source": [
    "vector_store.delete_collection()"
   ]
  }
 ],
 "metadata": {
  "kernelspec": {
   "display_name": "rag-py311",
   "language": "python",
   "name": "python3"
  },
  "language_info": {
   "codemirror_mode": {
    "name": "ipython",
    "version": 3
   },
   "file_extension": ".py",
   "mimetype": "text/x-python",
   "name": "python",
   "nbconvert_exporter": "python",
   "pygments_lexer": "ipython3",
   "version": "3.11.10"
  }
 },
 "nbformat": 4,
 "nbformat_minor": 2
}
