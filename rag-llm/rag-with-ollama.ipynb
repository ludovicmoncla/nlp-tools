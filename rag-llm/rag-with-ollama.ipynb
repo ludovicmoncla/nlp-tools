{
 "cells": [
  {
   "cell_type": "markdown",
   "metadata": {},
   "source": [
    "# RAG with Ollama\n",
    "\n",
    "\n",
    "> Note: Before proceeding further you need to download and run Ollama: https://ollama.com/.\n",
    "\n",
    "This notebook demonstrates how to use the `rag` model with Ollama. \n",
    "Source: https://dev.to/mohsin_rashid_13537f11a91/rag-with-ollama-1049"
   ]
  },
  {
   "cell_type": "markdown",
   "metadata": {},
   "source": [
    "* Import Libraries"
   ]
  },
  {
   "cell_type": "code",
   "execution_count": 1,
   "metadata": {},
   "outputs": [],
   "source": [
    "from langchain_ollama import OllamaLLM\n",
    "from langchain_ollama.embeddings import OllamaEmbeddings\n",
    "\n",
    "from langchain_core.documents import Document\n",
    "from langchain.text_splitter import RecursiveCharacterTextSplitter\n",
    "from langchain_chroma import Chroma\n",
    "from langchain.chains import create_retrieval_chain\n",
    "from langchain import hub\n",
    "from langchain.chains.combine_documents import create_stuff_documents_chain\n",
    "from uuid import uuid4\n",
    "\n",
    "from datasets import load_dataset\n",
    "import pandas as pd"
   ]
  },
  {
   "cell_type": "markdown",
   "metadata": {},
   "source": [
    "* Loading The LLM (Language Model)"
   ]
  },
  {
   "cell_type": "code",
   "execution_count": 2,
   "metadata": {},
   "outputs": [],
   "source": [
    "llm = OllamaLLM(model=\"llama3.2\", base_url=\"http://127.0.0.1:11434\")"
   ]
  },
  {
   "cell_type": "markdown",
   "metadata": {},
   "source": [
    "* Setting Ollama Embeddings"
   ]
  },
  {
   "cell_type": "code",
   "execution_count": 3,
   "metadata": {},
   "outputs": [],
   "source": [
    "embed_model = OllamaEmbeddings(\n",
    "    model=\"llama3.2\",\n",
    "    base_url='http://127.0.0.1:11434'\n",
    ")"
   ]
  },
  {
   "cell_type": "markdown",
   "metadata": {},
   "source": [
    "* Loading Text"
   ]
  },
  {
   "cell_type": "code",
   "execution_count": 4,
   "metadata": {},
   "outputs": [],
   "source": [
    "ds = load_dataset(\"GEODE/GeoEDdA\")"
   ]
  },
  {
   "cell_type": "code",
   "execution_count": 5,
   "metadata": {},
   "outputs": [],
   "source": [
    "#dfs = []\n",
    "#for key in ds.keys():\n",
    "#    dfs.append(pd.DataFrame({'dataset':key, 'text':ds[key]['text'], 'meta':ds[key]['meta']}))\n",
    "#df = pd.concat(dfs, ignore_index=True)\n",
    "\n",
    "#text = \" \".join(df.text.to_list())"
   ]
  },
  {
   "cell_type": "code",
   "execution_count": 6,
   "metadata": {},
   "outputs": [],
   "source": [
    "nb_docs = 5"
   ]
  },
  {
   "cell_type": "code",
   "execution_count": 7,
   "metadata": {},
   "outputs": [
    {
     "data": {
      "text/plain": [
       "['COMPIEGNE, (Géog. mod.) ville de France, dans l\\'île de France. Long. 20d. 29\\'. 41\". lat. 49d. 24\\'. 59\".',\n",
       " \"HILPERHAUSEN, (Géog.) ville d'Allemagne en Franconie, sur la Werra, au comté de Henneberg, entre Cobourg & Smalcalde ; elle appartient à une branche de la maison de Saxe-Gotha. Long. 28. 15. lat. 50. 35. (D. J.)\",\n",
       " \"Patane ou Patany, (Géog. mod.) royaume des Indes dans la presqu'île de Malaca, sur la côte orientale, entre le royaume de Siam & de Paha. Les habitans sont en partie mahométans & en partie payens. Les Chinois font avec eux un grand commerce ; on n'y distingue que deux saisons, l'hiver & l'été; l'hiver dure pendant les mois de Novembre, Décembre & Janvier, pendant lesquels il pleut sans cesse. Les bois sont remplis d'éléphans, de sangliers & de guenons. Le royaume, dit Gervaise, releve du roi de Siam, & est gouverné par une reine qui ne peut se marier, mais qui peut avoir des amans tant qu'elle veut. La lubricité des femmes y est si grande, que les hommes sont contraints de se faire de certaines garnitures pour se mettre à l'abri de leurs entreprises. C'est là, c'est aux Maldives, c'est à Bantan, que la nature a une force & la pudeur une foiblesse qu'on ne peut comprendre ; c'est-là, dit M. de Montesquieu, qu'on voit jusqu'à quel point les vices du climat laissés dans la liberté, peuvent porter le désordre. Long. 119. lat. 7. (D. J.)\",\n",
       " \"* ABYDE ou ABYDOS, sub. Ville maritime de Phrygie vis-à-vis de Sestos. Xercès joignit ces deux endroits éloignés l'un de l'autre de sept stades, par le pont qu'il jetta sur l'Hellespont.\",\n",
       " 'DUSSELDORP, (Géog. mod.) ville du cercle de Westphalie, capitale du duché de Berg en Allemagne ; elle est sur un ruisseau près du Rhin. Long. 24. 28. lat. 51. 12.']"
      ]
     },
     "execution_count": 7,
     "metadata": {},
     "output_type": "execute_result"
    }
   ],
   "source": [
    "ds['test']['text'][:nb_docs]"
   ]
  },
  {
   "cell_type": "markdown",
   "metadata": {},
   "source": [
    "* Option1: Splitting Text into Chunks"
   ]
  },
  {
   "cell_type": "code",
   "execution_count": 8,
   "metadata": {},
   "outputs": [],
   "source": [
    "#chunks = [\"ILLESCAS, (Géog.) petite ville d'Espagne, dans la nouvelle Castille, à six lieues au sud de Madrid.\", \n",
    "#          \"MULHAUSEN, (Géog.) ville impériale d'Allemagne, dans la Thuringe, sous la protection de l'électeur de Saxe, ce qui fait qu'elle est rangée parmi les villes de basse-Saxe ; elle a essuyé bien des calamités en divers tems. Henri le Lion la prit d'assaut en 1181, & la brûla. En 1366 un tremblement de terre en renversa la plus grande partie ; en 1442 un incendie ne lui fut guère moins funeste ; en 1525 elle fut assiegée par l'électeur de Saxe & le landgrave de Hesse, à cause des paysans révoltés qui s'en étoient emparés ; enfin après la paix de Westphalie, les divers partis l'ont ravagée tour-à-tour. Elle est située dans un pays fertile, sur la riviere d'Unstruth, à 5 milles de Nordhausen, 6 N. E. d'Eysenach, 10 N. O. d'Erford, 14 S. O. de Cassel. Long. 28. 14. lat. 51. 13. (D. J.)\"\n",
    "#            ]"
   ]
  },
  {
   "cell_type": "code",
   "execution_count": 9,
   "metadata": {},
   "outputs": [],
   "source": [
    "chunks = []\n",
    "#for doc in df.text.to_list():\n",
    "for doc in ds['test']['text'][:nb_docs]:\n",
    "    if len(doc) > 512:\n",
    "        chunks.extend(RecursiveCharacterTextSplitter(chunk_size=512, chunk_overlap=128).split_text(doc))\n",
    "    else:\n",
    "        chunks.append(doc)"
   ]
  },
  {
   "cell_type": "code",
   "execution_count": 10,
   "metadata": {},
   "outputs": [
    {
     "data": {
      "text/plain": [
       "7"
      ]
     },
     "execution_count": 10,
     "metadata": {},
     "output_type": "execute_result"
    }
   ],
   "source": [
    "len(chunks)"
   ]
  },
  {
   "cell_type": "markdown",
   "metadata": {},
   "source": [
    "* Option2: Splitting Text into Documents"
   ]
  },
  {
   "cell_type": "code",
   "execution_count": 11,
   "metadata": {},
   "outputs": [
    {
     "data": {
      "text/plain": [
       "[Document(id='0', metadata={'head': 'COMPIEGNE'}, page_content='COMPIEGNE, (Géog. mod.) ville de France, dans l\\'île de France. Long. 20d. 29\\'. 41\". lat. 49d. 24\\'. 59\".'),\n",
       " Document(id='1', metadata={'head': 'HILPERHAUSEN'}, page_content=\"HILPERHAUSEN, (Géog.) ville d'Allemagne en Franconie, sur la Werra, au comté de Henneberg, entre Cobourg & Smalcalde ; elle appartient à une branche de la maison de Saxe-Gotha. Long. 28. 15. lat. 50. 35. (D. J.)\"),\n",
       " Document(id='2', metadata={'head': 'Patane ou Patany'}, page_content=\"Patane ou Patany, (Géog. mod.) royaume des Indes dans la presqu'île de Malaca, sur la côte orientale, entre le royaume de Siam & de Paha. Les habitans sont en partie mahométans & en partie payens. Les Chinois font avec eux un grand commerce ; on n'y distingue que deux saisons, l'hiver & l'été; l'hiver dure pendant les mois de Novembre, Décembre & Janvier, pendant lesquels il pleut sans cesse. Les bois sont remplis d'éléphans, de sangliers & de guenons. Le royaume, dit Gervaise, releve du roi de Siam, & est gouverné par une reine qui ne peut se marier, mais qui peut avoir des amans tant qu'elle veut. La lubricité des femmes y est si grande, que les hommes sont contraints de se faire de certaines garnitures pour se mettre à l'abri de leurs entreprises. C'est là, c'est aux Maldives, c'est à Bantan, que la nature a une force & la pudeur une foiblesse qu'on ne peut comprendre ; c'est-là, dit M. de Montesquieu, qu'on voit jusqu'à quel point les vices du climat laissés dans la liberté, peuvent porter le désordre. Long. 119. lat. 7. (D. J.)\"),\n",
       " Document(id='3', metadata={'head': 'ABYDE ou ABYDOS'}, page_content=\"* ABYDE ou ABYDOS, sub. Ville maritime de Phrygie vis-à-vis de Sestos. Xercès joignit ces deux endroits éloignés l'un de l'autre de sept stades, par le pont qu'il jetta sur l'Hellespont.\"),\n",
       " Document(id='4', metadata={'head': 'DUSSELDORP'}, page_content='DUSSELDORP, (Géog. mod.) ville du cercle de Westphalie, capitale du duché de Berg en Allemagne ; elle est sur un ruisseau près du Rhin. Long. 24. 28. lat. 51. 12.')]"
      ]
     },
     "execution_count": 11,
     "metadata": {},
     "output_type": "execute_result"
    }
   ],
   "source": [
    "docs = [Document(page_content=chunk, metadata={\"head\": ds['test']['meta'][index][\"head\"]}, id=index) for index, chunk in enumerate(ds['test']['text'][:nb_docs])]\n",
    "docs"
   ]
  },
  {
   "cell_type": "markdown",
   "metadata": {},
   "source": [
    "* Creating a Vector Store (Chroma) from Text"
   ]
  },
  {
   "cell_type": "code",
   "execution_count": 12,
   "metadata": {},
   "outputs": [],
   "source": [
    "#vector_store = Chroma.from_texts(chunks, embed_model)"
   ]
  },
  {
   "cell_type": "markdown",
   "metadata": {},
   "source": [
    "* Creating a Vector Store (Chroma) from Documents and persist the vector store to disk"
   ]
  },
  {
   "cell_type": "code",
   "execution_count": 13,
   "metadata": {},
   "outputs": [
    {
     "data": {
      "text/plain": [
       "['0ff4d9a8-c447-4fb1-b348-ca27b5994ae3',\n",
       " '614343f6-7ba9-4604-a5ee-7f9f83224ef9',\n",
       " '1c567a4c-c90a-487c-961f-0b8da9c86692',\n",
       " '7ee998be-fbdf-4ba5-b3da-0080ee8e1e57',\n",
       " '678e1f68-2d00-4243-a536-659732aac34d']"
      ]
     },
     "execution_count": 13,
     "metadata": {},
     "output_type": "execute_result"
    }
   ],
   "source": [
    "vector_store = Chroma(\n",
    "    collection_name=\"test_collection\",\n",
    "    embedding_function=embed_model,\n",
    "    persist_directory=\"./chroma_langchain_db\", \n",
    ")\n",
    "\n",
    "\n",
    "uuids = [str(uuid4()) for _ in range(len(docs))]\n",
    "\n",
    "vector_store.add_documents(documents=docs, ids=uuids)"
   ]
  },
  {
   "cell_type": "markdown",
   "metadata": {},
   "source": [
    "* Test a similarity search with the vector store"
   ]
  },
  {
   "cell_type": "code",
   "execution_count": 15,
   "metadata": {},
   "outputs": [
    {
     "name": "stdout",
     "output_type": "stream",
     "text": [
      "* [SIM=1.425834] COMPIEGNE, (Géog. mod.) ville de France, dans l'île de France. Long. 20d. 29'. 41\". lat. 49d. 24'. 59\". [{'head': 'COMPIEGNE'}]\n"
     ]
    }
   ],
   "source": [
    "results = vector_store.similarity_search_with_score(query=\"Compiegne\",k=1)\n",
    "for doc, score in results:\n",
    "    print(f\"* [SIM={score:3f}] {doc.page_content} [{doc.metadata}]\")"
   ]
  },
  {
   "cell_type": "markdown",
   "metadata": {},
   "source": [
    "* Creating a Retriever"
   ]
  },
  {
   "cell_type": "code",
   "execution_count": 16,
   "metadata": {},
   "outputs": [],
   "source": [
    "retriever = vector_store.as_retriever()"
   ]
  },
  {
   "cell_type": "markdown",
   "metadata": {},
   "source": [
    "* Creating a Retrieval Chain"
   ]
  },
  {
   "cell_type": "code",
   "execution_count": 17,
   "metadata": {},
   "outputs": [],
   "source": [
    "chain = create_retrieval_chain(combine_docs_chain=llm,retriever=retriever)"
   ]
  },
  {
   "cell_type": "markdown",
   "metadata": {},
   "source": [
    "* Retrieval-QA Chat Prompt"
   ]
  },
  {
   "cell_type": "code",
   "execution_count": 18,
   "metadata": {},
   "outputs": [
    {
     "name": "stderr",
     "output_type": "stream",
     "text": [
      "/opt/homebrew/Caskroom/miniforge/base/envs/rag-py311/lib/python3.11/site-packages/langsmith/client.py:241: LangSmithMissingAPIKeyWarning: API key must be provided when using hosted LangSmith API\n",
      "  warnings.warn(\n"
     ]
    }
   ],
   "source": [
    "retrieval_qa_chat_prompt = hub.pull(\"langchain-ai/retrieval-qa-chat\")"
   ]
  },
  {
   "cell_type": "markdown",
   "metadata": {},
   "source": [
    "* Combining Documents"
   ]
  },
  {
   "cell_type": "code",
   "execution_count": 19,
   "metadata": {},
   "outputs": [],
   "source": [
    "combine_docs_chain = create_stuff_documents_chain(\n",
    "    llm, retrieval_qa_chat_prompt\n",
    ")"
   ]
  },
  {
   "cell_type": "markdown",
   "metadata": {},
   "source": [
    "* Final Retrieval Chain"
   ]
  },
  {
   "cell_type": "code",
   "execution_count": 20,
   "metadata": {},
   "outputs": [],
   "source": [
    "retrieval_chain = create_retrieval_chain(retriever, combine_docs_chain)    "
   ]
  },
  {
   "cell_type": "markdown",
   "metadata": {},
   "source": [
    "* Invoking the Retrieval Chain"
   ]
  },
  {
   "cell_type": "code",
   "execution_count": 21,
   "metadata": {},
   "outputs": [
    {
     "name": "stdout",
     "output_type": "stream",
     "text": [
      "Je suis désolé, mais je n'ai pas trouvé d'informations sur un endroit appelé \"Oostergo\" dans le contexte fourni. Il est possible que cela soit une erreur de frappe ou un terme qui ne figure pas dans les informations fournies. Si vous pourriez fournir plus de contexte ou clarifier la question, je serais heureux d'essayer de vous aider à nouveau.\n"
     ]
    }
   ],
   "source": [
    "response = retrieval_chain.invoke({\"input\": \"Dans quel pays se situe Oostergo ?\"})\n",
    "print(response['answer'])"
   ]
  },
  {
   "cell_type": "code",
   "execution_count": 22,
   "metadata": {},
   "outputs": [
    {
     "name": "stdout",
     "output_type": "stream",
     "text": [
      "Selon les informations fournies, la localisation de COMPIEGNE est la suivante :\n",
      "\n",
      "Latitude : 49°24'59''\n",
      "Longueur : 20d. 29'\n",
      "\n",
      "Ainsi, la localisation exacte de COMPIEGNE n'est pas spécifiée en longitudes décimales, mais plutôt en degrés, minutes et secondes.\n"
     ]
    }
   ],
   "source": [
    "response = retrieval_chain.invoke({\"input\": \"Quel est la localisation de COMPIEGNE (latitude / longitude) ?\"})\n",
    "print(response['answer'])"
   ]
  },
  {
   "cell_type": "code",
   "execution_count": null,
   "metadata": {},
   "outputs": [],
   "source": []
  }
 ],
 "metadata": {
  "kernelspec": {
   "display_name": "rag-py311",
   "language": "python",
   "name": "python3"
  },
  "language_info": {
   "codemirror_mode": {
    "name": "ipython",
    "version": 3
   },
   "file_extension": ".py",
   "mimetype": "text/x-python",
   "name": "python",
   "nbconvert_exporter": "python",
   "pygments_lexer": "ipython3",
   "version": "3.11.10"
  }
 },
 "nbformat": 4,
 "nbformat_minor": 2
}
