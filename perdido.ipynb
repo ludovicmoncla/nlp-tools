{
 "cells": [
  {
   "cell_type": "markdown",
   "metadata": {
    "colab_type": "text",
    "id": "YrOKr9pwkxJw"
   },
   "source": [
    "# PERDIDO Geoparser\n",
    "\n",
    "\n",
    "[![Open In Colab](https://colab.research.google.com/assets/colab-badge.svg)](http://colab.research.google.com/github/ludovicmoncla/nlp-tools/blob/main/perdido.ipynb)\n",
    "\n",
    "https://github.com/ludovicmoncla/perdido/"
   ]
  },
  {
   "cell_type": "markdown",
   "metadata": {},
   "source": [
    "## Import packages"
   ]
  },
  {
   "cell_type": "code",
   "execution_count": 10,
   "metadata": {},
   "outputs": [],
   "source": [
    "from perdido.geoparser import Geoparser\n",
    "from display_xml import XML\n",
    "from spacy import displacy\n",
    "import os"
   ]
  },
  {
   "cell_type": "markdown",
   "metadata": {},
   "source": [
    "## Parse text"
   ]
  },
  {
   "cell_type": "code",
   "execution_count": 2,
   "metadata": {},
   "outputs": [],
   "source": [
    "text = \"ABYDE ou ABYDOS, sub. Ville maritime de Phrygie vis-à-vis de Sestos.\"\n",
    "text += \"Xercès joignit ces deux endroits éloignés l'un de l'autre de sept stades, par le pont qu'il jetta sur l'Hellespont.\"\n"
   ]
  },
  {
   "cell_type": "code",
   "execution_count": 3,
   "metadata": {},
   "outputs": [],
   "source": [
    "geoparser = Geoparser(version='Encyclopedie', pos_tagger='stanza')\n",
    "doc = geoparser(text)"
   ]
  },
  {
   "cell_type": "markdown",
   "metadata": {},
   "source": [
    "* The `version` parameter can take 2 values: *Standard* (default), *Encyclopedie*."
   ]
  },
  {
   "cell_type": "markdown",
   "metadata": {},
   "source": [
    "* Print annotations per token:"
   ]
  },
  {
   "cell_type": "code",
   "execution_count": 4,
   "metadata": {},
   "outputs": [
    {
     "name": "stdout",
     "output_type": "stream",
     "text": [
      "token: ABYDE\tlemma: ABYDE\tpos: PROPN\tner: ['B-LOC']\n",
      "token: ou\tlemma: ou\tpos: CCONJ\tner: ['O']\n",
      "token: ABYDOS\tlemma: ABYDOS\tpos: PROPN\tner: ['B-LOC']\n",
      "token: ,\tlemma: \tpos: PUNCT\tner: ['O']\n",
      "token: sub\tlemma: sub\tpos: X\tner: ['O']\n",
      "token: .\tlemma: \tpos: PUNCT\tner: ['O']\n",
      "token: Ville\tlemma: ville\tpos: NOUN\tner: ['B-LOC']\n",
      "token: maritime\tlemma: maritime\tpos: ADJ\tner: ['I-LOC']\n",
      "token: de\tlemma: de\tpos: ADP\tner: ['I-LOC']\n",
      "token: Phrygie\tlemma: Phrygie\tpos: PROPN\tner: ['I-LOC']\n",
      "token: vis-à-vis\tlemma: vis-à-vis\tpos: ADV\tner: ['O']\n",
      "token: de\tlemma: de\tpos: ADP\tner: ['O']\n",
      "token: Sestos.Xercès\tlemma: SestosXercès\tpos: PROPN\tner: ['B-OTHER']\n",
      "token: joignit\tlemma: joindre\tpos: VERB\tner: ['O']\n",
      "token: ces\tlemma: ce\tpos: DET\tner: ['O']\n",
      "token: deux\tlemma: deux\tpos: NUM\tner: ['O']\n",
      "token: endroits\tlemma: endroit\tpos: NOUN\tner: ['O']\n",
      "token: éloignés\tlemma: éloigner\tpos: VERB\tner: ['O']\n",
      "token: l'\tlemma: le\tpos: DET\tner: ['O']\n",
      "token: un\tlemma: un\tpos: PRON\tner: ['O']\n",
      "token: de\tlemma: de\tpos: ADP\tner: ['O']\n",
      "token: l'\tlemma: le\tpos: DET\tner: ['O']\n",
      "token: autre\tlemma: autre\tpos: PRON\tner: ['O']\n",
      "token: de\tlemma: de\tpos: ADP\tner: ['O']\n",
      "token: sept\tlemma: sept\tpos: NUM\tner: ['O']\n",
      "token: stades\tlemma: stade\tpos: NOUN\tner: ['O']\n",
      "token: ,\tlemma: \tpos: PUNCT\tner: ['O']\n",
      "token: par\tlemma: par\tpos: ADP\tner: ['O']\n",
      "token: le\tlemma: le\tpos: DET\tner: ['O']\n",
      "token: pont\tlemma: pont\tpos: NOUN\tner: ['O']\n",
      "token: qu'\tlemma: que\tpos: PRON\tner: ['O']\n",
      "token: il\tlemma: il\tpos: PRON\tner: ['O']\n",
      "token: jetta\tlemma: jeter\tpos: VERB\tner: ['O']\n",
      "token: sur\tlemma: sur\tpos: ADP\tner: ['O']\n",
      "token: l'\tlemma: le\tpos: DET\tner: ['B-LOC']\n",
      "token: Hellespont\tlemma: Hellespont\tpos: PROPN\tner: ['I-LOC']\n",
      "token: .\tlemma: \tpos: PUNCT\tner: ['O']\n"
     ]
    }
   ],
   "source": [
    "for token in doc:\n",
    "    print(f'token: {token.text}\\tlemma: {token.lemma}\\tpos: {token.pos}\\tner: {token.tags}')"
   ]
  },
  {
   "cell_type": "markdown",
   "metadata": {},
   "source": [
    "* Get the XML-TEI output:"
   ]
  },
  {
   "cell_type": "code",
   "execution_count": 5,
   "metadata": {},
   "outputs": [
    {
     "data": {
      "text/html": [
       "\n",
       "    <div class=a249f966d-a6a8-4c99-a8b4-d7ccdb4cf856> \n",
       "        <style>\n",
       "            div.a249f966d-a6a8-4c99-a8b4-d7ccdb4cf856 pre { line-height: 125%; }\n",
       "div.a249f966d-a6a8-4c99-a8b4-d7ccdb4cf856 td.linenos .normal { color: inherit; background-color: transparent; padding-left: 5px; padding-right: 5px; }\n",
       "div.a249f966d-a6a8-4c99-a8b4-d7ccdb4cf856 span.linenos { color: inherit; background-color: transparent; padding-left: 5px; padding-right: 5px; }\n",
       "div.a249f966d-a6a8-4c99-a8b4-d7ccdb4cf856 td.linenos .special { color: #000000; background-color: #ffffc0; padding-left: 5px; padding-right: 5px; }\n",
       "div.a249f966d-a6a8-4c99-a8b4-d7ccdb4cf856 span.linenos.special { color: #000000; background-color: #ffffc0; padding-left: 5px; padding-right: 5px; }\n",
       "div.a249f966d-a6a8-4c99-a8b4-d7ccdb4cf856 .hll { background-color: #ffffcc }\n",
       "div.a249f966d-a6a8-4c99-a8b4-d7ccdb4cf856 .c { color: #888888; font-style: italic } /* Comment */\n",
       "div.a249f966d-a6a8-4c99-a8b4-d7ccdb4cf856 .err { background-color: #a848a8 } /* Error */\n",
       "div.a249f966d-a6a8-4c99-a8b4-d7ccdb4cf856 .k { color: #2838b0 } /* Keyword */\n",
       "div.a249f966d-a6a8-4c99-a8b4-d7ccdb4cf856 .o { color: #666666 } /* Operator */\n",
       "div.a249f966d-a6a8-4c99-a8b4-d7ccdb4cf856 .p { color: #888888 } /* Punctuation */\n",
       "div.a249f966d-a6a8-4c99-a8b4-d7ccdb4cf856 .ch { color: #287088; font-style: italic } /* Comment.Hashbang */\n",
       "div.a249f966d-a6a8-4c99-a8b4-d7ccdb4cf856 .cm { color: #888888; font-style: italic } /* Comment.Multiline */\n",
       "div.a249f966d-a6a8-4c99-a8b4-d7ccdb4cf856 .cp { color: #289870 } /* Comment.Preproc */\n",
       "div.a249f966d-a6a8-4c99-a8b4-d7ccdb4cf856 .cpf { color: #888888; font-style: italic } /* Comment.PreprocFile */\n",
       "div.a249f966d-a6a8-4c99-a8b4-d7ccdb4cf856 .c1 { color: #888888; font-style: italic } /* Comment.Single */\n",
       "div.a249f966d-a6a8-4c99-a8b4-d7ccdb4cf856 .cs { color: #888888; font-style: italic } /* Comment.Special */\n",
       "div.a249f966d-a6a8-4c99-a8b4-d7ccdb4cf856 .gd { color: #c02828 } /* Generic.Deleted */\n",
       "div.a249f966d-a6a8-4c99-a8b4-d7ccdb4cf856 .ge { font-style: italic } /* Generic.Emph */\n",
       "div.a249f966d-a6a8-4c99-a8b4-d7ccdb4cf856 .ges { font-weight: bold; font-style: italic } /* Generic.EmphStrong */\n",
       "div.a249f966d-a6a8-4c99-a8b4-d7ccdb4cf856 .gr { color: #c02828 } /* Generic.Error */\n",
       "div.a249f966d-a6a8-4c99-a8b4-d7ccdb4cf856 .gh { color: #666666 } /* Generic.Heading */\n",
       "div.a249f966d-a6a8-4c99-a8b4-d7ccdb4cf856 .gi { color: #388038 } /* Generic.Inserted */\n",
       "div.a249f966d-a6a8-4c99-a8b4-d7ccdb4cf856 .go { color: #666666 } /* Generic.Output */\n",
       "div.a249f966d-a6a8-4c99-a8b4-d7ccdb4cf856 .gp { color: #444444 } /* Generic.Prompt */\n",
       "div.a249f966d-a6a8-4c99-a8b4-d7ccdb4cf856 .gs { font-weight: bold } /* Generic.Strong */\n",
       "div.a249f966d-a6a8-4c99-a8b4-d7ccdb4cf856 .gu { color: #444444 } /* Generic.Subheading */\n",
       "div.a249f966d-a6a8-4c99-a8b4-d7ccdb4cf856 .gt { color: #2838b0 } /* Generic.Traceback */\n",
       "div.a249f966d-a6a8-4c99-a8b4-d7ccdb4cf856 .kc { color: #444444; font-style: italic } /* Keyword.Constant */\n",
       "div.a249f966d-a6a8-4c99-a8b4-d7ccdb4cf856 .kd { color: #2838b0; font-style: italic } /* Keyword.Declaration */\n",
       "div.a249f966d-a6a8-4c99-a8b4-d7ccdb4cf856 .kn { color: #2838b0 } /* Keyword.Namespace */\n",
       "div.a249f966d-a6a8-4c99-a8b4-d7ccdb4cf856 .kp { color: #2838b0 } /* Keyword.Pseudo */\n",
       "div.a249f966d-a6a8-4c99-a8b4-d7ccdb4cf856 .kr { color: #2838b0 } /* Keyword.Reserved */\n",
       "div.a249f966d-a6a8-4c99-a8b4-d7ccdb4cf856 .kt { color: #2838b0; font-style: italic } /* Keyword.Type */\n",
       "div.a249f966d-a6a8-4c99-a8b4-d7ccdb4cf856 .m { color: #444444 } /* Literal.Number */\n",
       "div.a249f966d-a6a8-4c99-a8b4-d7ccdb4cf856 .s { color: #b83838 } /* Literal.String */\n",
       "div.a249f966d-a6a8-4c99-a8b4-d7ccdb4cf856 .na { color: #388038 } /* Name.Attribute */\n",
       "div.a249f966d-a6a8-4c99-a8b4-d7ccdb4cf856 .nb { color: #388038 } /* Name.Builtin */\n",
       "div.a249f966d-a6a8-4c99-a8b4-d7ccdb4cf856 .nc { color: #287088 } /* Name.Class */\n",
       "div.a249f966d-a6a8-4c99-a8b4-d7ccdb4cf856 .no { color: #b85820 } /* Name.Constant */\n",
       "div.a249f966d-a6a8-4c99-a8b4-d7ccdb4cf856 .nd { color: #287088 } /* Name.Decorator */\n",
       "div.a249f966d-a6a8-4c99-a8b4-d7ccdb4cf856 .ni { color: #709030 } /* Name.Entity */\n",
       "div.a249f966d-a6a8-4c99-a8b4-d7ccdb4cf856 .ne { color: #908828 } /* Name.Exception */\n",
       "div.a249f966d-a6a8-4c99-a8b4-d7ccdb4cf856 .nf { color: #785840 } /* Name.Function */\n",
       "div.a249f966d-a6a8-4c99-a8b4-d7ccdb4cf856 .nl { color: #289870 } /* Name.Label */\n",
       "div.a249f966d-a6a8-4c99-a8b4-d7ccdb4cf856 .nn { color: #289870 } /* Name.Namespace */\n",
       "div.a249f966d-a6a8-4c99-a8b4-d7ccdb4cf856 .nt { color: #2838b0 } /* Name.Tag */\n",
       "div.a249f966d-a6a8-4c99-a8b4-d7ccdb4cf856 .nv { color: #b04040 } /* Name.Variable */\n",
       "div.a249f966d-a6a8-4c99-a8b4-d7ccdb4cf856 .ow { color: #a848a8 } /* Operator.Word */\n",
       "div.a249f966d-a6a8-4c99-a8b4-d7ccdb4cf856 .pm { color: #888888 } /* Punctuation.Marker */\n",
       "div.a249f966d-a6a8-4c99-a8b4-d7ccdb4cf856 .w { color: #a89028 } /* Text.Whitespace */\n",
       "div.a249f966d-a6a8-4c99-a8b4-d7ccdb4cf856 .mb { color: #444444 } /* Literal.Number.Bin */\n",
       "div.a249f966d-a6a8-4c99-a8b4-d7ccdb4cf856 .mf { color: #444444 } /* Literal.Number.Float */\n",
       "div.a249f966d-a6a8-4c99-a8b4-d7ccdb4cf856 .mh { color: #444444 } /* Literal.Number.Hex */\n",
       "div.a249f966d-a6a8-4c99-a8b4-d7ccdb4cf856 .mi { color: #444444 } /* Literal.Number.Integer */\n",
       "div.a249f966d-a6a8-4c99-a8b4-d7ccdb4cf856 .mo { color: #444444 } /* Literal.Number.Oct */\n",
       "div.a249f966d-a6a8-4c99-a8b4-d7ccdb4cf856 .sa { color: #444444 } /* Literal.String.Affix */\n",
       "div.a249f966d-a6a8-4c99-a8b4-d7ccdb4cf856 .sb { color: #b83838 } /* Literal.String.Backtick */\n",
       "div.a249f966d-a6a8-4c99-a8b4-d7ccdb4cf856 .sc { color: #a848a8 } /* Literal.String.Char */\n",
       "div.a249f966d-a6a8-4c99-a8b4-d7ccdb4cf856 .dl { color: #b85820 } /* Literal.String.Delimiter */\n",
       "div.a249f966d-a6a8-4c99-a8b4-d7ccdb4cf856 .sd { color: #b85820; font-style: italic } /* Literal.String.Doc */\n",
       "div.a249f966d-a6a8-4c99-a8b4-d7ccdb4cf856 .s2 { color: #b83838 } /* Literal.String.Double */\n",
       "div.a249f966d-a6a8-4c99-a8b4-d7ccdb4cf856 .se { color: #709030 } /* Literal.String.Escape */\n",
       "div.a249f966d-a6a8-4c99-a8b4-d7ccdb4cf856 .sh { color: #b83838 } /* Literal.String.Heredoc */\n",
       "div.a249f966d-a6a8-4c99-a8b4-d7ccdb4cf856 .si { color: #b83838; text-decoration: underline } /* Literal.String.Interpol */\n",
       "div.a249f966d-a6a8-4c99-a8b4-d7ccdb4cf856 .sx { color: #a848a8 } /* Literal.String.Other */\n",
       "div.a249f966d-a6a8-4c99-a8b4-d7ccdb4cf856 .sr { color: #a848a8 } /* Literal.String.Regex */\n",
       "div.a249f966d-a6a8-4c99-a8b4-d7ccdb4cf856 .s1 { color: #b83838 } /* Literal.String.Single */\n",
       "div.a249f966d-a6a8-4c99-a8b4-d7ccdb4cf856 .ss { color: #b83838 } /* Literal.String.Symbol */\n",
       "div.a249f966d-a6a8-4c99-a8b4-d7ccdb4cf856 .bp { color: #388038; font-style: italic } /* Name.Builtin.Pseudo */\n",
       "div.a249f966d-a6a8-4c99-a8b4-d7ccdb4cf856 .fm { color: #b85820 } /* Name.Function.Magic */\n",
       "div.a249f966d-a6a8-4c99-a8b4-d7ccdb4cf856 .vc { color: #b04040 } /* Name.Variable.Class */\n",
       "div.a249f966d-a6a8-4c99-a8b4-d7ccdb4cf856 .vg { color: #908828 } /* Name.Variable.Global */\n",
       "div.a249f966d-a6a8-4c99-a8b4-d7ccdb4cf856 .vi { color: #b04040 } /* Name.Variable.Instance */\n",
       "div.a249f966d-a6a8-4c99-a8b4-d7ccdb4cf856 .vm { color: #b85820 } /* Name.Variable.Magic */\n",
       "div.a249f966d-a6a8-4c99-a8b4-d7ccdb4cf856 .il { color: #444444 } /* Literal.Number.Integer.Long */\n",
       "        </style>\n",
       "        <div class=\"highlight\"><pre><span></span><span class=\"nt\">&lt;TEI&gt;</span>\n",
       "<span class=\"w\">  </span><span class=\"nt\">&lt;teiheader/&gt;</span>\n",
       "<span class=\"w\">  </span><span class=\"nt\">&lt;text&gt;</span>\n",
       "<span class=\"w\">    </span><span class=\"nt\">&lt;body&gt;</span>\n",
       "<span class=\"w\">      </span><span class=\"nt\">&lt;s&gt;</span>\n",
       "<span class=\"w\">        </span><span class=\"nt\">&lt;rs</span><span class=\"w\"> </span><span class=\"na\">type=</span><span class=\"s\">&quot;place&quot;</span><span class=\"w\"> </span><span class=\"na\">subtype=</span><span class=\"s\">&quot;no&quot;</span><span class=\"w\"> </span><span class=\"na\">id=</span><span class=\"s\">&quot;en.0&quot;</span><span class=\"w\"> </span><span class=\"na\">start=</span><span class=\"s\">&quot;0&quot;</span><span class=\"w\"> </span><span class=\"na\">end=</span><span class=\"s\">&quot;5&quot;</span><span class=\"w\"> </span><span class=\"na\">token_start=</span><span class=\"s\">&quot;0&quot;</span><span class=\"w\"> </span><span class=\"na\">token_end=</span><span class=\"s\">&quot;1&quot;</span><span class=\"nt\">&gt;</span>\n",
       "<span class=\"w\">          </span><span class=\"nt\">&lt;name</span><span class=\"w\"> </span><span class=\"na\">type=</span><span class=\"s\">&quot;place&quot;</span><span class=\"w\"> </span><span class=\"na\">subtype=</span><span class=\"s\">&quot;edda&quot;</span><span class=\"w\"> </span><span class=\"na\">id=</span><span class=\"s\">&quot;en.1&quot;</span><span class=\"w\"> </span><span class=\"na\">start=</span><span class=\"s\">&quot;0&quot;</span><span class=\"w\"> </span><span class=\"na\">end=</span><span class=\"s\">&quot;5&quot;</span><span class=\"w\"> </span><span class=\"na\">token_start=</span><span class=\"s\">&quot;0&quot;</span><span class=\"w\"> </span><span class=\"na\">token_end=</span><span class=\"s\">&quot;1&quot;</span><span class=\"nt\">&gt;</span>\n",
       "<span class=\"w\">            </span><span class=\"nt\">&lt;w</span><span class=\"w\"> </span><span class=\"na\">pos=</span><span class=\"s\">&quot;PROPN&quot;</span><span class=\"w\"> </span><span class=\"na\">lemma=</span><span class=\"s\">&quot;ABYDE&quot;</span><span class=\"w\"> </span><span class=\"na\">id=</span><span class=\"s\">&quot;w0&quot;</span><span class=\"w\"> </span><span class=\"na\">start=</span><span class=\"s\">&quot;0&quot;</span><span class=\"w\"> </span><span class=\"na\">end=</span><span class=\"s\">&quot;5&quot;</span><span class=\"nt\">&gt;</span>ABYDE<span class=\"nt\">&lt;/w&gt;</span>\n",
       "<span class=\"w\">          </span><span class=\"nt\">&lt;/name&gt;</span>\n",
       "<span class=\"w\">        </span><span class=\"nt\">&lt;/rs&gt;</span>\n",
       "<span class=\"w\">        </span><span class=\"nt\">&lt;w</span><span class=\"w\"> </span><span class=\"na\">pos=</span><span class=\"s\">&quot;CCONJ&quot;</span><span class=\"w\"> </span><span class=\"na\">lemma=</span><span class=\"s\">&quot;ou&quot;</span><span class=\"w\"> </span><span class=\"na\">id=</span><span class=\"s\">&quot;w1&quot;</span><span class=\"w\"> </span><span class=\"na\">start=</span><span class=\"s\">&quot;6&quot;</span><span class=\"w\"> </span><span class=\"na\">end=</span><span class=\"s\">&quot;8&quot;</span><span class=\"nt\">&gt;</span>ou<span class=\"nt\">&lt;/w&gt;</span>\n",
       "<span class=\"w\">        </span><span class=\"nt\">&lt;rs</span><span class=\"w\"> </span><span class=\"na\">type=</span><span class=\"s\">&quot;place&quot;</span><span class=\"w\"> </span><span class=\"na\">subtype=</span><span class=\"s\">&quot;no&quot;</span><span class=\"w\"> </span><span class=\"na\">id=</span><span class=\"s\">&quot;en.2&quot;</span><span class=\"w\"> </span><span class=\"na\">start=</span><span class=\"s\">&quot;9&quot;</span><span class=\"w\"> </span><span class=\"na\">end=</span><span class=\"s\">&quot;15&quot;</span><span class=\"w\"> </span><span class=\"na\">token_start=</span><span class=\"s\">&quot;2&quot;</span><span class=\"w\"> </span><span class=\"na\">token_end=</span><span class=\"s\">&quot;3&quot;</span><span class=\"nt\">&gt;</span>\n",
       "<span class=\"w\">          </span><span class=\"nt\">&lt;name</span><span class=\"w\"> </span><span class=\"na\">type=</span><span class=\"s\">&quot;place&quot;</span><span class=\"w\"> </span><span class=\"na\">subtype=</span><span class=\"s\">&quot;edda&quot;</span><span class=\"w\"> </span><span class=\"na\">id=</span><span class=\"s\">&quot;en.3&quot;</span><span class=\"w\"> </span><span class=\"na\">start=</span><span class=\"s\">&quot;9&quot;</span><span class=\"w\"> </span><span class=\"na\">end=</span><span class=\"s\">&quot;15&quot;</span><span class=\"w\"> </span><span class=\"na\">token_start=</span><span class=\"s\">&quot;2&quot;</span><span class=\"w\"> </span><span class=\"na\">token_end=</span><span class=\"s\">&quot;3&quot;</span><span class=\"nt\">&gt;</span>\n",
       "<span class=\"w\">            </span><span class=\"nt\">&lt;w</span><span class=\"w\"> </span><span class=\"na\">pos=</span><span class=\"s\">&quot;PROPN&quot;</span><span class=\"w\"> </span><span class=\"na\">lemma=</span><span class=\"s\">&quot;ABYDOS&quot;</span><span class=\"w\"> </span><span class=\"na\">id=</span><span class=\"s\">&quot;w2&quot;</span><span class=\"w\"> </span><span class=\"na\">start=</span><span class=\"s\">&quot;9&quot;</span><span class=\"w\"> </span><span class=\"na\">end=</span><span class=\"s\">&quot;15&quot;</span><span class=\"nt\">&gt;</span>ABYDOS<span class=\"nt\">&lt;/w&gt;</span>\n",
       "<span class=\"w\">            </span><span class=\"nt\">&lt;location&gt;</span>\n",
       "<span class=\"w\">              </span><span class=\"nt\">&lt;geo</span><span class=\"w\"> </span><span class=\"na\">source=</span><span class=\"s\">&quot;nominatim&quot;</span><span class=\"w\"> </span><span class=\"na\">rend=</span><span class=\"s\">&quot;Abydus, Edirne &amp;#199;anakkale Yolu, Eceabat, &amp;#199;anakkale, Marmara B&amp;#246;lgesi, 17900, T&amp;#252;rkiye&quot;</span><span class=\"nt\">&gt;</span>26.411269<span class=\"w\"> </span>40.194296<span class=\"nt\">&lt;/geo&gt;</span>\n",
       "<span class=\"w\">            </span><span class=\"nt\">&lt;/location&gt;</span>\n",
       "<span class=\"w\">          </span><span class=\"nt\">&lt;/name&gt;</span>\n",
       "<span class=\"w\">        </span><span class=\"nt\">&lt;/rs&gt;</span>\n",
       "<span class=\"w\">        </span><span class=\"nt\">&lt;w</span><span class=\"w\"> </span><span class=\"na\">pos=</span><span class=\"s\">&quot;PUNCT&quot;</span><span class=\"w\"> </span><span class=\"na\">lemma=</span><span class=\"s\">&quot;&quot;</span><span class=\"w\"> </span><span class=\"na\">id=</span><span class=\"s\">&quot;w3&quot;</span><span class=\"w\"> </span><span class=\"na\">start=</span><span class=\"s\">&quot;15&quot;</span><span class=\"w\"> </span><span class=\"na\">end=</span><span class=\"s\">&quot;16&quot;</span><span class=\"nt\">&gt;</span>,<span class=\"nt\">&lt;/w&gt;</span>\n",
       "<span class=\"w\">        </span><span class=\"nt\">&lt;w</span><span class=\"w\"> </span><span class=\"na\">pos=</span><span class=\"s\">&quot;X&quot;</span><span class=\"w\"> </span><span class=\"na\">lemma=</span><span class=\"s\">&quot;sub&quot;</span><span class=\"w\"> </span><span class=\"na\">id=</span><span class=\"s\">&quot;w4&quot;</span><span class=\"w\"> </span><span class=\"na\">start=</span><span class=\"s\">&quot;17&quot;</span><span class=\"w\"> </span><span class=\"na\">end=</span><span class=\"s\">&quot;20&quot;</span><span class=\"nt\">&gt;</span>sub<span class=\"nt\">&lt;/w&gt;</span>\n",
       "<span class=\"w\">        </span><span class=\"nt\">&lt;w</span><span class=\"w\"> </span><span class=\"na\">pos=</span><span class=\"s\">&quot;PUNCT&quot;</span><span class=\"w\"> </span><span class=\"na\">lemma=</span><span class=\"s\">&quot;&quot;</span><span class=\"w\"> </span><span class=\"na\">id=</span><span class=\"s\">&quot;w5&quot;</span><span class=\"w\"> </span><span class=\"na\">start=</span><span class=\"s\">&quot;20&quot;</span><span class=\"w\"> </span><span class=\"na\">end=</span><span class=\"s\">&quot;21&quot;</span><span class=\"nt\">&gt;</span>.<span class=\"nt\">&lt;/w&gt;</span>\n",
       "<span class=\"w\">        </span><span class=\"nt\">&lt;rs</span><span class=\"w\"> </span><span class=\"na\">type=</span><span class=\"s\">&quot;place&quot;</span><span class=\"w\"> </span><span class=\"na\">subtype=</span><span class=\"s\">&quot;no&quot;</span><span class=\"w\"> </span><span class=\"na\">id=</span><span class=\"s\">&quot;en.4&quot;</span><span class=\"w\"> </span><span class=\"na\">start=</span><span class=\"s\">&quot;22&quot;</span><span class=\"w\"> </span><span class=\"na\">end=</span><span class=\"s\">&quot;47&quot;</span><span class=\"w\"> </span><span class=\"na\">token_start=</span><span class=\"s\">&quot;6&quot;</span><span class=\"w\"> </span><span class=\"na\">token_end=</span><span class=\"s\">&quot;10&quot;</span><span class=\"nt\">&gt;</span>\n",
       "<span class=\"w\">          </span><span class=\"nt\">&lt;name</span><span class=\"w\"> </span><span class=\"na\">type=</span><span class=\"s\">&quot;place&quot;</span><span class=\"w\"> </span><span class=\"na\">subtype=</span><span class=\"s\">&quot;edda&quot;</span><span class=\"w\"> </span><span class=\"na\">id=</span><span class=\"s\">&quot;en.5&quot;</span><span class=\"w\"> </span><span class=\"na\">start=</span><span class=\"s\">&quot;22&quot;</span><span class=\"w\"> </span><span class=\"na\">end=</span><span class=\"s\">&quot;47&quot;</span><span class=\"w\"> </span><span class=\"na\">token_start=</span><span class=\"s\">&quot;6&quot;</span><span class=\"w\"> </span><span class=\"na\">token_end=</span><span class=\"s\">&quot;10&quot;</span><span class=\"nt\">&gt;</span>\n",
       "<span class=\"w\">            </span><span class=\"nt\">&lt;w</span><span class=\"w\"> </span><span class=\"na\">pos=</span><span class=\"s\">&quot;NOUN&quot;</span><span class=\"w\"> </span><span class=\"na\">lemma=</span><span class=\"s\">&quot;ville&quot;</span><span class=\"w\"> </span><span class=\"na\">id=</span><span class=\"s\">&quot;w6&quot;</span><span class=\"w\"> </span><span class=\"na\">start=</span><span class=\"s\">&quot;22&quot;</span><span class=\"w\"> </span><span class=\"na\">end=</span><span class=\"s\">&quot;27&quot;</span><span class=\"nt\">&gt;</span>Ville<span class=\"nt\">&lt;/w&gt;</span>\n",
       "<span class=\"w\">            </span><span class=\"nt\">&lt;w</span><span class=\"w\"> </span><span class=\"na\">pos=</span><span class=\"s\">&quot;ADJ&quot;</span><span class=\"w\"> </span><span class=\"na\">lemma=</span><span class=\"s\">&quot;maritime&quot;</span><span class=\"w\"> </span><span class=\"na\">id=</span><span class=\"s\">&quot;w7&quot;</span><span class=\"w\"> </span><span class=\"na\">start=</span><span class=\"s\">&quot;28&quot;</span><span class=\"w\"> </span><span class=\"na\">end=</span><span class=\"s\">&quot;36&quot;</span><span class=\"nt\">&gt;</span>maritime<span class=\"nt\">&lt;/w&gt;</span>\n",
       "<span class=\"w\">            </span><span class=\"nt\">&lt;w</span><span class=\"w\"> </span><span class=\"na\">pos=</span><span class=\"s\">&quot;ADP&quot;</span><span class=\"w\"> </span><span class=\"na\">lemma=</span><span class=\"s\">&quot;de&quot;</span><span class=\"w\"> </span><span class=\"na\">id=</span><span class=\"s\">&quot;w8&quot;</span><span class=\"w\"> </span><span class=\"na\">start=</span><span class=\"s\">&quot;37&quot;</span><span class=\"w\"> </span><span class=\"na\">end=</span><span class=\"s\">&quot;39&quot;</span><span class=\"nt\">&gt;</span>de<span class=\"nt\">&lt;/w&gt;</span>\n",
       "<span class=\"w\">            </span><span class=\"nt\">&lt;w</span><span class=\"w\"> </span><span class=\"na\">pos=</span><span class=\"s\">&quot;PROPN&quot;</span><span class=\"w\"> </span><span class=\"na\">lemma=</span><span class=\"s\">&quot;Phrygie&quot;</span><span class=\"w\"> </span><span class=\"na\">id=</span><span class=\"s\">&quot;w9&quot;</span><span class=\"w\"> </span><span class=\"na\">start=</span><span class=\"s\">&quot;40&quot;</span><span class=\"w\"> </span><span class=\"na\">end=</span><span class=\"s\">&quot;47&quot;</span><span class=\"nt\">&gt;</span>Phrygie<span class=\"nt\">&lt;/w&gt;</span>\n",
       "<span class=\"w\">          </span><span class=\"nt\">&lt;/name&gt;</span>\n",
       "<span class=\"w\">        </span><span class=\"nt\">&lt;/rs&gt;</span>\n",
       "<span class=\"w\">        </span><span class=\"nt\">&lt;w</span><span class=\"w\"> </span><span class=\"na\">pos=</span><span class=\"s\">&quot;ADV&quot;</span><span class=\"w\"> </span><span class=\"na\">lemma=</span><span class=\"s\">&quot;vis-&amp;#224;-vis&quot;</span><span class=\"w\"> </span><span class=\"na\">id=</span><span class=\"s\">&quot;w10&quot;</span><span class=\"w\"> </span><span class=\"na\">start=</span><span class=\"s\">&quot;48&quot;</span><span class=\"w\"> </span><span class=\"na\">end=</span><span class=\"s\">&quot;57&quot;</span><span class=\"nt\">&gt;</span>vis-<span class=\"ni\">&amp;#224;</span>-vis<span class=\"nt\">&lt;/w&gt;</span>\n",
       "<span class=\"w\">        </span><span class=\"nt\">&lt;w</span><span class=\"w\"> </span><span class=\"na\">pos=</span><span class=\"s\">&quot;ADP&quot;</span><span class=\"w\"> </span><span class=\"na\">lemma=</span><span class=\"s\">&quot;de&quot;</span><span class=\"w\"> </span><span class=\"na\">id=</span><span class=\"s\">&quot;w11&quot;</span><span class=\"w\"> </span><span class=\"na\">start=</span><span class=\"s\">&quot;58&quot;</span><span class=\"w\"> </span><span class=\"na\">end=</span><span class=\"s\">&quot;60&quot;</span><span class=\"nt\">&gt;</span>de<span class=\"nt\">&lt;/w&gt;</span>\n",
       "<span class=\"w\">        </span><span class=\"nt\">&lt;rs</span><span class=\"w\"> </span><span class=\"na\">type=</span><span class=\"s\">&quot;unknown&quot;</span><span class=\"w\"> </span><span class=\"na\">subtype=</span><span class=\"s\">&quot;no&quot;</span><span class=\"w\"> </span><span class=\"na\">id=</span><span class=\"s\">&quot;en.6&quot;</span><span class=\"w\"> </span><span class=\"na\">start=</span><span class=\"s\">&quot;61&quot;</span><span class=\"w\"> </span><span class=\"na\">end=</span><span class=\"s\">&quot;74&quot;</span><span class=\"w\"> </span><span class=\"na\">token_start=</span><span class=\"s\">&quot;12&quot;</span><span class=\"w\"> </span><span class=\"na\">token_end=</span><span class=\"s\">&quot;13&quot;</span><span class=\"nt\">&gt;</span>\n",
       "<span class=\"w\">          </span><span class=\"nt\">&lt;name</span><span class=\"w\"> </span><span class=\"na\">type=</span><span class=\"s\">&quot;unknown&quot;</span><span class=\"w\"> </span><span class=\"na\">id=</span><span class=\"s\">&quot;en.7&quot;</span><span class=\"w\"> </span><span class=\"na\">start=</span><span class=\"s\">&quot;61&quot;</span><span class=\"w\"> </span><span class=\"na\">end=</span><span class=\"s\">&quot;74&quot;</span><span class=\"w\"> </span><span class=\"na\">token_start=</span><span class=\"s\">&quot;12&quot;</span><span class=\"w\"> </span><span class=\"na\">token_end=</span><span class=\"s\">&quot;13&quot;</span><span class=\"nt\">&gt;</span>\n",
       "<span class=\"w\">            </span><span class=\"nt\">&lt;w</span><span class=\"w\"> </span><span class=\"na\">pos=</span><span class=\"s\">&quot;PROPN&quot;</span><span class=\"w\"> </span><span class=\"na\">lemma=</span><span class=\"s\">&quot;SestosXerc&amp;#232;s&quot;</span><span class=\"w\"> </span><span class=\"na\">id=</span><span class=\"s\">&quot;w12&quot;</span><span class=\"w\"> </span><span class=\"na\">start=</span><span class=\"s\">&quot;61&quot;</span><span class=\"w\"> </span><span class=\"na\">end=</span><span class=\"s\">&quot;74&quot;</span><span class=\"nt\">&gt;</span>Sestos.Xerc<span class=\"ni\">&amp;#232;</span>s<span class=\"nt\">&lt;/w&gt;</span>\n",
       "<span class=\"w\">          </span><span class=\"nt\">&lt;/name&gt;</span>\n",
       "<span class=\"w\">        </span><span class=\"nt\">&lt;/rs&gt;</span>\n",
       "<span class=\"w\">        </span><span class=\"nt\">&lt;w</span><span class=\"w\"> </span><span class=\"na\">pos=</span><span class=\"s\">&quot;VERB&quot;</span><span class=\"w\"> </span><span class=\"na\">lemma=</span><span class=\"s\">&quot;joindre&quot;</span><span class=\"w\"> </span><span class=\"na\">id=</span><span class=\"s\">&quot;w13&quot;</span><span class=\"w\"> </span><span class=\"na\">start=</span><span class=\"s\">&quot;75&quot;</span><span class=\"w\"> </span><span class=\"na\">end=</span><span class=\"s\">&quot;82&quot;</span><span class=\"nt\">&gt;</span>joignit<span class=\"nt\">&lt;/w&gt;</span>\n",
       "<span class=\"w\">        </span><span class=\"nt\">&lt;w</span><span class=\"w\"> </span><span class=\"na\">pos=</span><span class=\"s\">&quot;DET&quot;</span><span class=\"w\"> </span><span class=\"na\">lemma=</span><span class=\"s\">&quot;ce&quot;</span><span class=\"w\"> </span><span class=\"na\">id=</span><span class=\"s\">&quot;w14&quot;</span><span class=\"w\"> </span><span class=\"na\">start=</span><span class=\"s\">&quot;83&quot;</span><span class=\"w\"> </span><span class=\"na\">end=</span><span class=\"s\">&quot;86&quot;</span><span class=\"nt\">&gt;</span>ces<span class=\"nt\">&lt;/w&gt;</span>\n",
       "<span class=\"w\">        </span><span class=\"nt\">&lt;num&gt;</span>\n",
       "<span class=\"w\">          </span><span class=\"nt\">&lt;w</span><span class=\"w\"> </span><span class=\"na\">pos=</span><span class=\"s\">&quot;NUM&quot;</span><span class=\"w\"> </span><span class=\"na\">lemma=</span><span class=\"s\">&quot;deux&quot;</span><span class=\"w\"> </span><span class=\"na\">id=</span><span class=\"s\">&quot;w15&quot;</span><span class=\"w\"> </span><span class=\"na\">start=</span><span class=\"s\">&quot;87&quot;</span><span class=\"w\"> </span><span class=\"na\">end=</span><span class=\"s\">&quot;91&quot;</span><span class=\"nt\">&gt;</span>deux<span class=\"nt\">&lt;/w&gt;</span>\n",
       "<span class=\"w\">        </span><span class=\"nt\">&lt;/num&gt;</span>\n",
       "<span class=\"w\">        </span><span class=\"nt\">&lt;w</span><span class=\"w\"> </span><span class=\"na\">pos=</span><span class=\"s\">&quot;NOUN&quot;</span><span class=\"w\"> </span><span class=\"na\">lemma=</span><span class=\"s\">&quot;endroit&quot;</span><span class=\"w\"> </span><span class=\"na\">id=</span><span class=\"s\">&quot;w16&quot;</span><span class=\"w\"> </span><span class=\"na\">start=</span><span class=\"s\">&quot;92&quot;</span><span class=\"w\"> </span><span class=\"na\">end=</span><span class=\"s\">&quot;100&quot;</span><span class=\"nt\">&gt;</span>endroits<span class=\"nt\">&lt;/w&gt;</span>\n",
       "<span class=\"w\">        </span><span class=\"nt\">&lt;w</span><span class=\"w\"> </span><span class=\"na\">pos=</span><span class=\"s\">&quot;VERB&quot;</span><span class=\"w\"> </span><span class=\"na\">lemma=</span><span class=\"s\">&quot;&amp;#233;loigner&quot;</span><span class=\"w\"> </span><span class=\"na\">id=</span><span class=\"s\">&quot;w17&quot;</span><span class=\"w\"> </span><span class=\"na\">start=</span><span class=\"s\">&quot;101&quot;</span><span class=\"w\"> </span><span class=\"na\">end=</span><span class=\"s\">&quot;109&quot;</span><span class=\"nt\">&gt;</span><span class=\"ni\">&amp;#233;</span>loign<span class=\"ni\">&amp;#233;</span>s<span class=\"nt\">&lt;/w&gt;</span>\n",
       "<span class=\"w\">        </span><span class=\"nt\">&lt;w</span><span class=\"w\"> </span><span class=\"na\">pos=</span><span class=\"s\">&quot;DET&quot;</span><span class=\"w\"> </span><span class=\"na\">lemma=</span><span class=\"s\">&quot;le&quot;</span><span class=\"w\"> </span><span class=\"na\">id=</span><span class=\"s\">&quot;w18&quot;</span><span class=\"w\"> </span><span class=\"na\">start=</span><span class=\"s\">&quot;110&quot;</span><span class=\"w\"> </span><span class=\"na\">end=</span><span class=\"s\">&quot;112&quot;</span><span class=\"nt\">&gt;</span>l&#39;<span class=\"nt\">&lt;/w&gt;</span>\n",
       "<span class=\"w\">        </span><span class=\"nt\">&lt;w</span><span class=\"w\"> </span><span class=\"na\">pos=</span><span class=\"s\">&quot;PRON&quot;</span><span class=\"w\"> </span><span class=\"na\">lemma=</span><span class=\"s\">&quot;un&quot;</span><span class=\"w\"> </span><span class=\"na\">id=</span><span class=\"s\">&quot;w19&quot;</span><span class=\"w\"> </span><span class=\"na\">start=</span><span class=\"s\">&quot;112&quot;</span><span class=\"w\"> </span><span class=\"na\">end=</span><span class=\"s\">&quot;114&quot;</span><span class=\"nt\">&gt;</span>un<span class=\"nt\">&lt;/w&gt;</span>\n",
       "<span class=\"w\">        </span><span class=\"nt\">&lt;w</span><span class=\"w\"> </span><span class=\"na\">pos=</span><span class=\"s\">&quot;ADP&quot;</span><span class=\"w\"> </span><span class=\"na\">lemma=</span><span class=\"s\">&quot;de&quot;</span><span class=\"w\"> </span><span class=\"na\">id=</span><span class=\"s\">&quot;w20&quot;</span><span class=\"w\"> </span><span class=\"na\">start=</span><span class=\"s\">&quot;115&quot;</span><span class=\"w\"> </span><span class=\"na\">end=</span><span class=\"s\">&quot;117&quot;</span><span class=\"nt\">&gt;</span>de<span class=\"nt\">&lt;/w&gt;</span>\n",
       "<span class=\"w\">        </span><span class=\"nt\">&lt;w</span><span class=\"w\"> </span><span class=\"na\">pos=</span><span class=\"s\">&quot;DET&quot;</span><span class=\"w\"> </span><span class=\"na\">lemma=</span><span class=\"s\">&quot;le&quot;</span><span class=\"w\"> </span><span class=\"na\">id=</span><span class=\"s\">&quot;w21&quot;</span><span class=\"w\"> </span><span class=\"na\">start=</span><span class=\"s\">&quot;118&quot;</span><span class=\"w\"> </span><span class=\"na\">end=</span><span class=\"s\">&quot;120&quot;</span><span class=\"nt\">&gt;</span>l&#39;<span class=\"nt\">&lt;/w&gt;</span>\n",
       "<span class=\"w\">        </span><span class=\"nt\">&lt;w</span><span class=\"w\"> </span><span class=\"na\">pos=</span><span class=\"s\">&quot;PRON&quot;</span><span class=\"w\"> </span><span class=\"na\">lemma=</span><span class=\"s\">&quot;autre&quot;</span><span class=\"w\"> </span><span class=\"na\">id=</span><span class=\"s\">&quot;w22&quot;</span><span class=\"w\"> </span><span class=\"na\">start=</span><span class=\"s\">&quot;120&quot;</span><span class=\"w\"> </span><span class=\"na\">end=</span><span class=\"s\">&quot;125&quot;</span><span class=\"nt\">&gt;</span>autre<span class=\"nt\">&lt;/w&gt;</span>\n",
       "<span class=\"w\">        </span><span class=\"nt\">&lt;w</span><span class=\"w\"> </span><span class=\"na\">pos=</span><span class=\"s\">&quot;ADP&quot;</span><span class=\"w\"> </span><span class=\"na\">lemma=</span><span class=\"s\">&quot;de&quot;</span><span class=\"w\"> </span><span class=\"na\">id=</span><span class=\"s\">&quot;w23&quot;</span><span class=\"w\"> </span><span class=\"na\">start=</span><span class=\"s\">&quot;126&quot;</span><span class=\"w\"> </span><span class=\"na\">end=</span><span class=\"s\">&quot;128&quot;</span><span class=\"nt\">&gt;</span>de<span class=\"nt\">&lt;/w&gt;</span>\n",
       "<span class=\"w\">        </span><span class=\"nt\">&lt;num&gt;</span>\n",
       "<span class=\"w\">          </span><span class=\"nt\">&lt;w</span><span class=\"w\"> </span><span class=\"na\">pos=</span><span class=\"s\">&quot;NUM&quot;</span><span class=\"w\"> </span><span class=\"na\">lemma=</span><span class=\"s\">&quot;sept&quot;</span><span class=\"w\"> </span><span class=\"na\">id=</span><span class=\"s\">&quot;w24&quot;</span><span class=\"w\"> </span><span class=\"na\">start=</span><span class=\"s\">&quot;129&quot;</span><span class=\"w\"> </span><span class=\"na\">end=</span><span class=\"s\">&quot;133&quot;</span><span class=\"nt\">&gt;</span>sept<span class=\"nt\">&lt;/w&gt;</span>\n",
       "<span class=\"w\">        </span><span class=\"nt\">&lt;/num&gt;</span>\n",
       "<span class=\"w\">        </span><span class=\"nt\">&lt;w</span><span class=\"w\"> </span><span class=\"na\">pos=</span><span class=\"s\">&quot;NOUN&quot;</span><span class=\"w\"> </span><span class=\"na\">lemma=</span><span class=\"s\">&quot;stade&quot;</span><span class=\"w\"> </span><span class=\"na\">id=</span><span class=\"s\">&quot;w25&quot;</span><span class=\"w\"> </span><span class=\"na\">start=</span><span class=\"s\">&quot;134&quot;</span><span class=\"w\"> </span><span class=\"na\">end=</span><span class=\"s\">&quot;140&quot;</span><span class=\"nt\">&gt;</span>stades<span class=\"nt\">&lt;/w&gt;</span>\n",
       "<span class=\"w\">        </span><span class=\"nt\">&lt;w</span><span class=\"w\"> </span><span class=\"na\">pos=</span><span class=\"s\">&quot;PUNCT&quot;</span><span class=\"w\"> </span><span class=\"na\">lemma=</span><span class=\"s\">&quot;&quot;</span><span class=\"w\"> </span><span class=\"na\">id=</span><span class=\"s\">&quot;w26&quot;</span><span class=\"w\"> </span><span class=\"na\">start=</span><span class=\"s\">&quot;140&quot;</span><span class=\"w\"> </span><span class=\"na\">end=</span><span class=\"s\">&quot;141&quot;</span><span class=\"nt\">&gt;</span>,<span class=\"nt\">&lt;/w&gt;</span>\n",
       "<span class=\"w\">        </span><span class=\"nt\">&lt;w</span><span class=\"w\"> </span><span class=\"na\">pos=</span><span class=\"s\">&quot;ADP&quot;</span><span class=\"w\"> </span><span class=\"na\">lemma=</span><span class=\"s\">&quot;par&quot;</span><span class=\"w\"> </span><span class=\"na\">id=</span><span class=\"s\">&quot;w27&quot;</span><span class=\"w\"> </span><span class=\"na\">start=</span><span class=\"s\">&quot;142&quot;</span><span class=\"w\"> </span><span class=\"na\">end=</span><span class=\"s\">&quot;145&quot;</span><span class=\"nt\">&gt;</span>par<span class=\"nt\">&lt;/w&gt;</span>\n",
       "<span class=\"w\">        </span><span class=\"nt\">&lt;w</span><span class=\"w\"> </span><span class=\"na\">pos=</span><span class=\"s\">&quot;DET&quot;</span><span class=\"w\"> </span><span class=\"na\">lemma=</span><span class=\"s\">&quot;le&quot;</span><span class=\"w\"> </span><span class=\"na\">id=</span><span class=\"s\">&quot;w28&quot;</span><span class=\"w\"> </span><span class=\"na\">start=</span><span class=\"s\">&quot;146&quot;</span><span class=\"w\"> </span><span class=\"na\">end=</span><span class=\"s\">&quot;148&quot;</span><span class=\"nt\">&gt;</span>le<span class=\"nt\">&lt;/w&gt;</span>\n",
       "<span class=\"w\">        </span><span class=\"nt\">&lt;w</span><span class=\"w\"> </span><span class=\"na\">pos=</span><span class=\"s\">&quot;NOUN&quot;</span><span class=\"w\"> </span><span class=\"na\">lemma=</span><span class=\"s\">&quot;pont&quot;</span><span class=\"w\"> </span><span class=\"na\">id=</span><span class=\"s\">&quot;w29&quot;</span><span class=\"w\"> </span><span class=\"na\">start=</span><span class=\"s\">&quot;149&quot;</span><span class=\"w\"> </span><span class=\"na\">end=</span><span class=\"s\">&quot;153&quot;</span><span class=\"nt\">&gt;</span>pont<span class=\"nt\">&lt;/w&gt;</span>\n",
       "<span class=\"w\">        </span><span class=\"nt\">&lt;w</span><span class=\"w\"> </span><span class=\"na\">pos=</span><span class=\"s\">&quot;PRON&quot;</span><span class=\"w\"> </span><span class=\"na\">lemma=</span><span class=\"s\">&quot;que&quot;</span><span class=\"w\"> </span><span class=\"na\">id=</span><span class=\"s\">&quot;w30&quot;</span><span class=\"w\"> </span><span class=\"na\">start=</span><span class=\"s\">&quot;154&quot;</span><span class=\"w\"> </span><span class=\"na\">end=</span><span class=\"s\">&quot;157&quot;</span><span class=\"nt\">&gt;</span>qu&#39;<span class=\"nt\">&lt;/w&gt;</span>\n",
       "<span class=\"w\">        </span><span class=\"nt\">&lt;w</span><span class=\"w\"> </span><span class=\"na\">pos=</span><span class=\"s\">&quot;PRON&quot;</span><span class=\"w\"> </span><span class=\"na\">lemma=</span><span class=\"s\">&quot;il&quot;</span><span class=\"w\"> </span><span class=\"na\">id=</span><span class=\"s\">&quot;w31&quot;</span><span class=\"w\"> </span><span class=\"na\">start=</span><span class=\"s\">&quot;157&quot;</span><span class=\"w\"> </span><span class=\"na\">end=</span><span class=\"s\">&quot;159&quot;</span><span class=\"nt\">&gt;</span>il<span class=\"nt\">&lt;/w&gt;</span>\n",
       "<span class=\"w\">        </span><span class=\"nt\">&lt;w</span><span class=\"w\"> </span><span class=\"na\">pos=</span><span class=\"s\">&quot;VERB&quot;</span><span class=\"w\"> </span><span class=\"na\">lemma=</span><span class=\"s\">&quot;jeter&quot;</span><span class=\"w\"> </span><span class=\"na\">id=</span><span class=\"s\">&quot;w32&quot;</span><span class=\"w\"> </span><span class=\"na\">start=</span><span class=\"s\">&quot;160&quot;</span><span class=\"w\"> </span><span class=\"na\">end=</span><span class=\"s\">&quot;165&quot;</span><span class=\"nt\">&gt;</span>jetta<span class=\"nt\">&lt;/w&gt;</span>\n",
       "<span class=\"w\">        </span><span class=\"nt\">&lt;w</span><span class=\"w\"> </span><span class=\"na\">pos=</span><span class=\"s\">&quot;ADP&quot;</span><span class=\"w\"> </span><span class=\"na\">lemma=</span><span class=\"s\">&quot;sur&quot;</span><span class=\"w\"> </span><span class=\"na\">id=</span><span class=\"s\">&quot;w33&quot;</span><span class=\"w\"> </span><span class=\"na\">start=</span><span class=\"s\">&quot;166&quot;</span><span class=\"w\"> </span><span class=\"na\">end=</span><span class=\"s\">&quot;169&quot;</span><span class=\"nt\">&gt;</span>sur<span class=\"nt\">&lt;/w&gt;</span>\n",
       "<span class=\"w\">        </span><span class=\"nt\">&lt;rs</span><span class=\"w\"> </span><span class=\"na\">type=</span><span class=\"s\">&quot;place&quot;</span><span class=\"w\"> </span><span class=\"na\">subtype=</span><span class=\"s\">&quot;no&quot;</span><span class=\"w\"> </span><span class=\"na\">id=</span><span class=\"s\">&quot;en.8&quot;</span><span class=\"w\"> </span><span class=\"na\">start=</span><span class=\"s\">&quot;170&quot;</span><span class=\"w\"> </span><span class=\"na\">end=</span><span class=\"s\">&quot;182&quot;</span><span class=\"w\"> </span><span class=\"na\">token_start=</span><span class=\"s\">&quot;34&quot;</span><span class=\"w\"> </span><span class=\"na\">token_end=</span><span class=\"s\">&quot;36&quot;</span><span class=\"nt\">&gt;</span>\n",
       "<span class=\"w\">          </span><span class=\"nt\">&lt;w</span><span class=\"w\"> </span><span class=\"na\">pos=</span><span class=\"s\">&quot;DET&quot;</span><span class=\"w\"> </span><span class=\"na\">lemma=</span><span class=\"s\">&quot;le&quot;</span><span class=\"w\"> </span><span class=\"na\">id=</span><span class=\"s\">&quot;w34&quot;</span><span class=\"w\"> </span><span class=\"na\">start=</span><span class=\"s\">&quot;170&quot;</span><span class=\"w\"> </span><span class=\"na\">end=</span><span class=\"s\">&quot;172&quot;</span><span class=\"nt\">&gt;</span>l&#39;<span class=\"nt\">&lt;/w&gt;</span>\n",
       "<span class=\"w\">          </span><span class=\"nt\">&lt;name</span><span class=\"w\"> </span><span class=\"na\">type=</span><span class=\"s\">&quot;place&quot;</span><span class=\"w\"> </span><span class=\"na\">subtype=</span><span class=\"s\">&quot;edda&quot;</span><span class=\"w\"> </span><span class=\"na\">id=</span><span class=\"s\">&quot;en.9&quot;</span><span class=\"w\"> </span><span class=\"na\">start=</span><span class=\"s\">&quot;172&quot;</span><span class=\"w\"> </span><span class=\"na\">end=</span><span class=\"s\">&quot;182&quot;</span><span class=\"w\"> </span><span class=\"na\">token_start=</span><span class=\"s\">&quot;35&quot;</span><span class=\"w\"> </span><span class=\"na\">token_end=</span><span class=\"s\">&quot;36&quot;</span><span class=\"nt\">&gt;</span>\n",
       "<span class=\"w\">            </span><span class=\"nt\">&lt;w</span><span class=\"w\"> </span><span class=\"na\">pos=</span><span class=\"s\">&quot;PROPN&quot;</span><span class=\"w\"> </span><span class=\"na\">lemma=</span><span class=\"s\">&quot;Hellespont&quot;</span><span class=\"w\"> </span><span class=\"na\">id=</span><span class=\"s\">&quot;w35&quot;</span><span class=\"w\"> </span><span class=\"na\">start=</span><span class=\"s\">&quot;172&quot;</span><span class=\"w\"> </span><span class=\"na\">end=</span><span class=\"s\">&quot;182&quot;</span><span class=\"nt\">&gt;</span>Hellespont<span class=\"nt\">&lt;/w&gt;</span>\n",
       "<span class=\"w\">            </span><span class=\"nt\">&lt;location&gt;</span>\n",
       "<span class=\"w\">              </span><span class=\"nt\">&lt;geo</span><span class=\"w\"> </span><span class=\"na\">source=</span><span class=\"s\">&quot;nominatim&quot;</span><span class=\"w\"> </span><span class=\"na\">rend=</span><span class=\"s\">&quot;Hellespont Drive, Olympian Village, Plattin Township, Jefferson County, Missouri, 63020, United States&quot;</span><span class=\"nt\">&gt;</span>-90.452881<span class=\"w\"> </span>38.132867<span class=\"nt\">&lt;/geo&gt;</span>\n",
       "<span class=\"w\">            </span><span class=\"nt\">&lt;/location&gt;</span>\n",
       "<span class=\"w\">          </span><span class=\"nt\">&lt;/name&gt;</span>\n",
       "<span class=\"w\">        </span><span class=\"nt\">&lt;/rs&gt;</span>\n",
       "<span class=\"w\">        </span><span class=\"nt\">&lt;w</span><span class=\"w\"> </span><span class=\"na\">pos=</span><span class=\"s\">&quot;PUNCT&quot;</span><span class=\"w\"> </span><span class=\"na\">lemma=</span><span class=\"s\">&quot;&quot;</span><span class=\"w\"> </span><span class=\"na\">id=</span><span class=\"s\">&quot;w36&quot;</span><span class=\"w\"> </span><span class=\"na\">start=</span><span class=\"s\">&quot;182&quot;</span><span class=\"w\"> </span><span class=\"na\">end=</span><span class=\"s\">&quot;183&quot;</span><span class=\"nt\">&gt;</span>.<span class=\"nt\">&lt;/w&gt;</span>\n",
       "<span class=\"w\">      </span><span class=\"nt\">&lt;/s&gt;</span>\n",
       "<span class=\"w\">    </span><span class=\"nt\">&lt;/body&gt;</span>\n",
       "<span class=\"w\">  </span><span class=\"nt\">&lt;/text&gt;</span>\n",
       "<span class=\"nt\">&lt;/TEI&gt;</span>\n",
       "</pre></div>\n",
       "\n",
       "    </div>\n",
       "    "
      ],
      "text/plain": [
       "<display_xml.xml.XML at 0x29c5ceca0>"
      ]
     },
     "execution_count": 5,
     "metadata": {},
     "output_type": "execute_result"
    }
   ],
   "source": [
    "XML(doc.tei, style='lovelace')"
   ]
  },
  {
   "cell_type": "markdown",
   "metadata": {},
   "source": [
    "* Get the list of named entities:"
   ]
  },
  {
   "cell_type": "code",
   "execution_count": 6,
   "metadata": {},
   "outputs": [
    {
     "name": "stdout",
     "output_type": "stream",
     "text": [
      "entity: ABYDE\ttag: place\n",
      "entity: ABYDOS\ttag: place\n",
      " latitude: 26.411269\tlongitude: 40.194296\tsource: nominatim\n",
      "entity: Ville maritime de Phrygie\ttag: place\n",
      "entity: Sestos.Xercès\ttag: unknown\n",
      "entity: Hellespont\ttag: place\n",
      " latitude: -90.452881\tlongitude: 38.132867\tsource: nominatim\n"
     ]
    }
   ],
   "source": [
    "for entity in doc.named_entities:\n",
    "    print(f'entity: {entity.text}\\ttag: {entity.tag}')\n",
    "    if entity.tag == 'place':\n",
    "        for t in entity.toponym_candidates:\n",
    "            print(f' latitude: {t.lat}\\tlongitude: {t.lng}\\tsource: {t.source}')"
   ]
  },
  {
   "cell_type": "code",
   "execution_count": 7,
   "metadata": {},
   "outputs": [
    {
     "data": {
      "text/html": [
       "<span class=\"tex2jax_ignore\"><div class=\"entities\" style=\"line-height: 2.5; direction: ltr\">\n",
       "<mark class=\"entity\" style=\"background: #ff9561; padding: 0.45em 0.6em; margin: 0 0.25em; line-height: 1; border-radius: 0.35em;\">\n",
       "    ABYDE\n",
       "    <span style=\"font-size: 0.8em; font-weight: bold; line-height: 1; border-radius: 0.35em; vertical-align: middle; margin-left: 0.5rem\">LOC</span>\n",
       "</mark>\n",
       " ou \n",
       "<mark class=\"entity\" style=\"background: #ff9561; padding: 0.45em 0.6em; margin: 0 0.25em; line-height: 1; border-radius: 0.35em;\">\n",
       "    ABYDOS\n",
       "    <span style=\"font-size: 0.8em; font-weight: bold; line-height: 1; border-radius: 0.35em; vertical-align: middle; margin-left: 0.5rem\">LOC</span>\n",
       "</mark>\n",
       " , sub . \n",
       "<mark class=\"entity\" style=\"background: #ff9561; padding: 0.45em 0.6em; margin: 0 0.25em; line-height: 1; border-radius: 0.35em;\">\n",
       "    Ville maritime de Phrygie\n",
       "    <span style=\"font-size: 0.8em; font-weight: bold; line-height: 1; border-radius: 0.35em; vertical-align: middle; margin-left: 0.5rem\">LOC</span>\n",
       "</mark>\n",
       " vis-à-vis de \n",
       "<mark class=\"entity\" style=\"background: #ddd; padding: 0.45em 0.6em; margin: 0 0.25em; line-height: 1; border-radius: 0.35em;\">\n",
       "    Sestos.Xercès\n",
       "    <span style=\"font-size: 0.8em; font-weight: bold; line-height: 1; border-radius: 0.35em; vertical-align: middle; margin-left: 0.5rem\">MISC</span>\n",
       "</mark>\n",
       " joignit ces deux endroits éloignés l' un de l' autre de sept stades , par le pont qu' il jetta sur l' \n",
       "<mark class=\"entity\" style=\"background: #ff9561; padding: 0.45em 0.6em; margin: 0 0.25em; line-height: 1; border-radius: 0.35em;\">\n",
       "    Hellespont\n",
       "    <span style=\"font-size: 0.8em; font-weight: bold; line-height: 1; border-radius: 0.35em; vertical-align: middle; margin-left: 0.5rem\">LOC</span>\n",
       "</mark>\n",
       " . </div></span>"
      ],
      "text/plain": [
       "<IPython.core.display.HTML object>"
      ]
     },
     "metadata": {},
     "output_type": "display_data"
    }
   ],
   "source": [
    "displacy.render(doc.to_spacy_doc(), style=\"ent\", jupyter=True) "
   ]
  },
  {
   "cell_type": "code",
   "execution_count": 8,
   "metadata": {},
   "outputs": [
    {
     "data": {
      "text/html": [
       "<span class=\"tex2jax_ignore\"><div class=\"spans\" style=\"line-height: 2.5; direction: ltr\">\n",
       "<span style=\"font-weight: bold; display: inline-block; position: relative; height: 60px;\">\n",
       "    ABYDE\n",
       "    \n",
       "<span style=\"background: #ff9561; top: 40px; height: 4px; left: -1px; width: calc(100% + 2px); position: absolute;\">\n",
       "</span>\n",
       "\n",
       "    \n",
       "<span style=\"background: #ff9561; top: 40px; height: 4px; border-top-left-radius: 3px; border-bottom-left-radius: 3px; left: -1px; width: calc(100% + 2px); position: absolute;\">\n",
       "    <span style=\"background: #ff9561; z-index: 10; color: #000; top: -0.5em; padding: 2px 3px; position: absolute; font-size: 0.6em; font-weight: bold; line-height: 1; border-radius: 3px\">\n",
       "        LOC\n",
       "    </span>\n",
       "</span>\n",
       "\n",
       "\n",
       "</span>\n",
       "ou \n",
       "<span style=\"font-weight: bold; display: inline-block; position: relative; height: 60px;\">\n",
       "    ABYDOS\n",
       "    \n",
       "<span style=\"background: #ff9561; top: 40px; height: 4px; left: -1px; width: calc(100% + 2px); position: absolute;\">\n",
       "</span>\n",
       "\n",
       "    \n",
       "<span style=\"background: #ff9561; top: 40px; height: 4px; border-top-left-radius: 3px; border-bottom-left-radius: 3px; left: -1px; width: calc(100% + 2px); position: absolute;\">\n",
       "    <span style=\"background: #ff9561; z-index: 10; color: #000; top: -0.5em; padding: 2px 3px; position: absolute; font-size: 0.6em; font-weight: bold; line-height: 1; border-radius: 3px\">\n",
       "        LOC\n",
       "    </span>\n",
       "</span>\n",
       "\n",
       "\n",
       "</span>\n",
       ", sub . \n",
       "<span style=\"font-weight: bold; display: inline-block; position: relative; height: 60px;\">\n",
       "    Ville\n",
       "    \n",
       "<span style=\"background: #ff9561; top: 40px; height: 4px; left: -1px; width: calc(100% + 2px); position: absolute;\">\n",
       "</span>\n",
       "\n",
       "    \n",
       "<span style=\"background: #ff9561; top: 40px; height: 4px; border-top-left-radius: 3px; border-bottom-left-radius: 3px; left: -1px; width: calc(100% + 2px); position: absolute;\">\n",
       "    <span style=\"background: #ff9561; z-index: 10; color: #000; top: -0.5em; padding: 2px 3px; position: absolute; font-size: 0.6em; font-weight: bold; line-height: 1; border-radius: 3px\">\n",
       "        LOC\n",
       "    </span>\n",
       "</span>\n",
       "\n",
       "\n",
       "</span>\n",
       "\n",
       "<span style=\"font-weight: bold; display: inline-block; position: relative; height: 60px;\">\n",
       "    maritime\n",
       "    \n",
       "<span style=\"background: #ff9561; top: 40px; height: 4px; left: -1px; width: calc(100% + 2px); position: absolute;\">\n",
       "</span>\n",
       "\n",
       "    \n",
       "</span>\n",
       "\n",
       "<span style=\"font-weight: bold; display: inline-block; position: relative; height: 60px;\">\n",
       "    de\n",
       "    \n",
       "<span style=\"background: #ff9561; top: 40px; height: 4px; left: -1px; width: calc(100% + 2px); position: absolute;\">\n",
       "</span>\n",
       "\n",
       "    \n",
       "</span>\n",
       "\n",
       "<span style=\"font-weight: bold; display: inline-block; position: relative; height: 60px;\">\n",
       "    Phrygie\n",
       "    \n",
       "<span style=\"background: #ff9561; top: 40px; height: 4px; left: -1px; width: calc(100% + 2px); position: absolute;\">\n",
       "</span>\n",
       "\n",
       "    \n",
       "</span>\n",
       "vis-à-vis de \n",
       "<span style=\"font-weight: bold; display: inline-block; position: relative; height: 60px;\">\n",
       "    Sestos.Xercès\n",
       "    \n",
       "<span style=\"background: #ddd; top: 40px; height: 4px; left: -1px; width: calc(100% + 2px); position: absolute;\">\n",
       "</span>\n",
       "\n",
       "    \n",
       "<span style=\"background: #ddd; top: 40px; height: 4px; border-top-left-radius: 3px; border-bottom-left-radius: 3px; left: -1px; width: calc(100% + 2px); position: absolute;\">\n",
       "    <span style=\"background: #ddd; z-index: 10; color: #000; top: -0.5em; padding: 2px 3px; position: absolute; font-size: 0.6em; font-weight: bold; line-height: 1; border-radius: 3px\">\n",
       "        MISC\n",
       "    </span>\n",
       "</span>\n",
       "\n",
       "\n",
       "</span>\n",
       "joignit ces deux endroits éloignés l' un de l' autre de sept stades , par le pont qu' il jetta sur l' \n",
       "<span style=\"font-weight: bold; display: inline-block; position: relative; height: 60px;\">\n",
       "    Hellespont\n",
       "    \n",
       "<span style=\"background: #ff9561; top: 40px; height: 4px; left: -1px; width: calc(100% + 2px); position: absolute;\">\n",
       "</span>\n",
       "\n",
       "    \n",
       "<span style=\"background: #ff9561; top: 40px; height: 4px; border-top-left-radius: 3px; border-bottom-left-radius: 3px; left: -1px; width: calc(100% + 2px); position: absolute;\">\n",
       "    <span style=\"background: #ff9561; z-index: 10; color: #000; top: -0.5em; padding: 2px 3px; position: absolute; font-size: 0.6em; font-weight: bold; line-height: 1; border-radius: 3px\">\n",
       "        LOC\n",
       "    </span>\n",
       "</span>\n",
       "\n",
       "\n",
       "</span>\n",
       ". </div></span>"
      ],
      "text/plain": [
       "<IPython.core.display.HTML object>"
      ]
     },
     "metadata": {},
     "output_type": "display_data"
    }
   ],
   "source": [
    "displacy.render(doc.to_spacy_doc(), style=\"span\", jupyter=True)"
   ]
  },
  {
   "cell_type": "markdown",
   "metadata": {},
   "source": [
    "* Write the doc to a file (conll format):"
   ]
  },
  {
   "cell_type": "code",
   "execution_count": 11,
   "metadata": {},
   "outputs": [],
   "source": [
    "doc.to_iob(os.path.join('output', 'sample_perdido.tsv'))\n",
    "doc.to_xml(os.path.join('output', 'sample_perdido.xml'))"
   ]
  }
 ],
 "metadata": {
  "colab": {
   "collapsed_sections": [],
   "name": "Geoparsing.ipynb",
   "provenance": [],
   "toc_visible": true
  },
  "kernelspec": {
   "display_name": "perdido-core-py39",
   "language": "python",
   "name": "python3"
  },
  "language_info": {
   "codemirror_mode": {
    "name": "ipython",
    "version": 3
   },
   "file_extension": ".py",
   "mimetype": "text/x-python",
   "name": "python",
   "nbconvert_exporter": "python",
   "pygments_lexer": "ipython3",
   "version": "3.9.18"
  },
  "vscode": {
   "interpreter": {
    "hash": "172f0772038cec25cf0bff8623d20ef58fcbeffa40ea1403a411135ecf08aa09"
   }
  }
 },
 "nbformat": 4,
 "nbformat_minor": 2
}
