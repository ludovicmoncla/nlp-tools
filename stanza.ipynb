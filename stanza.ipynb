{
 "cells": [
  {
   "attachments": {},
   "cell_type": "markdown",
   "id": "3fe6e197",
   "metadata": {},
   "source": [
    "# Stanza\n",
    "\n",
    "https://stanfordnlp.github.io/stanza/"
   ]
  },
  {
   "cell_type": "code",
   "execution_count": 17,
   "id": "6e232997",
   "metadata": {},
   "outputs": [],
   "source": [
    "import os\n",
    "import stanza\n",
    "from stanza.utils.conll import CoNLL"
   ]
  },
  {
   "cell_type": "markdown",
   "id": "1d4bd527",
   "metadata": {},
   "source": [
    "* Download and setup the French pipeline:"
   ]
  },
  {
   "cell_type": "markdown",
   "id": "bac50f82",
   "metadata": {},
   "source": [
    "## Parse text"
   ]
  },
  {
   "cell_type": "code",
   "execution_count": 12,
   "id": "4a89c834",
   "metadata": {},
   "outputs": [
    {
     "name": "stderr",
     "output_type": "stream",
     "text": [
      "2024-02-07 07:36:54 INFO: Checking for updates to resources.json in case models have been updated.  Note: this behavior can be turned off with download_method=None or download_method=DownloadMethod.REUSE_RESOURCES\n"
     ]
    },
    {
     "data": {
      "application/vnd.jupyter.widget-view+json": {
       "model_id": "62a8424d30a146d79ed97a2dc8830e43",
       "version_major": 2,
       "version_minor": 0
      },
      "text/plain": [
       "Downloading https://raw.githubusercontent.com/stanfordnlp/stanza-resources/main/resources_1.7.0.json:   0%|   …"
      ]
     },
     "metadata": {},
     "output_type": "display_data"
    },
    {
     "name": "stderr",
     "output_type": "stream",
     "text": [
      "2024-02-07 07:36:59 WARNING: Language fr package default expects mwt, which has been added\n"
     ]
    },
    {
     "data": {
      "application/vnd.jupyter.widget-view+json": {
       "model_id": "e73e039811ec490ba85dc6659425ca8e",
       "version_major": 2,
       "version_minor": 0
      },
      "text/plain": [
       "Downloading https://huggingface.co/stanfordnlp/stanza-fr/resolve/v1.7.0/models/depparse/combined_charlm.pt:   …"
      ]
     },
     "metadata": {},
     "output_type": "display_data"
    },
    {
     "name": "stderr",
     "output_type": "stream",
     "text": [
      "2024-02-07 07:37:41 INFO: Loading these models for language: fr (French):\n",
      "=================================\n",
      "| Processor | Package           |\n",
      "---------------------------------\n",
      "| tokenize  | combined          |\n",
      "| mwt       | combined          |\n",
      "| pos       | combined_charlm   |\n",
      "| lemma     | combined_nocharlm |\n",
      "| depparse  | combined_charlm   |\n",
      "| ner       | wikiner           |\n",
      "=================================\n",
      "\n",
      "2024-02-07 07:37:41 INFO: Using device: cpu\n",
      "2024-02-07 07:37:41 INFO: Loading: tokenize\n",
      "2024-02-07 07:37:41 INFO: Loading: mwt\n",
      "2024-02-07 07:37:41 INFO: Loading: pos\n",
      "2024-02-07 07:37:41 INFO: Loading: lemma\n",
      "2024-02-07 07:37:41 INFO: Loading: depparse\n",
      "2024-02-07 07:37:41 INFO: Loading: ner\n",
      "2024-02-07 07:37:42 INFO: Done loading processors!\n"
     ]
    }
   ],
   "source": [
    "# Load French model tokenizer, tagger, parser and NER\n",
    "nlp = stanza.Pipeline(lang='fr', processors='tokenize,pos,lemma,depparse,ner')"
   ]
  },
  {
   "cell_type": "code",
   "execution_count": 13,
   "id": "703f83d4",
   "metadata": {},
   "outputs": [],
   "source": [
    "# Process text\n",
    "text = \"ABYDE ou ABYDOS, sub. Ville maritime de Phrygie vis-à-vis de Sestos.\"\n",
    "text += \"Xercès joignit ces deux endroits éloignés l'un de l'autre de sept stades, par le pont qu'il jetta sur l'Hellespont.\"\n",
    "\n",
    "doc = nlp(text)"
   ]
  },
  {
   "cell_type": "markdown",
   "id": "09800c77",
   "metadata": {},
   "source": [
    "* Print annotations per token:"
   ]
  },
  {
   "cell_type": "code",
   "execution_count": 19,
   "id": "de21a2c9",
   "metadata": {},
   "outputs": [
    {
     "name": "stdout",
     "output_type": "stream",
     "text": [
      "id: 1\tword: ABYDE\thead id: 0\thead: root\tdeprel: root\n",
      "id: 2\tword: ou\thead id: 3\thead: ABYDOS\tdeprel: cc\n",
      "id: 3\tword: ABYDOS\thead id: 1\thead: ABYDE\tdeprel: conj\n",
      "id: 4\tword: ,\thead id: 5\thead: sub\tdeprel: punct\n",
      "id: 5\tword: sub\thead id: 1\thead: ABYDE\tdeprel: discourse\n",
      "id: 6\tword: .\thead id: 1\thead: ABYDE\tdeprel: punct\n",
      "id: 1\tword: Ville\thead id: 9\thead: joignit\tdeprel: nsubj\n",
      "id: 2\tword: maritime\thead id: 1\thead: Ville\tdeprel: amod\n",
      "id: 3\tword: de\thead id: 4\thead: Phrygie\tdeprel: case\n",
      "id: 4\tword: Phrygie\thead id: 1\thead: Ville\tdeprel: nmod\n",
      "id: 5\tword: vis-à-vis\thead id: 1\thead: Ville\tdeprel: advmod\n",
      "id: 6\tword: de\thead id: 7\thead: Sestos\tdeprel: case\n",
      "id: 7\tword: Sestos\thead id: 5\thead: vis-à-vis\tdeprel: obl:arg\n",
      "id: 8\tword: .Xercès\thead id: 7\thead: Sestos\tdeprel: flat:name\n",
      "id: 9\tword: joignit\thead id: 0\thead: root\tdeprel: root\n",
      "id: 10\tword: ces\thead id: 12\thead: endroits\tdeprel: det\n",
      "id: 11\tword: deux\thead id: 12\thead: endroits\tdeprel: nummod\n",
      "id: 12\tword: endroits\thead id: 9\thead: joignit\tdeprel: obj\n",
      "id: 13\tword: éloignés\thead id: 12\thead: endroits\tdeprel: acl\n",
      "id: 14\tword: l'\thead id: 15\thead: un\tdeprel: det\n",
      "id: 15\tword: un\thead id: 13\thead: éloignés\tdeprel: obl:mod\n",
      "id: 16\tword: de\thead id: 18\thead: autre\tdeprel: case\n",
      "id: 17\tword: l'\thead id: 18\thead: autre\tdeprel: det\n",
      "id: 18\tword: autre\thead id: 15\thead: un\tdeprel: nmod\n",
      "id: 19\tword: de\thead id: 21\thead: stades\tdeprel: case\n",
      "id: 20\tword: sept\thead id: 21\thead: stades\tdeprel: nummod\n",
      "id: 21\tword: stades\thead id: 13\thead: éloignés\tdeprel: obl:arg\n",
      "id: 22\tword: ,\thead id: 25\thead: pont\tdeprel: punct\n",
      "id: 23\tword: par\thead id: 25\thead: pont\tdeprel: case\n",
      "id: 24\tword: le\thead id: 25\thead: pont\tdeprel: det\n",
      "id: 25\tword: pont\thead id: 13\thead: éloignés\tdeprel: obl:agent\n",
      "id: 26\tword: qu'\thead id: 28\thead: jetta\tdeprel: obj\n",
      "id: 27\tword: il\thead id: 28\thead: jetta\tdeprel: nsubj\n",
      "id: 28\tword: jetta\thead id: 25\thead: pont\tdeprel: acl:relcl\n",
      "id: 29\tword: sur\thead id: 31\thead: Hellespont\tdeprel: case\n",
      "id: 30\tword: l'\thead id: 31\thead: Hellespont\tdeprel: det\n",
      "id: 31\tword: Hellespont\thead id: 28\thead: jetta\tdeprel: obl:mod\n",
      "id: 32\tword: .\thead id: 9\thead: joignit\tdeprel: punct\n"
     ]
    }
   ],
   "source": [
    "for sent in doc.sentences:\n",
    "    for word in sent.words:\n",
    "        print(f'id: {word.id}\\tword: {word.text}\\thead id: {word.head}\\thead: {sent.words[word.head-1].text if word.head > 0 else \"root\"}\\tdeprel: {word.deprel}', sep='\\n')"
   ]
  },
  {
   "cell_type": "markdown",
   "id": "46ab73cb",
   "metadata": {},
   "source": [
    "* Print the named entities:"
   ]
  },
  {
   "cell_type": "code",
   "execution_count": 7,
   "id": "a70dd1ae",
   "metadata": {},
   "outputs": [
    {
     "name": "stdout",
     "output_type": "stream",
     "text": [
      "[{\n",
      "  \"text\": \"ABYDE\",\n",
      "  \"type\": \"LOC\",\n",
      "  \"start_char\": 0,\n",
      "  \"end_char\": 5\n",
      "}, {\n",
      "  \"text\": \"ABYDOS\",\n",
      "  \"type\": \"LOC\",\n",
      "  \"start_char\": 9,\n",
      "  \"end_char\": 15\n",
      "}, {\n",
      "  \"text\": \"Phrygie\",\n",
      "  \"type\": \"LOC\",\n",
      "  \"start_char\": 40,\n",
      "  \"end_char\": 47\n",
      "}, {\n",
      "  \"text\": \"Sestos\",\n",
      "  \"type\": \"LOC\",\n",
      "  \"start_char\": 61,\n",
      "  \"end_char\": 67\n",
      "}, {\n",
      "  \"text\": \"Hellespont\",\n",
      "  \"type\": \"LOC\",\n",
      "  \"start_char\": 172,\n",
      "  \"end_char\": 182\n",
      "}]\n"
     ]
    }
   ],
   "source": [
    "print(doc.entities)"
   ]
  },
  {
   "cell_type": "markdown",
   "id": "860aeaf1",
   "metadata": {},
   "source": [
    "* Print annotations in CONLL format:"
   ]
  },
  {
   "cell_type": "code",
   "execution_count": 15,
   "id": "e3e27010",
   "metadata": {},
   "outputs": [
    {
     "name": "stdout",
     "output_type": "stream",
     "text": [
      "# text = ABYDE ou ABYDOS, sub.\n",
      "# sent_id = 0\n",
      "1\tABYDE\tABYDE\tPROPN\t_\t_\t0\troot\t_\tstart_char=0|end_char=5|ner=S-LOC\n",
      "2\tou\tou\tCCONJ\t_\t_\t3\tcc\t_\tstart_char=6|end_char=8|ner=O\n",
      "3\tABYDOS\tABYDOS\tPROPN\t_\t_\t1\tconj\t_\tstart_char=9|end_char=15|ner=S-LOC\n",
      "4\t,\t,\tPUNCT\t_\t_\t5\tpunct\t_\tstart_char=15|end_char=16|ner=O\n",
      "5\tsub\tsub\tINTJ\t_\t_\t1\tdiscourse\t_\tstart_char=17|end_char=20|ner=O\n",
      "6\t.\t.\tPUNCT\t_\t_\t1\tpunct\t_\tstart_char=20|end_char=21|ner=O\n",
      "\n",
      "# text = Ville maritime de Phrygie vis-à-vis de Sestos.Xercès joignit ces deux endroits éloignés l'un de l'autre de sept stades, par le pont qu'il jetta sur l'Hellespont.\n",
      "# sent_id = 1\n",
      "1\tVille\tville\tNOUN\t_\tGender=Fem|Number=Sing\t9\tnsubj\t_\tstart_char=22|end_char=27|ner=O\n",
      "2\tmaritime\tmaritime\tADJ\t_\tGender=Fem|Number=Sing\t1\tamod\t_\tstart_char=28|end_char=36|ner=O\n",
      "3\tde\tde\tADP\t_\t_\t4\tcase\t_\tstart_char=37|end_char=39|ner=O\n",
      "4\tPhrygie\tPhrygie\tPROPN\t_\t_\t1\tnmod\t_\tstart_char=40|end_char=47|ner=S-LOC\n",
      "5\tvis-à-vis\tvis-à-vis\tADV\t_\t_\t1\tadvmod\t_\tstart_char=48|end_char=57|ner=O\n",
      "6\tde\tde\tADP\t_\t_\t7\tcase\t_\tstart_char=58|end_char=60|ner=O\n",
      "7\tSestos\tSestos\tPROPN\t_\t_\t5\tobl:arg\t_\tstart_char=61|end_char=67|ner=S-LOC\n",
      "8\t.Xercès\t.Xercès\tPROPN\t_\t_\t7\tflat:name\t_\tstart_char=67|end_char=74|ner=O\n",
      "9\tjoignit\tjoignir\tVERB\t_\tMood=Ind|Number=Sing|Person=3|Tense=Past|VerbForm=Fin\t0\troot\t_\tstart_char=75|end_char=82|ner=O\n",
      "10\tces\tce\tDET\t_\tNumber=Plur|PronType=Dem\t12\tdet\t_\tstart_char=83|end_char=86|ner=O\n",
      "11\tdeux\tdeux\tNUM\t_\tNumber=Plur\t12\tnummod\t_\tstart_char=87|end_char=91|ner=O\n",
      "12\tendroits\tendroit\tNOUN\t_\tGender=Masc|Number=Plur\t9\tobj\t_\tstart_char=92|end_char=100|ner=O\n",
      "13\téloignés\téloigner\tVERB\t_\tGender=Masc|Number=Plur|Tense=Past|VerbForm=Part|Voice=Pass\t12\tacl\t_\tstart_char=101|end_char=109|ner=O\n",
      "14\tl'\tle\tDET\t_\tDefinite=Def|Number=Sing|PronType=Art\t15\tdet\t_\tstart_char=110|end_char=112|ner=O\n",
      "15\tun\tun\tPRON\t_\tGender=Masc|Number=Sing|Person=3|PronType=Ind\t13\tobl:mod\t_\tstart_char=112|end_char=114|ner=O\n",
      "16\tde\tde\tADP\t_\t_\t18\tcase\t_\tstart_char=115|end_char=117|ner=O\n",
      "17\tl'\tle\tDET\t_\tDefinite=Def|Number=Sing|PronType=Art\t18\tdet\t_\tstart_char=118|end_char=120|ner=O\n",
      "18\tautre\tautre\tPRON\t_\tNumber=Sing|Person=3|PronType=Ind\t15\tnmod\t_\tstart_char=120|end_char=125|ner=O\n",
      "19\tde\tde\tADP\t_\t_\t21\tcase\t_\tstart_char=126|end_char=128|ner=O\n",
      "20\tsept\tsept\tNUM\t_\tNumber=Plur\t21\tnummod\t_\tstart_char=129|end_char=133|ner=O\n",
      "21\tstades\tstade\tNOUN\t_\tGender=Masc|Number=Plur\t13\tobl:arg\t_\tstart_char=134|end_char=140|ner=O\n",
      "22\t,\t,\tPUNCT\t_\t_\t25\tpunct\t_\tstart_char=140|end_char=141|ner=O\n",
      "23\tpar\tpar\tADP\t_\t_\t25\tcase\t_\tstart_char=142|end_char=145|ner=O\n",
      "24\tle\tle\tDET\t_\tDefinite=Def|Gender=Masc|Number=Sing|PronType=Art\t25\tdet\t_\tstart_char=146|end_char=148|ner=O\n",
      "25\tpont\tpont\tNOUN\t_\tGender=Masc|Number=Sing\t13\tobl:agent\t_\tstart_char=149|end_char=153|ner=O\n",
      "26\tqu'\tque\tPRON\t_\tPronType=Rel\t28\tobj\t_\tstart_char=154|end_char=157|ner=O\n",
      "27\til\tlui\tPRON\t_\tEmph=No|Gender=Masc|Number=Sing|Person=3|PronType=Prs\t28\tnsubj\t_\tstart_char=157|end_char=159|ner=O\n",
      "28\tjetta\tjeter\tVERB\t_\tMood=Ind|Number=Sing|Person=3|Tense=Past|VerbForm=Fin\t25\tacl:relcl\t_\tstart_char=160|end_char=165|ner=O\n",
      "29\tsur\tsur\tADP\t_\t_\t31\tcase\t_\tstart_char=166|end_char=169|ner=O\n",
      "30\tl'\tle\tDET\t_\tDefinite=Def|Number=Sing|PronType=Art\t31\tdet\t_\tstart_char=170|end_char=172|ner=O\n",
      "31\tHellespont\tHellespont\tPROPN\t_\tNumber=Sing\t28\tobl:mod\t_\tstart_char=172|end_char=182|ner=S-LOC\n",
      "32\t.\t.\tPUNCT\t_\t_\t9\tpunct\t_\tstart_char=182|end_char=183|ner=O\n"
     ]
    }
   ],
   "source": [
    "print(\"{:C}\".format(doc))"
   ]
  },
  {
   "cell_type": "markdown",
   "id": "5f304b8c",
   "metadata": {},
   "source": [
    "* Write the doc to a file (conll format):"
   ]
  },
  {
   "cell_type": "code",
   "execution_count": 18,
   "id": "f7cbb7d8",
   "metadata": {},
   "outputs": [],
   "source": [
    "CoNLL.write_doc2conll(doc, os.path.join('output', 'sample_stanza.conllu'))"
   ]
  }
 ],
 "metadata": {
  "kernelspec": {
   "display_name": "ner-tools-py39",
   "language": "python",
   "name": "python3"
  },
  "language_info": {
   "codemirror_mode": {
    "name": "ipython",
    "version": 3
   },
   "file_extension": ".py",
   "mimetype": "text/x-python",
   "name": "python",
   "nbconvert_exporter": "python",
   "pygments_lexer": "ipython3",
   "version": "3.9.18"
  },
  "vscode": {
   "interpreter": {
    "hash": "8562af0768d992834d09b3e0cdd266643405e10e4c5bb53a8e2dacd8f544c2f4"
   }
  }
 },
 "nbformat": 4,
 "nbformat_minor": 5
}
