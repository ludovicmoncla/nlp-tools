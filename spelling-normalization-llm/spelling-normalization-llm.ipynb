{
 "cells": [
  {
   "cell_type": "markdown",
   "id": "3fbf701b",
   "metadata": {},
   "source": [
    "# Spelling Normalization with LLM: Experiments on Trevoux\n",
    "\n",
    "Ollama :https://ollama.com\n",
    "\n",
    "### Models\n",
    "\n",
    "https://ollama.com/library/gemma3:4b"
   ]
  },
  {
   "cell_type": "code",
   "execution_count": 1,
   "id": "f758cacd",
   "metadata": {},
   "outputs": [],
   "source": [
    "import ollama\n",
    "import difflib"
   ]
  },
  {
   "cell_type": "code",
   "execution_count": null,
   "id": "bee7b3e2",
   "metadata": {},
   "outputs": [],
   "source": [
    "model_names = ['gemma3:4b','deepseek-r1:8b','llama3.1:8b','mistral:7b']\n",
    "model_name = model_names[2]"
   ]
  },
  {
   "cell_type": "code",
   "execution_count": 13,
   "id": "d022658b",
   "metadata": {},
   "outputs": [],
   "source": [
    "input_txt = \"AAR, Arula ou Arola, &amp; non pas Arosa, comme on a imprimé dans Maty 1712. \" \\\n",
    "\"Grande rivière qui traverse toute la Suisse, depuis les confins du Valais jusqu'à la Suabe. \" \\\n",
    "\"Elle a sa source proche de celle du Rhin, au mont de la Fourche. Id. \" \\\n",
    "\"Ce nom pourroit être un ancien nom Celtique, qui viendroit de l'Hébreu, Naar, qui signifie fleuve. \" \\\n",
    "\"C'étoit assez la coutume des anciens peuples d'appeller leurs rivières simplement du nom de fleuve. \" \\\n",
    "\"Ainsi Nilus, le Nil, vient de ; &amp; souvent le Nil &amp; l'Euphrate, dans l'Écriture, sont désignés par le nom appellatif, near, fleuve. \" \\\n",
    "\"Il y a aussi une Isle de Dannemarck dépendante de celle de Funen, qui porte le nom d'Aar.\"\n"
   ]
  },
  {
   "cell_type": "code",
   "execution_count": 14,
   "id": "6b9f4991",
   "metadata": {},
   "outputs": [
    {
     "name": "stdout",
     "output_type": "stream",
     "text": [
      "output:  Voici la correction du texte respectant les contraintes mentionnées :\n",
      "\n",
      "\"AAR, Arula ou Arola, et non pas Arosa, comme on l'a imprimé dans Maty 1712. Grande rivière qui traverse toute la Suisse, depuis les confins du Valais jusqu'à la Suabe. Elle a sa source proche de celle du Rhin, au mont de la Fourche. Id. Ce nom pourrait être un ancien nom Celtique, qui viendrait de l'Hébreu, Naar, qui signifie fleuve. C'était assez la coutume des anciens peuples d'appeler leurs rivières simplement du nom de fleuve. Ainsi Nilus, le Nil, vient de ; et souvent le Nil et l'Euphrate, dans l'Écriture, sont désignés par le nom appellatif, near, fleuve. Il y a aussi une île de Danemark dépendante de celle de Funen qui porte le nom d'Aar.\"\n"
     ]
    }
   ],
   "source": [
    "\n",
    "preprompt = \"Corrige l’orthographe de ce texte en respectant strictement les contraintes suivantes : 1. utiliser une orthographe moderne et standardisée, 2. conserver le vocabulaire, 3. conserver la ponctuation, 4. ne pas supprimer ou ajouter de virgules, 5. ne pas modifier les majuscules, 6. corriger les noms propres lorsque cela est nécessaire. \"\n",
    "\n",
    "prompt = f\"\\nVoici le texte :\\n\\\"\\\"\\\"\\n{input_txt}\\n\\\"\\\"\\\"\"\n",
    "\n",
    "result = ollama.generate(model=model_name, prompt=preprompt+prompt)\n",
    "print(\"output:\", result['response'])"
   ]
  },
  {
   "cell_type": "code",
   "execution_count": 15,
   "id": "7778704f",
   "metadata": {},
   "outputs": [],
   "source": [
    "# Création d'un comparateur\n",
    "d = difflib.HtmlDiff(wrapcolumn=60)\n",
    "\n",
    "# Génération du diff en HTML\n",
    "html_diff = d.make_file(\n",
    "    input_txt.splitlines(),\n",
    "    result['response'].splitlines(),\n",
    "    fromdesc=\"Texte original\",\n",
    "    todesc=\"Texte modifié\"\n",
    ")\n",
    "\n",
    "with open(f\"./diff/diff_arr_{model_name}.html\", \"w\", encoding=\"utf-8\") as f:\n",
    "    f.write(html_diff)"
   ]
  },
  {
   "cell_type": "code",
   "execution_count": null,
   "id": "1bdee6d3",
   "metadata": {},
   "outputs": [],
   "source": []
  }
 ],
 "metadata": {
  "kernelspec": {
   "display_name": ".venv (3.13.5)",
   "language": "python",
   "name": "python3"
  },
  "language_info": {
   "codemirror_mode": {
    "name": "ipython",
    "version": 3
   },
   "file_extension": ".py",
   "mimetype": "text/x-python",
   "name": "python",
   "nbconvert_exporter": "python",
   "pygments_lexer": "ipython3",
   "version": "3.13.5"
  }
 },
 "nbformat": 4,
 "nbformat_minor": 5
}
