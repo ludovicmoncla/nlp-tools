{
 "cells": [
  {
   "cell_type": "markdown",
   "id": "6fa4b365",
   "metadata": {},
   "source": [
    "# Spelling Normalization with LLM: Experiments on Diderot Encyclopédie\n",
    "\n",
    "Ollama :https://ollama.com\n",
    "\n",
    "### Models\n",
    "\n",
    "https://ollama.com/library/gemma3:4b"
   ]
  },
  {
   "cell_type": "markdown",
   "id": "7b7f9f69",
   "metadata": {},
   "source": [
    "## Chargement des données"
   ]
  },
  {
   "cell_type": "code",
   "execution_count": 1,
   "id": "f2fd64bd",
   "metadata": {},
   "outputs": [],
   "source": [
    "import pandas as pd"
   ]
  },
  {
   "cell_type": "code",
   "execution_count": null,
   "id": "caa96d7f",
   "metadata": {},
   "outputs": [
    {
     "data": {
      "text/html": [
       "<div>\n",
       "<style scoped>\n",
       "    .dataframe tbody tr th:only-of-type {\n",
       "        vertical-align: middle;\n",
       "    }\n",
       "\n",
       "    .dataframe tbody tr th {\n",
       "        vertical-align: top;\n",
       "    }\n",
       "\n",
       "    .dataframe thead th {\n",
       "        text-align: right;\n",
       "    }\n",
       "</style>\n",
       "<table border=\"1\" class=\"dataframe\">\n",
       "  <thead>\n",
       "    <tr style=\"text-align: right;\">\n",
       "      <th></th>\n",
       "      <th>volume</th>\n",
       "      <th>numero</th>\n",
       "      <th>head</th>\n",
       "      <th>author</th>\n",
       "      <th>artfl_domain</th>\n",
       "      <th>geode_domain</th>\n",
       "      <th>text</th>\n",
       "    </tr>\n",
       "  </thead>\n",
       "  <tbody>\n",
       "    <tr>\n",
       "      <th>0</th>\n",
       "      <td>1</td>\n",
       "      <td>1</td>\n",
       "      <td>Title Page</td>\n",
       "      <td>unsigned</td>\n",
       "      <td>unclassified</td>\n",
       "      <td>Philosophie</td>\n",
       "      <td>ENCYCLOPÉDIE, DICTIONNAIRE RAISONNÉ DES SCIENC...</td>\n",
       "    </tr>\n",
       "    <tr>\n",
       "      <th>1</th>\n",
       "      <td>1</td>\n",
       "      <td>2</td>\n",
       "      <td>A MONSEIGNEUR LE COMTE D'ARGENSON</td>\n",
       "      <td>Diderot &amp; d'Alembert</td>\n",
       "      <td>unclassified</td>\n",
       "      <td>Philosophie</td>\n",
       "      <td>A MONSEIGNEUR LE COMTE D'ARGENSON, MINISTRE ET...</td>\n",
       "    </tr>\n",
       "    <tr>\n",
       "      <th>2</th>\n",
       "      <td>1</td>\n",
       "      <td>3</td>\n",
       "      <td>DISCOURS PRÉLIMINAIRE DES EDITEURS</td>\n",
       "      <td>d'Alembert</td>\n",
       "      <td>unclassified</td>\n",
       "      <td>Belles-lettres</td>\n",
       "      <td>DISCOURS PRÉLIMINAIRE DES EDITEURS. L'Encyclop...</td>\n",
       "    </tr>\n",
       "    <tr>\n",
       "      <th>3</th>\n",
       "      <td>1</td>\n",
       "      <td>5</td>\n",
       "      <td>A, a &amp; a</td>\n",
       "      <td>Dumarsais5</td>\n",
       "      <td>Grammaire</td>\n",
       "      <td>Philosophie</td>\n",
       "      <td>A, a &amp; a s.m. (ordre Encyclopéd. Entend. Scien...</td>\n",
       "    </tr>\n",
       "    <tr>\n",
       "      <th>4</th>\n",
       "      <td>1</td>\n",
       "      <td>6</td>\n",
       "      <td>A</td>\n",
       "      <td>Dumarsais5</td>\n",
       "      <td>unclassified</td>\n",
       "      <td>Philosophie</td>\n",
       "      <td>A, mot, est 1. la troisieme personne du présen...</td>\n",
       "    </tr>\n",
       "  </tbody>\n",
       "</table>\n",
       "</div>"
      ],
      "text/plain": [
       "   volume  numero                                head                author  \\\n",
       "0       1       1                          Title Page              unsigned   \n",
       "1       1       2   A MONSEIGNEUR LE COMTE D'ARGENSON  Diderot & d'Alembert   \n",
       "2       1       3  DISCOURS PRÉLIMINAIRE DES EDITEURS            d'Alembert   \n",
       "3       1       5                            A, a & a            Dumarsais5   \n",
       "4       1       6                                   A            Dumarsais5   \n",
       "\n",
       "   artfl_domain    geode_domain  \\\n",
       "0  unclassified     Philosophie   \n",
       "1  unclassified     Philosophie   \n",
       "2  unclassified  Belles-lettres   \n",
       "3     Grammaire     Philosophie   \n",
       "4  unclassified     Philosophie   \n",
       "\n",
       "                                                text  \n",
       "0  ENCYCLOPÉDIE, DICTIONNAIRE RAISONNÉ DES SCIENC...  \n",
       "1  A MONSEIGNEUR LE COMTE D'ARGENSON, MINISTRE ET...  \n",
       "2  DISCOURS PRÉLIMINAIRE DES EDITEURS. L'Encyclop...  \n",
       "3  A, a & a s.m. (ordre Encyclopéd. Entend. Scien...  \n",
       "4  A, mot, est 1. la troisieme personne du présen...  "
      ]
     },
     "execution_count": 11,
     "metadata": {},
     "output_type": "execute_result"
    }
   ],
   "source": [
    "df = pd.read_csv('data/EDdA_dataset_articles.zip', sep='\\t')\n",
    "df.head() # affiche les 5 première lignes du dataframe"
   ]
  },
  {
   "cell_type": "markdown",
   "id": "6384927a",
   "metadata": {},
   "source": [
    "## Sélection aléatoire d'un échantillon de 50 articles"
   ]
  },
  {
   "cell_type": "code",
   "execution_count": 17,
   "id": "3fb4cb8e",
   "metadata": {},
   "outputs": [],
   "source": [
    "df_sample = df.sample(n=5, random_state=42)"
   ]
  },
  {
   "cell_type": "code",
   "execution_count": 18,
   "id": "a32256c0",
   "metadata": {},
   "outputs": [
    {
     "data": {
      "text/html": [
       "<div>\n",
       "<style scoped>\n",
       "    .dataframe tbody tr th:only-of-type {\n",
       "        vertical-align: middle;\n",
       "    }\n",
       "\n",
       "    .dataframe tbody tr th {\n",
       "        vertical-align: top;\n",
       "    }\n",
       "\n",
       "    .dataframe thead th {\n",
       "        text-align: right;\n",
       "    }\n",
       "</style>\n",
       "<table border=\"1\" class=\"dataframe\">\n",
       "  <thead>\n",
       "    <tr style=\"text-align: right;\">\n",
       "      <th></th>\n",
       "      <th>volume</th>\n",
       "      <th>numero</th>\n",
       "      <th>head</th>\n",
       "      <th>author</th>\n",
       "      <th>artfl_domain</th>\n",
       "      <th>geode_domain</th>\n",
       "      <th>text</th>\n",
       "    </tr>\n",
       "  </thead>\n",
       "  <tbody>\n",
       "    <tr>\n",
       "      <th>33382</th>\n",
       "      <td>8</td>\n",
       "      <td>2534</td>\n",
       "      <td>Jeux (Salle de)</td>\n",
       "      <td>unsigned</td>\n",
       "      <td>unclassified</td>\n",
       "      <td>Histoire</td>\n",
       "      <td>Jeux (Salle de). Voyez Théatre, Amphithéatre, &amp;c.</td>\n",
       "    </tr>\n",
       "    <tr>\n",
       "      <th>65379</th>\n",
       "      <td>15</td>\n",
       "      <td>3886</td>\n",
       "      <td>TAGETES</td>\n",
       "      <td>Jaucourt</td>\n",
       "      <td>Botanique</td>\n",
       "      <td>Histoire naturelle</td>\n",
       "      <td>TAGETES, s. m. (Botan.) Tournefort distingue d...</td>\n",
       "    </tr>\n",
       "    <tr>\n",
       "      <th>50736</th>\n",
       "      <td>12</td>\n",
       "      <td>3090</td>\n",
       "      <td>Plainte</td>\n",
       "      <td>Boucher d'Argis</td>\n",
       "      <td>Jurisprudence</td>\n",
       "      <td>Droit Jurisprudence</td>\n",
       "      <td>Plainte, s. f. (Jurisprud.) est une déclaratio...</td>\n",
       "    </tr>\n",
       "    <tr>\n",
       "      <th>50407</th>\n",
       "      <td>12</td>\n",
       "      <td>2761</td>\n",
       "      <td>Pincer un livre</td>\n",
       "      <td>unsigned</td>\n",
       "      <td>Relieur</td>\n",
       "      <td>Beaux-arts</td>\n",
       "      <td>Pincer un livre, (terme de Relieur.) c'est app...</td>\n",
       "    </tr>\n",
       "    <tr>\n",
       "      <th>33244</th>\n",
       "      <td>8</td>\n",
       "      <td>2396</td>\n",
       "      <td>Identité</td>\n",
       "      <td>unsigned</td>\n",
       "      <td>Grammaire</td>\n",
       "      <td>Philosophie</td>\n",
       "      <td>Identité, (Gramm.) terme introduit récemment d...</td>\n",
       "    </tr>\n",
       "  </tbody>\n",
       "</table>\n",
       "</div>"
      ],
      "text/plain": [
       "       volume  numero             head           author   artfl_domain  \\\n",
       "33382       8    2534  Jeux (Salle de)         unsigned   unclassified   \n",
       "65379      15    3886          TAGETES         Jaucourt      Botanique   \n",
       "50736      12    3090          Plainte  Boucher d'Argis  Jurisprudence   \n",
       "50407      12    2761  Pincer un livre         unsigned        Relieur   \n",
       "33244       8    2396         Identité         unsigned      Grammaire   \n",
       "\n",
       "              geode_domain                                               text  \n",
       "33382             Histoire  Jeux (Salle de). Voyez Théatre, Amphithéatre, &c.  \n",
       "65379   Histoire naturelle  TAGETES, s. m. (Botan.) Tournefort distingue d...  \n",
       "50736  Droit Jurisprudence  Plainte, s. f. (Jurisprud.) est une déclaratio...  \n",
       "50407           Beaux-arts  Pincer un livre, (terme de Relieur.) c'est app...  \n",
       "33244          Philosophie  Identité, (Gramm.) terme introduit récemment d...  "
      ]
     },
     "execution_count": 18,
     "metadata": {},
     "output_type": "execute_result"
    }
   ],
   "source": [
    "df_sample.head(10) # affiche les 10 première lignes de l'échantillon"
   ]
  },
  {
   "cell_type": "markdown",
   "id": "8a7ce22f",
   "metadata": {},
   "source": [
    "## Traitement des textes par le LLM"
   ]
  },
  {
   "cell_type": "code",
   "execution_count": 19,
   "id": "8b6b359d",
   "metadata": {},
   "outputs": [],
   "source": [
    "import ollama\n",
    "import difflib\n",
    "from tqdm import tqdm"
   ]
  },
  {
   "cell_type": "code",
   "execution_count": 20,
   "id": "1ac6ec6f",
   "metadata": {},
   "outputs": [],
   "source": [
    "model_names = ['gemma3:4b','deepseek-r1:8b','llama3.1:8b','mistral:7b']\n",
    "model_name = model_names[0]"
   ]
  },
  {
   "cell_type": "code",
   "execution_count": 21,
   "id": "d0b72cd7",
   "metadata": {},
   "outputs": [],
   "source": [
    "\n",
    "preprompt = \"Corrige l’orthographe de ce texte en respectant strictement les contraintes suivantes : \" \\\n",
    "\"1. utiliser une orthographe moderne et standardisée, \" \\\n",
    "\"2. conserver le vocabulaire, \" \\\n",
    "\"3. conserver la ponctuation, \" \\\n",
    "\"4. ne pas supprimer ou ajouter de virgules, \" \\\n",
    "\"5. ne pas modifier les majuscules, \" \\\n",
    "\"6. corriger les noms propres lorsque cela est nécessaire. \"\n"
   ]
  },
  {
   "cell_type": "code",
   "execution_count": 22,
   "id": "808cb506",
   "metadata": {},
   "outputs": [
    {
     "name": "stderr",
     "output_type": "stream",
     "text": [
      "Processing text for gemma3:4b: 100%|██████████| 5/5 [01:29<00:00, 17.90s/it]\n"
     ]
    }
   ],
   "source": [
    "model_names = ['gemma3:4b','deepseek-r1:8b','llama3.1:8b','mistral:7b']\n",
    "model_name = model_names[0]\n",
    "tqdm.pandas(desc=f\"Processing text for {model_name}\")\n",
    "df_sample[\"text_\" + model_name] = df_sample[\"text\"].progress_apply(lambda x: ollama.generate(model=model_name, prompt=preprompt+f\"\\nVoici le texte :\\n\\\"\\\"\\\"\\n{x}\\n\\\"\\\"\\\"\")['response'])\n"
   ]
  },
  {
   "cell_type": "code",
   "execution_count": 23,
   "id": "98aea62b",
   "metadata": {},
   "outputs": [
    {
     "data": {
      "text/html": [
       "<div>\n",
       "<style scoped>\n",
       "    .dataframe tbody tr th:only-of-type {\n",
       "        vertical-align: middle;\n",
       "    }\n",
       "\n",
       "    .dataframe tbody tr th {\n",
       "        vertical-align: top;\n",
       "    }\n",
       "\n",
       "    .dataframe thead th {\n",
       "        text-align: right;\n",
       "    }\n",
       "</style>\n",
       "<table border=\"1\" class=\"dataframe\">\n",
       "  <thead>\n",
       "    <tr style=\"text-align: right;\">\n",
       "      <th></th>\n",
       "      <th>volume</th>\n",
       "      <th>numero</th>\n",
       "      <th>head</th>\n",
       "      <th>author</th>\n",
       "      <th>artfl_domain</th>\n",
       "      <th>geode_domain</th>\n",
       "      <th>text</th>\n",
       "      <th>text_gemma3:4b</th>\n",
       "    </tr>\n",
       "  </thead>\n",
       "  <tbody>\n",
       "    <tr>\n",
       "      <th>33382</th>\n",
       "      <td>8</td>\n",
       "      <td>2534</td>\n",
       "      <td>Jeux (Salle de)</td>\n",
       "      <td>unsigned</td>\n",
       "      <td>unclassified</td>\n",
       "      <td>Histoire</td>\n",
       "      <td>Jeux (Salle de). Voyez Théatre, Amphithéatre, &amp;c.</td>\n",
       "      <td>Jeux (Salle de). Voyez Théâtre, Amphithéâtre, &amp;c.</td>\n",
       "    </tr>\n",
       "    <tr>\n",
       "      <th>65379</th>\n",
       "      <td>15</td>\n",
       "      <td>3886</td>\n",
       "      <td>TAGETES</td>\n",
       "      <td>Jaucourt</td>\n",
       "      <td>Botanique</td>\n",
       "      <td>Histoire naturelle</td>\n",
       "      <td>TAGETES, s. m. (Botan.) Tournefort distingue d...</td>\n",
       "      <td>TAGETES, s. m. (Botan.) Tournefort distingue d...</td>\n",
       "    </tr>\n",
       "    <tr>\n",
       "      <th>50736</th>\n",
       "      <td>12</td>\n",
       "      <td>3090</td>\n",
       "      <td>Plainte</td>\n",
       "      <td>Boucher d'Argis</td>\n",
       "      <td>Jurisprudence</td>\n",
       "      <td>Droit Jurisprudence</td>\n",
       "      <td>Plainte, s. f. (Jurisprud.) est une déclaratio...</td>\n",
       "      <td>Plainte, s. f. (Jurisprud.) est une déclaratio...</td>\n",
       "    </tr>\n",
       "    <tr>\n",
       "      <th>50407</th>\n",
       "      <td>12</td>\n",
       "      <td>2761</td>\n",
       "      <td>Pincer un livre</td>\n",
       "      <td>unsigned</td>\n",
       "      <td>Relieur</td>\n",
       "      <td>Beaux-arts</td>\n",
       "      <td>Pincer un livre, (terme de Relieur.) c'est app...</td>\n",
       "      <td>Pincer un livre (terme de relieur) c’est appro...</td>\n",
       "    </tr>\n",
       "    <tr>\n",
       "      <th>33244</th>\n",
       "      <td>8</td>\n",
       "      <td>2396</td>\n",
       "      <td>Identité</td>\n",
       "      <td>unsigned</td>\n",
       "      <td>Grammaire</td>\n",
       "      <td>Philosophie</td>\n",
       "      <td>Identité, (Gramm.) terme introduit récemment d...</td>\n",
       "      <td>Identité (Gramm.), terme introduit récemment d...</td>\n",
       "    </tr>\n",
       "  </tbody>\n",
       "</table>\n",
       "</div>"
      ],
      "text/plain": [
       "       volume  numero             head           author   artfl_domain  \\\n",
       "33382       8    2534  Jeux (Salle de)         unsigned   unclassified   \n",
       "65379      15    3886          TAGETES         Jaucourt      Botanique   \n",
       "50736      12    3090          Plainte  Boucher d'Argis  Jurisprudence   \n",
       "50407      12    2761  Pincer un livre         unsigned        Relieur   \n",
       "33244       8    2396         Identité         unsigned      Grammaire   \n",
       "\n",
       "              geode_domain                                               text  \\\n",
       "33382             Histoire  Jeux (Salle de). Voyez Théatre, Amphithéatre, &c.   \n",
       "65379   Histoire naturelle  TAGETES, s. m. (Botan.) Tournefort distingue d...   \n",
       "50736  Droit Jurisprudence  Plainte, s. f. (Jurisprud.) est une déclaratio...   \n",
       "50407           Beaux-arts  Pincer un livre, (terme de Relieur.) c'est app...   \n",
       "33244          Philosophie  Identité, (Gramm.) terme introduit récemment d...   \n",
       "\n",
       "                                          text_gemma3:4b  \n",
       "33382  Jeux (Salle de). Voyez Théâtre, Amphithéâtre, &c.  \n",
       "65379  TAGETES, s. m. (Botan.) Tournefort distingue d...  \n",
       "50736  Plainte, s. f. (Jurisprud.) est une déclaratio...  \n",
       "50407  Pincer un livre (terme de relieur) c’est appro...  \n",
       "33244  Identité (Gramm.), terme introduit récemment d...  "
      ]
     },
     "execution_count": 23,
     "metadata": {},
     "output_type": "execute_result"
    }
   ],
   "source": [
    "df_sample.head()"
   ]
  },
  {
   "cell_type": "markdown",
   "id": "c31c4c41",
   "metadata": {},
   "source": [
    "## Export du dataframe vers un fichier CSV\n"
   ]
  },
  {
   "cell_type": "code",
   "execution_count": 25,
   "id": "eb298622",
   "metadata": {},
   "outputs": [],
   "source": [
    "df_sample.to_excel(\"output/sample_avec_normalisation.xlsx\", index=False)"
   ]
  },
  {
   "cell_type": "markdown",
   "id": "f32b3810",
   "metadata": {},
   "source": [
    "## Création des fichiers HTML pour la visualisation des différences"
   ]
  },
  {
   "cell_type": "code",
   "execution_count": 29,
   "id": "c179ddfe",
   "metadata": {},
   "outputs": [
    {
     "name": "stderr",
     "output_type": "stream",
     "text": [
      "Creating diffs for gemma3:4b: 100%|██████████| 5/5 [00:00<00:00, 48.07it/s]\n"
     ]
    },
    {
     "data": {
      "text/plain": [
       "33382    None\n",
       "65379    None\n",
       "50736    None\n",
       "50407    None\n",
       "33244    None\n",
       "dtype: object"
      ]
     },
     "execution_count": 29,
     "metadata": {},
     "output_type": "execute_result"
    }
   ],
   "source": [
    "# Création d'un comparateur\n",
    "d = difflib.HtmlDiff(wrapcolumn=60)\n",
    "\n",
    "def create_diff(id, input_txt, result, model_name):\n",
    "    # Génération du diff en HTML\n",
    "    html_diff = d.make_file(\n",
    "        input_txt.splitlines(),\n",
    "        result.splitlines(),\n",
    "        fromdesc=\"Texte original\",\n",
    "        todesc=\"Texte modifié\"\n",
    "    )\n",
    "\n",
    "    with open(f\"./diff/diff_{model_name}_{id}.html\", \"w\", encoding=\"utf-8\") as f:\n",
    "        f.write(html_diff)\n",
    "\n",
    "tqdm.pandas(desc=f\"Creating diffs for {model_name}\")\n",
    "df_sample.progress_apply(lambda row: create_diff(str(row['volume'])+\"_\"+str(row['numero'])+\"_\"+row['head'], row['text'], row[\"text_\" + model_name], model_name), axis=1)"
   ]
  },
  {
   "cell_type": "code",
   "execution_count": null,
   "id": "9b3e781d",
   "metadata": {},
   "outputs": [],
   "source": []
  }
 ],
 "metadata": {
  "kernelspec": {
   "display_name": ".venv (3.13.5)",
   "language": "python",
   "name": "python3"
  },
  "language_info": {
   "codemirror_mode": {
    "name": "ipython",
    "version": 3
   },
   "file_extension": ".py",
   "mimetype": "text/x-python",
   "name": "python",
   "nbconvert_exporter": "python",
   "pygments_lexer": "ipython3",
   "version": "3.13.5"
  }
 },
 "nbformat": 4,
 "nbformat_minor": 5
}
