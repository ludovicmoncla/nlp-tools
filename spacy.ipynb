{
 "cells": [
  {
   "attachments": {},
   "cell_type": "markdown",
   "id": "3fe6e197",
   "metadata": {},
   "source": [
    "# spaCy NER\n",
    "\n",
    "https://spacy.io/\n",
    "\n",
    "## Install spaCy\n",
    "\n",
    "* Install spacy package:\n",
    "```bash\n",
    "pip install -U spacy\n",
    "```\n",
    "\n",
    "* Install spacy package for Apple M1 chip:\n",
    "```bash\n",
    "pip install -U 'spacy[apple]'\n",
    "```\n",
    "\n",
    "* Install french model:\n",
    "```bash\n",
    "python -m spacy download fr_core_news_sm\n",
    "```"
   ]
  },
  {
   "cell_type": "markdown",
   "id": "53299b6b",
   "metadata": {},
   "source": [
    "## Import packages"
   ]
  },
  {
   "cell_type": "code",
   "execution_count": null,
   "id": "6e232997",
   "metadata": {},
   "outputs": [],
   "source": [
    "import os\n",
    "import spacy\n",
    "from spacy import displacy\n",
    "from spacy_conll import init_parser"
   ]
  },
  {
   "cell_type": "markdown",
   "id": "7e9bf6a6",
   "metadata": {},
   "source": [
    "## Parse text"
   ]
  },
  {
   "cell_type": "code",
   "execution_count": null,
   "id": "23b21a15",
   "metadata": {},
   "outputs": [],
   "source": [
    "# Load French model tokenizer, tagger, parser and NER\n",
    "nlp = spacy.load(\"fr_core_news_sm\")\n",
    "nlp.add_pipe(\"conll_formatter\", last=True)"
   ]
  },
  {
   "cell_type": "code",
   "execution_count": null,
   "id": "80c01c8f",
   "metadata": {},
   "outputs": [],
   "source": [
    "# Process text\n",
    "text = \"ABYDE ou ABYDOS, sub. Ville maritime de Phrygie vis-à-vis de Sestos.\"\n",
    "text += \"Xercès joignit ces deux endroits éloignés l'un de l'autre de sept stades, par le pont qu'il jetta sur l'Hellespont.\"\n",
    "doc = nlp(text)"
   ]
  },
  {
   "cell_type": "markdown",
   "id": "80f564c5",
   "metadata": {},
   "source": [
    "The Doc object is a sequence of tokens that contains not just the original text but all the results produced by the spaCy model after processing the text\n",
    "\n",
    "* Display tokens and their following attributes:\n",
    "    * **Text**: The original word text.\n",
    "    * **Lemma**: The base form of the word.\n",
    "    * **POS**: The simple UPOS part-of-speech tag.\n",
    "    * **Tag**: The detailed part-of-speech tag.\n",
    "    * **Dep**: Syntactic dependency, i.e. the relation between tokens.\n",
    "    * **Shape**: The word shape – capitalization, punctuation, digits.\n",
    "    * **is alpha**: Is the token an alpha character?\n",
    "    * **is stop**: Is the token part of a stop list, i.e. the most common words of the language?"
   ]
  },
  {
   "cell_type": "code",
   "execution_count": null,
   "id": "32d3a667",
   "metadata": {},
   "outputs": [],
   "source": [
    "for token in doc:\n",
    "    print(token.text, token.lemma_, token.pos_, token.tag_, token.dep_,\n",
    "            token.shape_, token.is_alpha, token.is_stop)"
   ]
  },
  {
   "attachments": {},
   "cell_type": "markdown",
   "id": "c7da589e",
   "metadata": {},
   "source": [
    "https://spacy.io/usage/visualizers\n",
    "\n",
    "* Display syntax dependency tree: "
   ]
  },
  {
   "cell_type": "code",
   "execution_count": null,
   "id": "dd2b5e3c",
   "metadata": {},
   "outputs": [],
   "source": [
    "sentence_spans = list(doc.sents)\n",
    "displacy.render(sentence_spans, style=\"dep\", jupyter=True)"
   ]
  },
  {
   "cell_type": "markdown",
   "id": "f32ca808",
   "metadata": {},
   "source": [
    "* Print the named entities:"
   ]
  },
  {
   "cell_type": "code",
   "execution_count": null,
   "id": "edc8c318",
   "metadata": {},
   "outputs": [],
   "source": [
    "print(doc.ents)\n",
    "\n",
    "# Printing labels of entities.\n",
    "for entity in doc.ents:\n",
    "    print(entity.text,'->',entity.label_)"
   ]
  },
  {
   "cell_type": "markdown",
   "id": "99342228",
   "metadata": {},
   "source": [
    "* Display NER annotations:"
   ]
  },
  {
   "cell_type": "code",
   "execution_count": null,
   "id": "74cba76f",
   "metadata": {},
   "outputs": [],
   "source": [
    "displacy.render(doc, style=\"ent\", jupyter=True)"
   ]
  },
  {
   "cell_type": "markdown",
   "id": "4fcf57db",
   "metadata": {},
   "source": [
    "* Print annotations in CONLL format:"
   ]
  },
  {
   "cell_type": "code",
   "execution_count": null,
   "id": "dc1cb2d0",
   "metadata": {},
   "outputs": [],
   "source": [
    "print(doc._.conll_str)"
   ]
  },
  {
   "cell_type": "markdown",
   "id": "3025db4e",
   "metadata": {},
   "source": [
    "* Write the doc to a file (conll format):"
   ]
  },
  {
   "cell_type": "code",
   "execution_count": null,
   "id": "83ef2140",
   "metadata": {},
   "outputs": [],
   "source": [
    "with open(os.path.join('output', 'sample_spacy.conllu'), 'w', encoding='utf-8') as file:\n",
    "    file.write(doc._.conll_str)"
   ]
  }
 ],
 "metadata": {
  "kernelspec": {
   "display_name": "ner-tools-py39",
   "language": "python",
   "name": "python3"
  },
  "language_info": {
   "codemirror_mode": {
    "name": "ipython",
    "version": 3
   },
   "file_extension": ".py",
   "mimetype": "text/x-python",
   "name": "python",
   "nbconvert_exporter": "python",
   "pygments_lexer": "ipython3",
   "version": "3.9.18"
  },
  "vscode": {
   "interpreter": {
    "hash": "8562af0768d992834d09b3e0cdd266643405e10e4c5bb53a8e2dacd8f544c2f4"
   }
  }
 },
 "nbformat": 4,
 "nbformat_minor": 5
}
